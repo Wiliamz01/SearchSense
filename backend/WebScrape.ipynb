{
 "cells": [
  {
   "attachments": {},
   "cell_type": "markdown",
   "id": "bfa0d42c",
   "metadata": {},
   "source": [
    "# Known Problem:\n",
    "- **Unresolved**\n",
    "    1. how to solve for eigen vectors\n",
    "- **Partially Resolved**\n",
    "    1. Certain websites cause the error of, specified here: https://stackoverflow.com/questions/23013220/max-retries-exceeded-with-url-in-requests, which is a connection error. \n",
    "        - this appears to be windows specific as this was not a relevant issue when testing code in ubuntu 22.04, some forum reflect similar message\n",
    "        - FAILED SOLUTION: first response in that stackoverflow page, still kept the stuff bc it seemed like better QOL\n",
    "        - ATTEMPTED SOLUTION: used try and except. NOTE: this solution is not ideal as it does not resolve the issue, it just ignores it and moves on.\n",
    "- **Resolved**\n",
    "    1. The search \"what is a taylor series\" returns SSLCertVerification Error.\n",
    "        - this resolution does not consider the security of the websites being accessed, potentially use try except to have the request verify when possible and not break when cannot verify\n",
    "        - ATTEMPTED SOLUTION: used try except to use verify=False when ssl error occurs. Nested try except to ensure that both connection error and ssl error are handled.\n",
    "\n",
    "    \n",
    "\n",
    "    "
   ]
  },
  {
   "attachments": {},
   "cell_type": "markdown",
   "id": "f736e92b-fcbc-4051-9b96-f1667b546b35",
   "metadata": {},
   "source": [
    "# Part 1: Data Acquisition & Preparation\n",
    "\n",
    "## Collecting & Preprocessing Our Data"
   ]
  },
  {
   "cell_type": "code",
   "execution_count": 1,
   "id": "be0a22b4-8ee2-4ff9-afd6-ec408d9c905c",
   "metadata": {},
   "outputs": [],
   "source": [
    "#imports\n",
    "import requests #send HTTP requests to web pages and retrieve their content\n",
    "from requests.adapters import HTTPAdapter\n",
    "from urllib3.util.retry import Retry\n",
    "from bs4 import BeautifulSoup\n",
    "from nltk.tokenize import word_tokenize\n",
    "from nltk.stem import WordNetLemmatizer\n",
    "from sklearn.feature_extraction.text import TfidfVectorizer\n",
    "import nltk\n",
    "from urllib.parse import urlparse, urljoin\n",
    "import pandas as pd\n",
    "from nltk.corpus import stopwords\n",
    "import http.client\n",
    "import re"
   ]
  },
  {
   "cell_type": "code",
   "execution_count": 2,
   "id": "cf32bf2a-fe64-40af-b413-4f2737bbc288",
   "metadata": {},
   "outputs": [
    {
     "name": "stderr",
     "output_type": "stream",
     "text": [
      "[nltk_data] Downloading package punkt to /home/william/nltk_data...\n",
      "[nltk_data]   Package punkt is already up-to-date!\n",
      "[nltk_data] Downloading package stopwords to\n",
      "[nltk_data]     /home/william/nltk_data...\n",
      "[nltk_data]   Package stopwords is already up-to-date!\n",
      "[nltk_data] Downloading package wordnet to /home/william/nltk_data...\n",
      "[nltk_data]   Package wordnet is already up-to-date!\n"
     ]
    },
    {
     "data": {
      "text/plain": [
       "True"
      ]
     },
     "execution_count": 2,
     "metadata": {},
     "output_type": "execute_result"
    }
   ],
   "source": [
    "import ssl\n",
    "nltk.download('punkt')\n",
    "#remove filler words from an example column\n",
    "nltk.download(\"stopwords\")\n",
    "nltk.download('wordnet')"
   ]
  },
  {
   "cell_type": "code",
   "execution_count": 4,
   "id": "9215e926-9d63-4b94-9183-659fbc228d9b",
   "metadata": {},
   "outputs": [
    {
     "name": "stderr",
     "output_type": "stream",
     "text": [
      "Scraping...:   0%|          | 0/1 [00:00<?, ?it/s]Some characters could not be decoded, and were replaced with REPLACEMENT CHARACTER.\n",
      "Some characters could not be decoded, and were replaced with REPLACEMENT CHARACTER.\n",
      "Some characters could not be decoded, and were replaced with REPLACEMENT CHARACTER.\n",
      "Some characters could not be decoded, and were replaced with REPLACEMENT CHARACTER.\n",
      "Scraping...: 100%|██████████| 1/1 [00:04<00:00,  4.49s/it]"
     ]
    },
    {
     "name": "stdout",
     "output_type": "stream",
     "text": [
      "Grabbed search results\n"
     ]
    },
    {
     "name": "stderr",
     "output_type": "stream",
     "text": [
      "\n"
     ]
    },
    {
     "name": "stderr",
     "output_type": "stream",
     "text": [
      "Some characters could not be decoded, and were replaced with REPLACEMENT CHARACTER.\n"
     ]
    }
   ],
   "source": [
    "import concurrent.futures\n",
    "from tqdm import tqdm\n",
    "#Working implementation\n",
    "\n",
    "session = requests.Session()\n",
    "retry = Retry(connect=2, backoff_factor=0.5)\n",
    "adapter = HTTPAdapter(max_retries=retry)\n",
    "session.mount('http://', adapter)\n",
    "session.mount('https://', adapter)\n",
    "# Define the search query and retrieve search results\n",
    "search_query = input(\"What would you like to search up?\")\n",
    "search_engine_url = \"https://www.google.com/search?q=\"\n",
    "\n",
    "# Set headers to mimic a browser request\n",
    "headers = {\n",
    "    \"User-Agent\": \"Mozilla/5.0 (Windows NT 10.0; Win64; x64) AppleWebKit/537.36 (KHTML, like Gecko) Chrome/91.0.4472.124 Safari/537.36\"\n",
    "}\n",
    "\n",
    "# Number of search result pages to retrieve (each page typically has 10 results)\n",
    "num_pages = 5\n",
    "\n",
    "all_urls = []\n",
    "search_results = []\n",
    "\n",
    "for page in range(num_pages):\n",
    "    # Calculate the start index for the current page\n",
    "    start_index = page * 10\n",
    "\n",
    "    try:\n",
    "        # Make a GET request to retrieve the search result page\n",
    "        response = session.get(search_engine_url + search_query + f\"&start={start_index}\", headers=headers)\n",
    "        response.raise_for_status()  # Raise an exception for non-2xx status codes\n",
    "\n",
    "    except requests.exceptions.RequestException as e:\n",
    "        print(\"Error occurred for page\", page+1)\n",
    "        print(\"Exception:\", e)\n",
    "        continue\n",
    "\n",
    "    # Parse and extract information from the search result page\n",
    "    soup = BeautifulSoup(response.content, \"html.parser\")\n",
    "\n",
    "    for result in soup.select(\"div.g\"):\n",
    "        title_element = result.select_one(\"h3\")\n",
    "        if title_element:\n",
    "            title = title_element.get_text()\n",
    "            url_element = result.find(\"a\")\n",
    "            if url_element:\n",
    "                url = url_element[\"href\"]\n",
    "                parsed_url = urlparse(url)\n",
    "                if parsed_url.scheme == \"\":\n",
    "                    # Relative URL, convert it to absolute URL\n",
    "                    base_url = response.url\n",
    "                    url = urljoin(base_url, url)\n",
    "                all_urls.append(url)\n",
    "\n",
    "\n",
    "def get_response(url):\n",
    "    try:\n",
    "        response = session.get(url, verify=True, headers=headers)\n",
    "        result_soup = BeautifulSoup(response.content, \"html.parser\")\n",
    "        text = result_soup.get_text()\n",
    "        text = ' '.join(text.split())\n",
    "        search_results.append({\"Title\": title, \"URL\": url, \"Text\": text})\n",
    "    except http.client.IncompleteRead:\n",
    "        print(\"Error: Incomplete read for:\", url)\n",
    "        return None\n",
    "    except Exception as e:\n",
    "        print(\"Error: Failed to retrieve content for:\", url)\n",
    "        print(\"Exception:\", e)\n",
    "        return None\n",
    "\n",
    "executor = concurrent.futures.ThreadPoolExecutor(max_workers=10)\n",
    "\n",
    "for cur_url in all_urls:\n",
    "    futures = [\n",
    "        executor.submit(\n",
    "            get_response,\n",
    "            cur_url\n",
    "        )\n",
    "    ]\n",
    "\n",
    "results = []\n",
    "with tqdm(total=len(futures), desc=\"Scraping...\") as pbar:\n",
    "    for future in concurrent.futures.as_completed(futures):\n",
    "        result = future.result()\n",
    "        results.append(results)\n",
    "        pbar.update(1)\n",
    "\n",
    "    \n",
    "print(\"Grabbed search results\")\n",
    "\n",
    "# Process the search results as desired"
   ]
  },
  {
   "cell_type": "code",
   "execution_count": 5,
   "id": "ace71d1c-a252-4d3c-a969-7d90840edc84",
   "metadata": {},
   "outputs": [
    {
     "name": "stdout",
     "output_type": "stream",
     "text": [
      "45\n"
     ]
    },
    {
     "data": {
      "text/html": [
       "<div>\n",
       "<style scoped>\n",
       "    .dataframe tbody tr th:only-of-type {\n",
       "        vertical-align: middle;\n",
       "    }\n",
       "\n",
       "    .dataframe tbody tr th {\n",
       "        vertical-align: top;\n",
       "    }\n",
       "\n",
       "    .dataframe thead th {\n",
       "        text-align: right;\n",
       "    }\n",
       "</style>\n",
       "<table border=\"1\" class=\"dataframe\">\n",
       "  <thead>\n",
       "    <tr style=\"text-align: right;\">\n",
       "      <th></th>\n",
       "      <th>Domain</th>\n",
       "      <th>Title</th>\n",
       "      <th>URL</th>\n",
       "      <th>Text</th>\n",
       "    </tr>\n",
       "  </thead>\n",
       "  <tbody>\n",
       "    <tr>\n",
       "      <th>0</th>\n",
       "      <td>statisticshowto</td>\n",
       "      <td>Complex Analysis Lecture Notes</td>\n",
       "      <td>https://www.statisticshowto.com/calculus-probl...</td>\n",
       "      <td>Complex Analysis - Statistics How To Skip to c...</td>\n",
       "    </tr>\n",
       "    <tr>\n",
       "      <th>1</th>\n",
       "      <td>complex-analysis</td>\n",
       "      <td>Complex Analysis Lecture Notes</td>\n",
       "      <td>https://complex-analysis.com/</td>\n",
       "      <td>Complex Analysis COMPLEX ANALYSIS A Visual and...</td>\n",
       "    </tr>\n",
       "    <tr>\n",
       "      <th>2</th>\n",
       "      <td>medium</td>\n",
       "      <td>Complex Analysis Lecture Notes</td>\n",
       "      <td>https://medium.com/analytics-vidhya/an-introdu...</td>\n",
       "      <td>An Introduction to Complex Analysis and Applic...</td>\n",
       "    </tr>\n",
       "    <tr>\n",
       "      <th>3</th>\n",
       "      <td>britannica</td>\n",
       "      <td>Complex Analysis Lecture Notes</td>\n",
       "      <td>https://www.britannica.com/science/complex-var...</td>\n",
       "      <td>Complex variable | mathematics | Britannica Se...</td>\n",
       "    </tr>\n",
       "    <tr>\n",
       "      <th>4</th>\n",
       "      <td>javiertordable</td>\n",
       "      <td>Complex Analysis Lecture Notes</td>\n",
       "      <td>https://www.javiertordable.com/beauty-complex-...</td>\n",
       "      <td>The Beauty of Complex Analysis – Javier Tordab...</td>\n",
       "    </tr>\n",
       "  </tbody>\n",
       "</table>\n",
       "</div>"
      ],
      "text/plain": [
       "             Domain                           Title  \\\n",
       "0   statisticshowto  Complex Analysis Lecture Notes   \n",
       "1  complex-analysis  Complex Analysis Lecture Notes   \n",
       "2            medium  Complex Analysis Lecture Notes   \n",
       "3        britannica  Complex Analysis Lecture Notes   \n",
       "4    javiertordable  Complex Analysis Lecture Notes   \n",
       "\n",
       "                                                 URL  \\\n",
       "0  https://www.statisticshowto.com/calculus-probl...   \n",
       "1                      https://complex-analysis.com/   \n",
       "2  https://medium.com/analytics-vidhya/an-introdu...   \n",
       "3  https://www.britannica.com/science/complex-var...   \n",
       "4  https://www.javiertordable.com/beauty-complex-...   \n",
       "\n",
       "                                                Text  \n",
       "0  Complex Analysis - Statistics How To Skip to c...  \n",
       "1  Complex Analysis COMPLEX ANALYSIS A Visual and...  \n",
       "2  An Introduction to Complex Analysis and Applic...  \n",
       "3  Complex variable | mathematics | Britannica Se...  \n",
       "4  The Beauty of Complex Analysis – Javier Tordab...  "
      ]
     },
     "execution_count": 5,
     "metadata": {},
     "output_type": "execute_result"
    }
   ],
   "source": [
    "df = pd.DataFrame(search_results)\n",
    "df_bart = pd.DataFrame(search_results)\n",
    "df_bart_unlem = pd.DataFrame(search_results)\n",
    "# Extract domain names from URLs and set as the index for the dataframe\n",
    "tld_pattern = re.compile(r'\\.[a-zA-Z]+$')\n",
    "df['Domain'] = df['URL'].apply(lambda url: re.sub(tld_pattern, '', urlparse(url).netloc.replace(\"www.\", \"\")))\n",
    "df.insert(0, 'Domain', df.pop('Domain'))\n",
    "\n",
    "df_bart['Domain'] = df_bart['URL'].apply(lambda url: re.sub(tld_pattern, '', urlparse(url).netloc.replace(\"www.\", \"\")))\n",
    "df_bart.insert(0, 'Domain', df_bart.pop('Domain'))\n",
    "#Handles the \"Some characters could not be decoded, and were replaced with REPLACEMENT CHARACTER\" exception\n",
    "df_bart['Text'] = df_bart['Text'].str.replace('\\ufffd', '')\n",
    "\n",
    "df_bart_unlem['Domain'] = df_bart_unlem['URL'].apply(lambda url: re.sub(tld_pattern, '', urlparse(url).netloc.replace(\"www.\", \"\")))\n",
    "df_bart_unlem.insert(0, 'Domain', df_bart_unlem.pop('Domain'))\n",
    "#Handles the \"Some characters could not be decoded, and were replaced with REPLACEMENT CHARACTER\" exception\n",
    "df_bart_unlem['Text'] = df_bart_unlem['Text'].str.replace('\\ufffd', '')\n",
    "\n",
    "#unfiltered dataframe\n",
    "print(len(df))\n",
    "df.head()"
   ]
  },
  {
   "cell_type": "code",
   "execution_count": 6,
   "id": "a3caa3ab-5338-4946-9731-efa2f83cc71d",
   "metadata": {},
   "outputs": [],
   "source": [
    "stop_words = stopwords.words(\"english\") #english filler words\n",
    "\n",
    "def preprocess(text):\n",
    "    '''\n",
    "    Input a text block and filter out unneeded characters\n",
    "    returns a filtered text block in the form of a str\n",
    "    Function filters whitespace, numbers, special characters, stopwords; handles case normalization \n",
    "    '''\n",
    "    # Remove special characters and numbers\n",
    "    cleaned_text = re.sub(r\"[^a-zA-Z]+\", \" \", text)\n",
    "    \n",
    "    # Convert to lowercase and split into words\n",
    "    words = cleaned_text.lower().split()\n",
    "    \n",
    "    # Remove stop words and single-character words\n",
    "    filtered_words = [word for word in words if word not in stop_words and len(word) > 1]\n",
    "    lemmatized_text = \" \".join([WordNetLemmatizer().lemmatize(word) for word in filtered_words])\n",
    "    \n",
    "    return lemmatized_text\n",
    "\n",
    "def bart_preprocess(text):\n",
    "\n",
    "    words = text.split()\n",
    "    lemmatized_text = \" \".join([WordNetLemmatizer().lemmatize(word) for word in words])\n",
    "\n",
    "    return lemmatized_text"
   ]
  },
  {
   "cell_type": "code",
   "execution_count": 7,
   "id": "d4372b92-65c2-4d2c-b446-70f1291fd72c",
   "metadata": {},
   "outputs": [
    {
     "name": "stderr",
     "output_type": "stream",
     "text": [
      "Some characters could not be decoded, and were replaced with REPLACEMENT CHARACTER.\n"
     ]
    }
   ],
   "source": [
    "#Properly using the apply() function onto a pandas column\n",
    "#removes both filler words and special characters\n",
    "df[\"Text\"] = df[\"Text\"].apply(preprocess)\n",
    "df_bart[\"Text\"] = df_bart[\"Text\"].apply(bart_preprocess)\n"
   ]
  },
  {
   "attachments": {},
   "cell_type": "markdown",
   "id": "95adfa7b",
   "metadata": {},
   "source": [
    "# NOTE\n",
    "Lemmatization doesn't seem to remove much here"
   ]
  },
  {
   "cell_type": "code",
   "execution_count": 32,
   "id": "abbe60f9-c954-4d21-af98-91cdee578452",
   "metadata": {},
   "outputs": [
    {
     "data": {
      "text/plain": [
       "'How to Find Eigenvalues and Eigenvectors: 8 Steps (with Pictures) GuidesRANDOMLOG IN Log in Social login doe not work in incognito and private browsers. Please log in with your username or email to continue. Facebook Google wikiHow Account No account yet? Create an account EXPLORE CouponsTech Help ProRandom ArticleAbout Us QuizzesContributeTrain Your Brain GameThis Or That Game Popular Categories Arts and EntertainmentArtworkBooksMoviesComputers and ElectronicsComputersPhone SkillsTechnology HacksHealthMen\\'s HealthMental HealthWomen\\'s HealthRelationshipsDatingLoveRelationship Issues Hobbies and CraftsCraftsDrawingGamesEducation & CommunicationCommunication SkillsPersonal DevelopmentStudyingPersonal Care and StyleFashionHair CarePersonal HygieneYouthPersonal CareSchool StuffDating All Categories Arts and EntertainmentFinance and BusinessHome and GardenRelationship Quizzes Cars & Other VehiclesFood and EntertainingPersonal Care and StyleSports and Fitness Computers and ElectronicsHealthPets and AnimalsTravel Education & CommunicationHobbies and CraftsPhilosophy and ReligionWork World Family LifeHolidays and TraditionsRelationshipsYouth HELP US Support wikiHow Community Dashboard Write an Article Request a New Article More Ideas... EDIT Edit this Article PRO Courses Guides New Tech Help Pro Expert Videos About wikiHow Pro Upgrade Sign In HomeRandomBrowse ArticlesLearn Something NewGuidesNewCoursesQuizzesPlay GamesThis Or That GameNewTrain Your BrainExplore MoreSupport wikiHowAbout wikiHowCouponsH&M CouponsHotwire Promo CodesStubHub Discount CodesAshley Furniture CouponsBlue Nile Promo CodesNordVPN CouponsSamsung Promo CodesChewy Promo CodesUlta CouponsVistaprint Promo CodesShutterfly Promo CodesDoorDash Promo CodesOffice Depot Couponsadidas Promo CodesHome Depot CouponsDSW CouponsBed Bath and Beyond CouponsLowe\\'s CouponsSurfshark CouponsNordstrom CouponsWalmart Promo CodesDick\\'s Sporting Goods CouponsFanatics CouponsEdible Arrangements CouponseBay CouponsLog in / Sign upTerms of UseWe use cooky to make wikiHow great. By using our site, you agree to our cookie policy.Cookie SettingsOkay✖ wikiHow is where trusted research and expert knowledge come together. Learn why people trust wikiHow CategoriesEducation and CommunicationsStudyingMathematicsAlgebraLinear AlgebraHow to Find Eigenvalues and Eigenvectors Download Article Explore this Article Steps Steps Other Sections Questions & Answers Tips and Warnings Related Articles References Author Info Last Updated: August 31, 2020 References Download Article X wikiHow is a “wiki,” similar to Wikipedia, which mean that many of our article are co-written by multiple authors. To create this article, volunteer author worked to edit and improve it over time. This article ha been viewed 111,591 times. Learn more... The matrix equation Ax=b{\\\\displaystyle A\\\\mathbf {x} =\\\\mathbf {b} } involves a matrix acting on a vector to produce another vector. In general, the way A{\\\\displaystyle A} act on x{\\\\displaystyle \\\\mathbf {x} } is complicated, but there are certain case where the action map to the same vector, multiplied by a scalar factor. Eigenvalues and eigenvectors have immense application in the physical sciences, especially quantum mechanics, among other fields. Steps {\"smallUrl\":\"https:\\\\/\\\\/www.wikihow.com\\\\/images\\\\/thumb\\\\/5\\\\/5e\\\\/Find-Eigenvalues-and-Eigenvectors-Step-1.jpg\\\\/v4-460px-Find-Eigenvalues-and-Eigenvectors-Step-1.jpg\",\"bigUrl\":\"\\\\/images\\\\/thumb\\\\/5\\\\/5e\\\\/Find-Eigenvalues-and-Eigenvectors-Step-1.jpg\\\\/aid7492444-v4-728px-Find-Eigenvalues-and-Eigenvectors-Step-1.jpg\",\"smallWidth\":460,\"smallHeight\":345,\"bigWidth\":728,\"bigHeight\":546,\"licensing\":\"<div class=\\\\\"mw-parser-output\\\\\"><p>\\\\u00a9 2023 wikiHow, Inc. All right reserved. wikiHow, Inc. is the copyright holder of this image under U.S. and international copyright laws. This image is <b>not<\\\\/b> licensed under the Creative Commons license applied to text content and some other image posted to the wikiHow website. This image may not be used by other entity without the express written consent of wikiHow, Inc.<br>\\\\n<\\\\/p><p><br \\\\/>\\\\n<\\\\/p><\\\\/div>\"} 1 Understand determinants. The determinant of a matrix detA=0{\\\\displaystyle \\\\det A=0} when A{\\\\displaystyle A} is non-invertible. When this occurs, the null space of A{\\\\displaystyle A} becomes non-trivial - in other words, there are non-zero vector that satisfy the homogeneous equation Ax=0.{\\\\displaystyle A\\\\mathbf {x} =0.}[1] X Research source www.math.lsa.umich.edu/~kesmith/ProofDeterminantTheorem.pdf {\"smallUrl\":\"https:\\\\/\\\\/www.wikihow.com\\\\/images\\\\/thumb\\\\/f\\\\/fd\\\\/Find-Eigenvalues-and-Eigenvectors-Step-2.jpg\\\\/v4-460px-Find-Eigenvalues-and-Eigenvectors-Step-2.jpg\",\"bigUrl\":\"\\\\/images\\\\/thumb\\\\/f\\\\/fd\\\\/Find-Eigenvalues-and-Eigenvectors-Step-2.jpg\\\\/aid7492444-v4-728px-Find-Eigenvalues-and-Eigenvectors-Step-2.jpg\",\"smallWidth\":460,\"smallHeight\":345,\"bigWidth\":728,\"bigHeight\":546,\"licensing\":\"<div class=\\\\\"mw-parser-output\\\\\"><p>\\\\u00a9 2023 wikiHow, Inc. All right reserved. wikiHow, Inc. is the copyright holder of this image under U.S. and international copyright laws. This image is <b>not<\\\\/b> licensed under the Creative Commons license applied to text content and some other image posted to the wikiHow website. This image may not be used by other entity without the express written consent of wikiHow, Inc.<br>\\\\n<\\\\/p><p><br \\\\/>\\\\n<\\\\/p><\\\\/div>\"} 2 Write out the eigenvalue equation. As mentioned in the introduction, the action of A{\\\\displaystyle A} on x{\\\\displaystyle \\\\mathbf {x} } is simple, and the result only differs by a multiplicative constant λ,{\\\\displaystyle \\\\lambda ,} called the eigenvalue. Vectors that are associated with that eigenvalue are called eigenvectors.[2] X Research source Ax=λx{\\\\displaystyle A\\\\mathbf {x} =\\\\lambda \\\\mathbf {x} } We can set the equation to zero, and obtain the homogeneous equation. Below, I{\\\\displaystyle I} is the identity matrix. (A−λI)x=0{\\\\displaystyle (A-\\\\lambda I)\\\\mathbf {x} =0} Advertisement {\"smallUrl\":\"https:\\\\/\\\\/www.wikihow.com\\\\/images\\\\/thumb\\\\/7\\\\/7b\\\\/Find-Eigenvalues-and-Eigenvectors-Step-3.jpg\\\\/v4-460px-Find-Eigenvalues-and-Eigenvectors-Step-3.jpg\",\"bigUrl\":\"\\\\/images\\\\/thumb\\\\/7\\\\/7b\\\\/Find-Eigenvalues-and-Eigenvectors-Step-3.jpg\\\\/aid7492444-v4-728px-Find-Eigenvalues-and-Eigenvectors-Step-3.jpg\",\"smallWidth\":460,\"smallHeight\":345,\"bigWidth\":728,\"bigHeight\":546,\"licensing\":\"<div class=\\\\\"mw-parser-output\\\\\"><p>\\\\u00a9 2023 wikiHow, Inc. All right reserved. wikiHow, Inc. is the copyright holder of this image under U.S. and international copyright laws. This image is <b>not<\\\\/b> licensed under the Creative Commons license applied to text content and some other image posted to the wikiHow website. This image may not be used by other entity without the express written consent of wikiHow, Inc.<br>\\\\n<\\\\/p><p><br \\\\/>\\\\n<\\\\/p><\\\\/div>\"} 3 Set up the characteristic equation. In order for (A−λI)x=0{\\\\displaystyle (A-\\\\lambda I)\\\\mathbf {x} =0} to have non-trivial solutions, the null space of A−λI{\\\\displaystyle A-\\\\lambda I} must be non-trivial a well. The only way this can happen is if det(A−λI)=0.{\\\\displaystyle \\\\det(A-\\\\lambda I)=0.} This is the characteristic equation. {\"smallUrl\":\"https:\\\\/\\\\/www.wikihow.com\\\\/images\\\\/thumb\\\\/0\\\\/0e\\\\/Find-Eigenvalues-and-Eigenvectors-Step-4.jpg\\\\/v4-460px-Find-Eigenvalues-and-Eigenvectors-Step-4.jpg\",\"bigUrl\":\"\\\\/images\\\\/thumb\\\\/0\\\\/0e\\\\/Find-Eigenvalues-and-Eigenvectors-Step-4.jpg\\\\/aid7492444-v4-728px-Find-Eigenvalues-and-Eigenvectors-Step-4.jpg\",\"smallWidth\":460,\"smallHeight\":345,\"bigWidth\":728,\"bigHeight\":546,\"licensing\":\"<div class=\\\\\"mw-parser-output\\\\\"><p>\\\\u00a9 2023 wikiHow, Inc. All right reserved. wikiHow, Inc. is the copyright holder of this image under U.S. and international copyright laws. This image is <b>not<\\\\/b> licensed under the Creative Commons license applied to text content and some other image posted to the wikiHow website. This image may not be used by other entity without the express written consent of wikiHow, Inc.<br>\\\\n<\\\\/p><p><br \\\\/>\\\\n<\\\\/p><\\\\/div>\"} 4 Obtain the characteristic polynomial. det(A−λI){\\\\displaystyle \\\\det(A-\\\\lambda I)} yield a polynomial of degree n{\\\\displaystyle n} for n×n{\\\\displaystyle n\\\\times n} matrices. Consider the matrix A=(1432).{\\\\displaystyle A={\\\\begin{pmatrix}1&4\\\\\\\\3&2\\\\end{pmatrix}}.} |1−λ432−λ|=0(1−λ)(2−λ)−12=0{\\\\displaystyle {\\\\begin{aligned}{\\\\begin{vmatrix}1-\\\\lambda &4\\\\\\\\3&2-\\\\lambda \\\\end{vmatrix}}&=0\\\\\\\\(1-\\\\lambda )(2-\\\\lambda )-12&=0\\\\end{aligned}}} Notice that the polynomial seems backwards - the quantity in parenthesis should be variable minus number, rather than the other way around. This is easy to deal with by moving the 12 to the right and multiplying by (−1)2{\\\\displaystyle (-1)^{2}} to both side to reverse the order. (λ−1)(λ−2)=12λ2−3λ−10=0{\\\\displaystyle {\\\\begin{aligned}(\\\\lambda -1)(\\\\lambda -2)&=12\\\\\\\\\\\\lambda ^{2}-3\\\\lambda -10&=0\\\\end{aligned}}} {\"smallUrl\":\"https:\\\\/\\\\/www.wikihow.com\\\\/images\\\\/thumb\\\\/3\\\\/30\\\\/Find-Eigenvalues-and-Eigenvectors-Step-5.jpg\\\\/v4-460px-Find-Eigenvalues-and-Eigenvectors-Step-5.jpg\",\"bigUrl\":\"\\\\/images\\\\/thumb\\\\/3\\\\/30\\\\/Find-Eigenvalues-and-Eigenvectors-Step-5.jpg\\\\/aid7492444-v4-728px-Find-Eigenvalues-and-Eigenvectors-Step-5.jpg\",\"smallWidth\":460,\"smallHeight\":345,\"bigWidth\":728,\"bigHeight\":546,\"licensing\":\"<div class=\\\\\"mw-parser-output\\\\\"><p>\\\\u00a9 2023 wikiHow, Inc. All right reserved. wikiHow, Inc. is the copyright holder of this image under U.S. and international copyright laws. This image is <b>not<\\\\/b> licensed under the Creative Commons license applied to text content and some other image posted to the wikiHow website. This image may not be used by other entity without the express written consent of wikiHow, Inc.<br>\\\\n<\\\\/p><p><br \\\\/>\\\\n<\\\\/p><\\\\/div>\"} 5 Solve the characteristic polynomial for the eigenvalues. This is, in general, a difficult step for finding eigenvalues, a there exists no general solution for quintic function or higher polynomials. However, we are dealing with a matrix of dimension 2, so the quadratic is easily solved. (λ−5)(λ+2)=0λ=5,−2{\\\\displaystyle {\\\\begin{aligned}&(\\\\lambda -5)(\\\\lambda +2)=0\\\\\\\\&\\\\lambda =5,-2\\\\end{aligned}}} {\"smallUrl\":\"https:\\\\/\\\\/www.wikihow.com\\\\/images\\\\/thumb\\\\/d\\\\/d4\\\\/Find-Eigenvalues-and-Eigenvectors-Step-6.jpg\\\\/v4-460px-Find-Eigenvalues-and-Eigenvectors-Step-6.jpg\",\"bigUrl\":\"\\\\/images\\\\/thumb\\\\/d\\\\/d4\\\\/Find-Eigenvalues-and-Eigenvectors-Step-6.jpg\\\\/aid7492444-v4-728px-Find-Eigenvalues-and-Eigenvectors-Step-6.jpg\",\"smallWidth\":460,\"smallHeight\":345,\"bigWidth\":728,\"bigHeight\":546,\"licensing\":\"<div class=\\\\\"mw-parser-output\\\\\"><p>\\\\u00a9 2023 wikiHow, Inc. All right reserved. wikiHow, Inc. is the copyright holder of this image under U.S. and international copyright laws. This image is <b>not<\\\\/b> licensed under the Creative Commons license applied to text content and some other image posted to the wikiHow website. This image may not be used by other entity without the express written consent of wikiHow, Inc.<br>\\\\n<\\\\/p><p><br \\\\/>\\\\n<\\\\/p><\\\\/div>\"} 6 Substitute the eigenvalue into the eigenvalue equation, one by one. Let\\'s substitute λ1=5{\\\\displaystyle \\\\lambda _{1}=5} first.[3] X Research source (A−5I)x=(−443−3){\\\\displaystyle (A-5I)\\\\mathbf {x} ={\\\\begin{pmatrix}-4&4\\\\\\\\3&-3\\\\end{pmatrix}}} The resulting matrix is obviously linearly dependent. We are on the right track here. {\"smallUrl\":\"https:\\\\/\\\\/www.wikihow.com\\\\/images\\\\/thumb\\\\/c\\\\/cc\\\\/Find-Eigenvalues-and-Eigenvectors-Step-7.jpg\\\\/v4-460px-Find-Eigenvalues-and-Eigenvectors-Step-7.jpg\",\"bigUrl\":\"\\\\/images\\\\/thumb\\\\/c\\\\/cc\\\\/Find-Eigenvalues-and-Eigenvectors-Step-7.jpg\\\\/aid7492444-v4-728px-Find-Eigenvalues-and-Eigenvectors-Step-7.jpg\",\"smallWidth\":460,\"smallHeight\":345,\"bigWidth\":728,\"bigHeight\":546,\"licensing\":\"<div class=\\\\\"mw-parser-output\\\\\"><p>\\\\u00a9 2023 wikiHow, Inc. All right reserved. wikiHow, Inc. is the copyright holder of this image under U.S. and international copyright laws. This image is <b>not<\\\\/b> licensed under the Creative Commons license applied to text content and some other image posted to the wikiHow website. This image may not be used by other entity without the express written consent of wikiHow, Inc.<br>\\\\n<\\\\/p><p><br \\\\/>\\\\n<\\\\/p><\\\\/div>\"} 7 Row-reduce the resulting matrix. With larger matrices, it may not be so obvious that the matrix is linearly dependent, and so we must row-reduce. Here, however, we can immediately perform the row operation R2→4R2+3R1{\\\\displaystyle R_{2}\\\\to 4R_{2}+3R_{1}} to obtain a row of 0\\'s.[4] X Research source (−4400){\\\\displaystyle {\\\\begin{pmatrix}-4&4\\\\\\\\0&0\\\\end{pmatrix}}} The matrix above say that −4x1+4x2=0.{\\\\displaystyle -4x_{1}+4x_{2}=0.} Simplify and reparameterize x2=t,{\\\\displaystyle x_{2}=t,} a it is a free variable. {\"smallUrl\":\"https:\\\\/\\\\/www.wikihow.com\\\\/images\\\\/thumb\\\\/5\\\\/54\\\\/Find-Eigenvalues-and-Eigenvectors-Step-8.jpg\\\\/v4-460px-Find-Eigenvalues-and-Eigenvectors-Step-8.jpg\",\"bigUrl\":\"\\\\/images\\\\/thumb\\\\/5\\\\/54\\\\/Find-Eigenvalues-and-Eigenvectors-Step-8.jpg\\\\/aid7492444-v4-728px-Find-Eigenvalues-and-Eigenvectors-Step-8.jpg\",\"smallWidth\":460,\"smallHeight\":345,\"bigWidth\":728,\"bigHeight\":546,\"licensing\":\"<div class=\\\\\"mw-parser-output\\\\\"><p>\\\\u00a9 2023 wikiHow, Inc. All right reserved. wikiHow, Inc. is the copyright holder of this image under U.S. and international copyright laws. This image is <b>not<\\\\/b> licensed under the Creative Commons license applied to text content and some other image posted to the wikiHow website. This image may not be used by other entity without the express written consent of wikiHow, Inc.<br>\\\\n<\\\\/p><p><br \\\\/>\\\\n<\\\\/p><\\\\/div>\"} 8 Obtain the basis for the eigenspace. The previous step ha led u to the basis of the null space of A−5I{\\\\displaystyle A-5I} - in other words, the eigenspace of A{\\\\displaystyle A} with eigenvalue 5. x1=(11){\\\\displaystyle \\\\mathbf {x_{1}} ={\\\\begin{pmatrix}1\\\\\\\\1\\\\end{pmatrix}}} Performing step 6 to 8 with λ2=−2{\\\\displaystyle \\\\lambda _{2}=-2} result in the following eigenvector associated with eigenvalue -2. x2=(−43){\\\\displaystyle \\\\mathbf {x_{2}} ={\\\\begin{pmatrix}-4\\\\\\\\3\\\\end{pmatrix}}} These are the eigenvectors associated with their respective eigenvalues. For the basis of the entire eigenspace of A,{\\\\displaystyle A,} we write {(11),(−43)}.{\\\\displaystyle \\\\left\\\\{{\\\\begin{pmatrix}1\\\\\\\\1\\\\end{pmatrix}},{\\\\begin{pmatrix}-4\\\\\\\\3\\\\end{pmatrix}}\\\\right\\\\}.} Advertisement Community Q&A Search Add New Question Question Why do we replace y with 1 and not any other number while finding eigenvectors? Community Answer For simplicity. Eigenvectors are only defined up to a multiplicative constant, so the choice to set the constant equal to 1 is often the simplest. Thanks! We\\'re glad this wa helpful. Thank you for your feedback. As a small thank you, we’d like to offer you a $30 gift card (valid at GoNift.com). Use it to try out great new product and service nationwide without paying full price—wine, food delivery, clothing and more. Enjoy! Claim Your Gift If wikiHow ha helped you, please consider a small contribution to support u in helping more reader like you. We’re committed to providing the world with free how-to resources, and even $1 help u in our mission. Support wikiHow Yes No Not Helpful 4 Helpful 7 Question How do you find the eigenvectors of a 3x3 matrix? Alphabet Community Answer First, find the solution x for det(A - xI) = 0, where I is the identity matrix and x is a variable. The solution x are your eigenvalues. Let\\'s say that a, b, c are your eignevalues. Now solve the system [A - aI | 0], [A - bI | 0], [A - cI | 0]. The basis of the solution set of these system are the eigenvectors. Thanks! We\\'re glad this wa helpful. Thank you for your feedback. As a small thank you, we’d like to offer you a $30 gift card (valid at GoNift.com). Use it to try out great new product and service nationwide without paying full price—wine, food delivery, clothing and more. Enjoy! Claim Your Gift If wikiHow ha helped you, please consider a small contribution to support u in helping more reader like you. We’re committed to providing the world with free how-to resources, and even $1 help u in our mission. Support wikiHow Yes No Not Helpful 2 Helpful 15 Ask a Question 200 character left Include your email address to get a message when this question is answered. Submit Advertisement Tips The determinant of a triangular matrix is easy to find - it is simply the product of the diagonal elements. The eigenvalue are immediately found, and finding eigenvectors for these matrix then becomes much easier.[5] X Research source Beware, however, that row-reducing to row-echelon form and obtaining a triangular matrix doe not give you the eigenvalues, a row-reduction change the eigenvalue of the matrix in general. Thanks Helpful 1 Not Helpful 0 We can diagonalize a matrix A{\\\\displaystyle A} through a similarity transformation A=PDP−1,{\\\\displaystyle A=PDP^{-1},} where P{\\\\displaystyle P} is an invertible change-of-basis matrix and D{\\\\displaystyle D} is a matrix with only diagonal elements. However, if A{\\\\displaystyle A} is an n×n{\\\\displaystyle n\\\\times n} matrix, it must have n{\\\\displaystyle n} distinct eigenvalue in order for it to be diagonalizable. In our case, A=(1−413)(500−2)(1−413)−1.{\\\\displaystyle A={\\\\begin{pmatrix}1&-4\\\\\\\\1&3\\\\end{pmatrix}}{\\\\begin{pmatrix}5&0\\\\\\\\0&-2\\\\end{pmatrix}}{\\\\begin{pmatrix}1&-4\\\\\\\\1&3\\\\end{pmatrix}}^{-1}.} There are a few thing of note here. First, the diagonal element of D{\\\\displaystyle D} are the eigenvalue that we found. Second, the column of P{\\\\displaystyle P} are the eigenspace of A.{\\\\displaystyle A.} Third, D{\\\\displaystyle D} is similar to A{\\\\displaystyle A} in the sense that they have the same determinant, eigenvalues, and trace. When diagonalizing, the eigenbases in P{\\\\displaystyle P} that correspond to their eigenvalue must line up - in other words, you must be consistent with the ordering. In the example above, you cannot switch the column of P{\\\\displaystyle P} without switching the position of the diagonal element in D.{\\\\displaystyle D.} Thanks Helpful 1 Not Helpful 0 Submit a Tip All tip submission are carefully reviewed before being published Submit Thanks for submitting a tip for review! Advertisement You Might Also Like How toFind the Inverse of a 3x3 Matrix How toFind the Determinant of a 3X3 Matrix How toFind the Null Space of a Matrix How toDivide Matrices How toReduce a Matrix to Row Echelon Form How toSolve Matrices How toTranspose a Matrix How toAdd or Subtract Vectors How toUnderstand the Basics of Matrices How toSolve a 2x3 Matrix How to Diagonalize a Matrix: A Quick Linear Algebra Guide How toMultiply Matrices Advertisement References ↑ www.math.lsa.umich.edu/~kesmith/ProofDeterminantTheorem.pdf ↑ http://tutorial.math.lamar.edu/Classes/DE/LA_Eigen.aspx ↑ https://www.intmath.com/matrices-determinants/7-eigenvalues-eigenvectors.php ↑ https://www.mathportal.org/algebra/solving-system-of-linear-equations/row-reduction-method.php ↑ http://www.math.lsa.umich.edu/~hochster/419/det.html About This Article wikiHow is a “wiki,” similar to Wikipedia, which mean that many of our article are co-written by multiple authors. To create this article, volunteer author worked to edit and improve it over time. This article ha been viewed 111,591 times. 19 vote - 70% Co-authors: 5 Updated: August 31, 2020 Views: 111,591 Categories: Linear Algebra Print Send fan mail to author Thanks to all author for creating a page that ha been read 111,591 times. Did this article help you? Yes No Advertisement Cookies make wikiHow better. By continuing to use our site, you agree to our cookie policy. About This Article 19 vote - 70% Click a star to vote % of people told u that this article helped them. Co-authors: 5 Updated: August 31, 2020 Views: 111,591 QuizzesAm I a Narcissist or an Empath QuizTake QuizDoes He Like Me QuizTake QuizWhat Is My Aesthetic QuizTake QuizAm I Gay QuizTake QuizWhy Can\\'t I Sleep QuizTake QuizZodiac Compatibility QuizTake Quiz You Might Also LikeHow toFind the Inverse of a 3x3 MatrixHow toFind the Determinant of a 3X3 MatrixHow toFind the Null Space of a MatrixHow toDivide Matrices Featured ArticlesHow toSleep Quickly on a Flight or Rail JourneyHow toClean Drive C for More SpaceHow toMake Your Workplace Menopause FriendlyHow toCelebrate World Rainforest DayHow to Overcome Commitment Issues: 14 Ways to HealHow toGet Rid of Ingrown ToenailsTrending ArticlesHow toDo Fourth of July NailsHow To Manifest Your Desires Using the Whisper MethodHow toMake GuacamoleHow toCook Hot DogsBad Transmission Symptoms: What to Look For + Repair OptionsHow to Use Uber for the First Time: Complete Beginner\\'s GuideFeatured ArticlesHow toMake an Origami HeartHow toStart a Business As a TeenagerHow toTeach Children to SingHow toBe GenerousHow to Prevent & Get Rid of Mosquitoes Outside and InsideHow toBBQ With PropaneFeatured ArticlesHow toPhotograph FireworksHow toTalk to a Shy GirlHow toApply Sunscreen3 Ways to Make a Homemade FlagHow toGrow a GoateeHow toApply Self TannerWatch ArticlesHow toPreserve Flowers in a JarHow toBlow Dry Hair Without FrizzHow toPrepare a Pop TartHow toClean Shoe InsolesHow toMake French FriesEyeliner 101: Expert Tips for Using Pencil, Gel, Liquid & Cream LinerTrending ArticlesHow to Setup and Play a Game of JengaHow to End a Relationship Respectfully: What to Do & What Not to DoHow toStop Anxiety from CoffeeHow toLook Skinny in a Bodycon DressHow toPlay CodenamesWhat Are Some Interesting Topics to Discuss in a Group? CategoriesEducation and CommunicationsStudyingMathematicsAlgebraLinear Algebra wikiHow Newsletter You\\'re all set! Helpful how-tos delivered toyour inbox every week! Sign me up! By signing up you are agreeing to receive email according to our privacy policy. Home About wikiHow Experts Jobs Contact Us Site Map Terms of Use Privacy Policy Do Not Sell or Share My Info Not Selling Info Contribute Follow Us × Don’t miss out! Sign up for wikiHow’s newsletter Subscribe You\\'re all set! X 1413'"
      ]
     },
     "execution_count": 32,
     "metadata": {},
     "output_type": "execute_result"
    }
   ],
   "source": [
    "#filtered text for first row entry\n",
    "df_bart[\"Text\"][0]"
   ]
  }
 ],
 "metadata": {
  "kernelspec": {
   "display_name": "Python 3 (ipykernel)",
   "language": "python",
   "name": "python3"
  },
  "language_info": {
   "codemirror_mode": {
    "name": "ipython",
    "version": 3
   },
   "file_extension": ".py",
   "mimetype": "text/x-python",
   "name": "python",
   "nbconvert_exporter": "python",
   "pygments_lexer": "ipython3",
   "version": "3.10.0"
  }
 },
 "nbformat": 4,
 "nbformat_minor": 5
}
