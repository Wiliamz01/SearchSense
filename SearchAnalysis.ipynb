{
 "cells": [
  {
   "attachments": {},
   "cell_type": "markdown",
   "id": "bfa0d42c",
   "metadata": {},
   "source": [
    "# Known Problem:\n",
    "- **Unresolved**\n",
    "    1. how to solve for eigen vectors\n",
    "- **Partially Resolved**\n",
    "    1. Certain websites cause the error of, specified here: https://stackoverflow.com/questions/23013220/max-retries-exceeded-with-url-in-requests, which is a connection error. \n",
    "        - this appears to be windows specific as this was not a relevant issue when testing code in ubuntu 22.04, some forum reflect similar message\n",
    "        - FAILED SOLUTION: first response in that stackoverflow page, still kept the stuff bc it seemed like better QOL\n",
    "        - ATTEMPTED SOLUTION: used try and except. NOTE: this solution is not ideal as it does not resolve the issue, it just ignores it and moves on.\n",
    "- **Resolved**\n",
    "    1. The search \"what is a taylor series\" returns SSLCertVerification Error.\n",
    "        - this resolution does not consider the security of the websites being accessed, potentially use try except to have the request verify when possible and not break when cannot verify\n",
    "        - ATTEMPTED SOLUTION: used try except to use verify=False when ssl error occurs. Nested try except to ensure that both connection error and ssl error are handled.\n",
    "\n",
    "    \n",
    "\n",
    "    "
   ]
  },
  {
   "attachments": {},
   "cell_type": "markdown",
   "id": "f736e92b-fcbc-4051-9b96-f1667b546b35",
   "metadata": {},
   "source": [
    "# Part 1: Data Acquisition & Preparation\n",
    "\n",
    "## Collecting & Preprocessing Our Data"
   ]
  },
  {
   "cell_type": "code",
   "execution_count": 2,
   "id": "be0a22b4-8ee2-4ff9-afd6-ec408d9c905c",
   "metadata": {},
   "outputs": [],
   "source": [
    "#imports\n",
    "import requests #send HTTP requests to web pages and retrieve their content\n",
    "from requests.adapters import HTTPAdapter\n",
    "from urllib3.util.retry import Retry\n",
    "from bs4 import BeautifulSoup\n",
    "from nltk.tokenize import word_tokenize\n",
    "from nltk.stem import WordNetLemmatizer\n",
    "from sklearn.feature_extraction.text import TfidfVectorizer\n",
    "import nltk\n",
    "from urllib.parse import urlparse, urljoin\n",
    "import pandas as pd\n",
    "from nltk.corpus import stopwords\n",
    "import http.client\n",
    "import re"
   ]
  },
  {
   "cell_type": "code",
   "execution_count": 3,
   "id": "cf32bf2a-fe64-40af-b413-4f2737bbc288",
   "metadata": {},
   "outputs": [
    {
     "name": "stderr",
     "output_type": "stream",
     "text": [
      "[nltk_data] Downloading package punkt to C:\\Users\\William\n",
      "[nltk_data]     Zhang\\AppData\\Roaming\\nltk_data...\n",
      "[nltk_data]   Package punkt is already up-to-date!\n",
      "[nltk_data] Downloading package stopwords to C:\\Users\\William\n",
      "[nltk_data]     Zhang\\AppData\\Roaming\\nltk_data...\n",
      "[nltk_data]   Package stopwords is already up-to-date!\n",
      "[nltk_data] Downloading package wordnet to C:\\Users\\William\n",
      "[nltk_data]     Zhang\\AppData\\Roaming\\nltk_data...\n",
      "[nltk_data]   Package wordnet is already up-to-date!\n"
     ]
    },
    {
     "data": {
      "text/plain": [
       "True"
      ]
     },
     "execution_count": 3,
     "metadata": {},
     "output_type": "execute_result"
    }
   ],
   "source": [
    "import ssl\n",
    "#ssl._create_default_https_context = ssl._create_unverified_context\n",
    "#uncomment if you cannot properly download punkt\n",
    "\n",
    "nltk.download('punkt')\n",
    "#ssl._create_default_https_context = ssl._create_default_https_context\n",
    "#uncomment if you cannot properly download punkt\n",
    "\n",
    "#remove filler words from an example column\n",
    "nltk.download(\"stopwords\")\n",
    "\n",
    "nltk.download('wordnet')"
   ]
  },
  {
   "cell_type": "code",
   "execution_count": 4,
   "id": "9215e926-9d63-4b94-9183-659fbc228d9b",
   "metadata": {},
   "outputs": [
    {
     "name": "stdout",
     "output_type": "stream",
     "text": [
      "Trying: https://www.ibm.com/topics/deep-learning\n",
      "Trying: https://www.mathworks.com/discovery/deep-learning.html\n",
      "Trying: https://aws.amazon.com/what-is/deep-learning/\n",
      "Error: HTTPSConnectionPool(host='machinelearningmastery.com', port=443): Max retries exceeded with url: /what-is-deep-learning/ (Caused by NewConnectionError('<urllib3.connection.HTTPSConnection object at 0x000001E09F933B50>: Failed to establish a new connection: [Errno 11001] getaddrinfo failed'))\n",
      "SSL certificate verification failed for: https://machinelearningmastery.com/what-is-deep-learning/\n",
      "Trying: https://en.wikipedia.org/wiki/Deep_learning\n",
      "Trying: https://www.simplilearn.com/tutorials/deep-learning-tutorial/what-is-deep-learning\n",
      "Trying: https://www.oracle.com/artificial-intelligence/machine-learning/what-is-deep-learning/\n",
      "Trying: https://www.geeksforgeeks.org/introduction-deep-learning/\n",
      "Trying: https://www.techtarget.com/searchenterpriseai/definition/deep-learning-deep-neural-network\n",
      "Trying: https://builtin.com/machine-learning/deep-learning\n",
      "Trying: https://www.netapp.com/artificial-intelligence/what-is-deep-learning/\n",
      "Trying: https://www.wgu.edu/blog/what-deep-learning2005.html\n",
      "Trying: https://azure.microsoft.com/en-us/resources/cloud-computing-dictionary/what-is-deep-learning/\n",
      "Trying: https://www.sas.com/en_us/insights/analytics/deep-learning.html\n",
      "Trying: https://www.coursera.org/articles/ai-vs-deep-learning-vs-machine-learning-beginners-guide\n",
      "Trying: https://www.forbes.com/advisor/in/business/software/what-is-deep-learning-ai/\n",
      "Trying: https://www.tibco.com/reference-center/what-is-deep-learning\n",
      "Trying: https://www.zendesk.com/blog/machine-learning-and-deep-learning/\n",
      "Trying: https://www.javatpoint.com/deep-learning\n",
      "Error: HTTPSConnectionPool(host='levity.ai', port=443): Max retries exceeded with url: /blog/difference-machine-learning-deep-learning (Caused by NewConnectionError('<urllib3.connection.HTTPSConnection object at 0x000001E09FBA3280>: Failed to establish a new connection: [Errno 11001] getaddrinfo failed'))\n",
      "SSL certificate verification failed for: https://levity.ai/blog/difference-machine-learning-deep-learning\n",
      "Trying: https://www.youtube.com/watch?v=6M5VXKLf4D4\n",
      "Trying: https://developer.nvidia.com/deep-learning\n",
      "Trying: https://mitsloan.mit.edu/ideas-made-to-matter/machine-learning-explained\n",
      "Trying: https://journalofbigdata.springeropen.com/articles/10.1186/s40537-021-00444-8\n",
      "Trying: https://www.pcmag.com/news/what-is-deep-learning\n",
      "Trying: https://www.hpe.com/us/en/what-is/deep-learning.html\n",
      "Trying: https://www.databricks.com/glossary/deep-learning\n",
      "Trying: https://www.tutorialspoint.com/python_deep_learning/python_deep_learning_deep_neural_networks.htm\n",
      "Trying: https://medium.com/intro-to-artificial-intelligence/deep-learning-series-1-intro-to-deep-learning-abb1780ee20\n",
      "Trying: https://www.eweek.com/enterprise-apps/deep-learning/\n",
      "Trying: https://link.springer.com/article/10.1007/s42979-021-00815-1\n",
      "Error: HTTPSConnectionPool(host='www.datarobot.com', port=443): Max retries exceeded with url: /wiki/deep-learning/ (Caused by NewConnectionError('<urllib3.connection.HTTPSConnection object at 0x000001E0A23605B0>: Failed to establish a new connection: [Errno 11001] getaddrinfo failed'))\n",
      "SSL certificate verification failed for: https://www.datarobot.com/wiki/deep-learning/\n",
      "Trying: https://www.redhat.com/en/topics/digital-transformation/what-is-deep-learning\n",
      "Error: HTTPSConnectionPool(host='bernardmarr.com', port=443): Max retries exceeded with url: /what-is-deep-learning-ai-a-simple-guide-with-8-practical-examples/ (Caused by NewConnectionError('<urllib3.connection.HTTPSConnection object at 0x000001E0A24F9AE0>: Failed to establish a new connection: [Errno 11001] getaddrinfo failed'))\n",
      "SSL certificate verification failed for: https://bernardmarr.com/what-is-deep-learning-ai-a-simple-guide-with-8-practical-examples/\n",
      "Trying: https://www.lifewire.com/what-is-deep-learning-7495514\n",
      "Trying: https://www.meltwater.com/en/blog/fundamentals-of-deep-learning\n",
      "Error: HTTPSConnectionPool(host='intellipaat.com', port=443): Max retries exceeded with url: /blog/tutorial/machine-learning-tutorial/introduction-deep-learning/ (Caused by NewConnectionError('<urllib3.connection.HTTPSConnection object at 0x000001E09F848E80>: Failed to establish a new connection: [Errno 11001] getaddrinfo failed'))\n",
      "SSL certificate verification failed for: https://intellipaat.com/blog/tutorial/machine-learning-tutorial/introduction-deep-learning/\n",
      "Trying: https://www.techopedia.com/definition/30325/deep-learning\n",
      "Trying: https://www.datacamp.com/tutorial/tutorial-deep-learning-tutorial\n",
      "Trying: https://flatironschool.com/blog/what-is-deep-learning-with-python/\n",
      "Trying: https://blog.hubspot.com/marketing/what-is-deep-learning\n",
      "Trying: https://www.sciencedirect.com/topics/computer-science/deep-learning\n",
      "Trying: https://developers.google.com/machine-learning/glossary\n",
      "Trying: https://healthitanalytics.com/features/what-is-deep-learning-and-how-will-it-change-healthcare\n",
      "Error: HTTPSConnectionPool(host='www.mygreatlearning.com', port=443): Max retries exceeded with url: /blog/what-is-deep-learning/ (Caused by NewConnectionError('<urllib3.connection.HTTPSConnection object at 0x000001E09F645060>: Failed to establish a new connection: [Errno 11001] getaddrinfo failed'))\n",
      "SSL certificate verification failed for: https://www.mygreatlearning.com/blog/what-is-deep-learning/\n",
      "Trying: https://nordvpn.com/blog/deep-learning/\n",
      "Trying: https://www.edureka.co/blog/what-is-deep-learning\n",
      "Trying: https://www.analyticsvidhya.com/blog/2021/05/a-comprehensive-tutorial-on-deep-learning-part-1/\n",
      "Grabbed search results\n"
     ]
    }
   ],
   "source": [
    "import concurrent.futures\n",
    "from tqdm import tqdm\n",
    "#Working implementation\n",
    "\n",
    "session = requests.Session()\n",
    "retry = Retry(connect=2, backoff_factor=0.5)\n",
    "adapter = HTTPAdapter(max_retries=retry)\n",
    "session.mount('http://', adapter)\n",
    "session.mount('https://', adapter)\n",
    "# Define the search query and retrieve search results\n",
    "search_query = input(\"What would you like to search up?\")\n",
    "search_engine_url = \"https://www.google.com/search?q=\"\n",
    "\n",
    "# Set headers to mimic a browser request\n",
    "headers = {\n",
    "    \"User-Agent\": \"Mozilla/5.0 (Windows NT 10.0; Win64; x64) AppleWebKit/537.36 (KHTML, like Gecko) Chrome/91.0.4472.124 Safari/537.36\"\n",
    "}\n",
    "\n",
    "# Number of search result pages to retrieve (each page typically has 10 results)\n",
    "num_pages = 5\n",
    "\n",
    "search_results = []\n",
    "\n",
    "def verify_ssl_certificate(url):\n",
    "    try:\n",
    "        response = session.get(url, verify=True, headers=headers)\n",
    "        return True\n",
    "    except requests.exceptions.SSLError:\n",
    "        return False\n",
    "    except Exception as e:\n",
    "        print(\"Error:\", e)\n",
    "        return False\n",
    "\n",
    "for page in range(num_pages):\n",
    "    # Calculate the start index for the current page\n",
    "    start_index = page * 10\n",
    "\n",
    "    try:\n",
    "        # Make a GET request to retrieve the search result page\n",
    "        response = session.get(search_engine_url + search_query + f\"&start={start_index}\", headers=headers)\n",
    "        response.raise_for_status()  # Raise an exception for non-2xx status codes\n",
    "\n",
    "    except requests.exceptions.RequestException as e:\n",
    "        print(\"Error occurred for page\", page+1)\n",
    "        print(\"Exception:\", e)\n",
    "        continue\n",
    "\n",
    "    # Parse and extract information from the search result page\n",
    "    soup = BeautifulSoup(response.content, \"html.parser\")\n",
    "\n",
    "    for result in soup.select(\"div.g\"):\n",
    "        title_element = result.select_one(\"h3\")\n",
    "        if title_element:\n",
    "            title = title_element.get_text()\n",
    "            url_element = result.find(\"a\")\n",
    "            if url_element:\n",
    "                url = url_element[\"href\"]\n",
    "                parsed_url = urlparse(url)\n",
    "                if parsed_url.scheme == \"\":\n",
    "                    # Relative URL, convert it to absolute URL\n",
    "                    base_url = response.url\n",
    "                    url = urljoin(base_url, url)\n",
    "\n",
    "                # Verify SSL certificate before making the GET request\n",
    "                if verify_ssl_certificate(url):\n",
    "                    try:\n",
    "                        print(\"Trying:\", url)\n",
    "                        result_response = session.get(url, headers=headers)\n",
    "                        result_response.raise_for_status()  # Raise an exception for non-2xx status codes\n",
    "                        result_soup = BeautifulSoup(result_response.content, \"html.parser\")\n",
    "                        text = result_soup.get_text()\n",
    "                        text = ' '.join(text.split())\n",
    "                        search_results.append({\"Title\": title, \"URL\": url, \"Text\": text})\n",
    "                    except http.client.IncompleteRead:\n",
    "                        print(\"Error: Incomplete read for:\", url)\n",
    "                        continue\n",
    "                    except Exception as e:\n",
    "                        print(\"Error: Failed to retrieve content for:\", url)\n",
    "                        print(\"Exception:\", e)\n",
    "                        continue\n",
    "\n",
    "                # Make a GET request to the URL of the search result\n",
    "                else:\n",
    "                    print(\"SSL certificate verification failed for:\", url)\n",
    "                    continue\n",
    "                    \n",
    "\n",
    "print(\"Grabbed search results\")\n",
    "\n",
    "# Process the search results as desired"
   ]
  },
  {
   "cell_type": "code",
   "execution_count": 5,
   "id": "ace71d1c-a252-4d3c-a969-7d90840edc84",
   "metadata": {},
   "outputs": [
    {
     "name": "stdout",
     "output_type": "stream",
     "text": [
      "42\n"
     ]
    },
    {
     "data": {
      "text/html": [
       "<div>\n",
       "<style scoped>\n",
       "    .dataframe tbody tr th:only-of-type {\n",
       "        vertical-align: middle;\n",
       "    }\n",
       "\n",
       "    .dataframe tbody tr th {\n",
       "        vertical-align: top;\n",
       "    }\n",
       "\n",
       "    .dataframe thead th {\n",
       "        text-align: right;\n",
       "    }\n",
       "</style>\n",
       "<table border=\"1\" class=\"dataframe\">\n",
       "  <thead>\n",
       "    <tr style=\"text-align: right;\">\n",
       "      <th></th>\n",
       "      <th>Domain</th>\n",
       "      <th>Title</th>\n",
       "      <th>URL</th>\n",
       "      <th>Text</th>\n",
       "    </tr>\n",
       "  </thead>\n",
       "  <tbody>\n",
       "    <tr>\n",
       "      <th>0</th>\n",
       "      <td>ibm</td>\n",
       "      <td>What is Deep Learning?</td>\n",
       "      <td>https://www.ibm.com/topics/deep-learning</td>\n",
       "      <td>What is Deep Learning? | IBM What is deep lear...</td>\n",
       "    </tr>\n",
       "    <tr>\n",
       "      <th>1</th>\n",
       "      <td>mathworks</td>\n",
       "      <td>What Is Deep Learning? | How It Works, Techniq...</td>\n",
       "      <td>https://www.mathworks.com/discovery/deep-learn...</td>\n",
       "      <td>What Is Deep Learning? | How It Works, Techniq...</td>\n",
       "    </tr>\n",
       "    <tr>\n",
       "      <th>2</th>\n",
       "      <td>aws.amazon</td>\n",
       "      <td>What is Deep Learning?</td>\n",
       "      <td>https://aws.amazon.com/what-is/deep-learning/</td>\n",
       "      <td>What is Deep Learning? - Deep Learning Explain...</td>\n",
       "    </tr>\n",
       "    <tr>\n",
       "      <th>3</th>\n",
       "      <td>en.wikipedia</td>\n",
       "      <td>Deep learning</td>\n",
       "      <td>https://en.wikipedia.org/wiki/Deep_learning</td>\n",
       "      <td>Deep learning - Wikipedia Jump to content Main...</td>\n",
       "    </tr>\n",
       "    <tr>\n",
       "      <th>4</th>\n",
       "      <td>simplilearn</td>\n",
       "      <td>What is Deep Learning and How Does It Works [E...</td>\n",
       "      <td>https://www.simplilearn.com/tutorials/deep-lea...</td>\n",
       "      <td>What is Deep Learning and How Does It Works [U...</td>\n",
       "    </tr>\n",
       "  </tbody>\n",
       "</table>\n",
       "</div>"
      ],
      "text/plain": [
       "         Domain                                              Title  \\\n",
       "0           ibm                             What is Deep Learning?   \n",
       "1     mathworks  What Is Deep Learning? | How It Works, Techniq...   \n",
       "2    aws.amazon                             What is Deep Learning?   \n",
       "3  en.wikipedia                                      Deep learning   \n",
       "4   simplilearn  What is Deep Learning and How Does It Works [E...   \n",
       "\n",
       "                                                 URL  \\\n",
       "0           https://www.ibm.com/topics/deep-learning   \n",
       "1  https://www.mathworks.com/discovery/deep-learn...   \n",
       "2      https://aws.amazon.com/what-is/deep-learning/   \n",
       "3        https://en.wikipedia.org/wiki/Deep_learning   \n",
       "4  https://www.simplilearn.com/tutorials/deep-lea...   \n",
       "\n",
       "                                                Text  \n",
       "0  What is Deep Learning? | IBM What is deep lear...  \n",
       "1  What Is Deep Learning? | How It Works, Techniq...  \n",
       "2  What is Deep Learning? - Deep Learning Explain...  \n",
       "3  Deep learning - Wikipedia Jump to content Main...  \n",
       "4  What is Deep Learning and How Does It Works [U...  "
      ]
     },
     "execution_count": 5,
     "metadata": {},
     "output_type": "execute_result"
    }
   ],
   "source": [
    "df = pd.DataFrame(search_results)\n",
    "df_bart = pd.DataFrame(search_results)\n",
    "df_bart_unlem = pd.DataFrame(search_results)\n",
    "# Extract domain names from URLs and set as the index for the dataframe\n",
    "tld_pattern = re.compile(r'\\.[a-zA-Z]+$')\n",
    "df['Domain'] = df['URL'].apply(lambda url: re.sub(tld_pattern, '', urlparse(url).netloc.replace(\"www.\", \"\")))\n",
    "df.insert(0, 'Domain', df.pop('Domain'))\n",
    "\n",
    "df_bart['Domain'] = df_bart['URL'].apply(lambda url: re.sub(tld_pattern, '', urlparse(url).netloc.replace(\"www.\", \"\")))\n",
    "df_bart.insert(0, 'Domain', df_bart.pop('Domain'))\n",
    "#Handles the \"Some characters could not be decoded, and were replaced with REPLACEMENT CHARACTER\" exception\n",
    "df_bart['Text'] = df_bart['Text'].str.replace('\\ufffd', '')\n",
    "\n",
    "df_bart_unlem['Domain'] = df_bart_unlem['URL'].apply(lambda url: re.sub(tld_pattern, '', urlparse(url).netloc.replace(\"www.\", \"\")))\n",
    "df_bart_unlem.insert(0, 'Domain', df_bart_unlem.pop('Domain'))\n",
    "#Handles the \"Some characters could not be decoded, and were replaced with REPLACEMENT CHARACTER\" exception\n",
    "df_bart_unlem['Text'] = df_bart_unlem['Text'].str.replace('\\ufffd', '')\n",
    "\n",
    "#unfiltered dataframe\n",
    "print(len(df))\n",
    "df.head()"
   ]
  },
  {
   "cell_type": "code",
   "execution_count": 6,
   "id": "a3caa3ab-5338-4946-9731-efa2f83cc71d",
   "metadata": {},
   "outputs": [],
   "source": [
    "stop_words = stopwords.words(\"english\") #english filler words\n",
    "\n",
    "def preprocess(text):\n",
    "    '''\n",
    "    Input a text block and filter out unneeded characters\n",
    "    returns a filtered text block in the form of a str\n",
    "    Function filters whitespace, numbers, special characters, stopwords; handles case normalization \n",
    "    '''\n",
    "    # Remove special characters and numbers\n",
    "    cleaned_text = re.sub(r\"[^a-zA-Z]+\", \" \", text)\n",
    "    \n",
    "    # Convert to lowercase and split into words\n",
    "    words = cleaned_text.lower().split()\n",
    "    \n",
    "    # Remove stop words and single-character words\n",
    "    filtered_words = [word for word in words if word not in stop_words and len(word) > 1]\n",
    "    lemmatized_text = \" \".join([WordNetLemmatizer().lemmatize(word) for word in filtered_words])\n",
    "    \n",
    "    return lemmatized_text\n",
    "\n",
    "def bart_preprocess(text):\n",
    "\n",
    "    words = text.split()\n",
    "    lemmatized_text = \" \".join([WordNetLemmatizer().lemmatize(word) for word in words])\n",
    "\n",
    "    return lemmatized_text\n",
    "\n"
   ]
  },
  {
   "cell_type": "code",
   "execution_count": 7,
   "id": "e28f1150-3f91-4e37-933b-2250302cbfd6",
   "metadata": {},
   "outputs": [
    {
     "name": "stdout",
     "output_type": "stream",
     "text": [
      "length of unfiltered text:  9684\n",
      "length of filtered text:  9547\n"
     ]
    }
   ],
   "source": [
    "example = df_bart[\"Text\"][0]\n",
    "processed_example = bart_preprocess(example)\n",
    "\n",
    "print(\"length of unfiltered text: \", len(example))\n",
    "print(\"length of filtered text: \", len(processed_example))"
   ]
  },
  {
   "cell_type": "code",
   "execution_count": 8,
   "id": "d4372b92-65c2-4d2c-b446-70f1291fd72c",
   "metadata": {},
   "outputs": [],
   "source": [
    "#Properly using the apply() function onto a pandas column\n",
    "#removes both filler words and special characters\n",
    "df[\"Text\"] = df[\"Text\"].apply(preprocess)\n",
    "df_bart[\"Text\"] = df_bart[\"Text\"].apply(bart_preprocess)\n"
   ]
  },
  {
   "cell_type": "code",
   "execution_count": 9,
   "id": "e247526b-2b89-42c3-ac86-50cdca58d322",
   "metadata": {},
   "outputs": [
    {
     "name": "stdout",
     "output_type": "stream",
     "text": [
      "9547\n"
     ]
    }
   ],
   "source": [
    "print(len(df_bart[\"Text\"][0]))"
   ]
  },
  {
   "attachments": {},
   "cell_type": "markdown",
   "id": "95adfa7b",
   "metadata": {},
   "source": [
    "# NOTE\n",
    "Lemmatization doesn't seem to remove much here"
   ]
  },
  {
   "cell_type": "code",
   "execution_count": 10,
   "id": "abbe60f9-c954-4d21-af98-91cdee578452",
   "metadata": {},
   "outputs": [
    {
     "data": {
      "text/plain": [
       "'What is Deep Learning? | IBM What is deep learning? Deep learning enables system to cluster data and make prediction with incredible accuracy Subscribe to the IBM newsletter What is deep learning? Deep learning is a subset of machine learning, which is essentially a neural network with three or more layers. These neural network attempt to simulate the behavior of the human brain—albeit far from matching it ability—allowing it to “learn” from large amount of data. While a neural network with a single layer can still make approximate predictions, additional hidden layer can help to optimize and refine for accuracy. Deep learning drive many artificial intelligence (AI) application and service that improve automation, performing analytical and physical task without human intervention. Deep learning technology lie behind everyday product and service (such a digital assistants, voice-enabled TV remotes, and credit card fraud detection) a well a emerging technology (such a self-driving cars). Meet watsonx.ai Train, validate, tune and deploy foundation and machine learning models, with ease See what\\'s coming Deep learning vs. machine learning If deep learning is a subset of machine learning, how do they differ? Deep learning distinguishes itself from classical machine learning by the type of data that it work with and the method in which it learns. Machine learning algorithm leverage structured, labeled data to make predictions—meaning that specific feature are defined from the input data for the model and organized into tables. This doesn’t necessarily mean that it doesn’t use unstructured data; it just mean that if it does, it generally go through some pre-processing to organize it into a structured format. Deep learning eliminates some of data pre-processing that is typically involved with machine learning. These algorithm can ingest and process unstructured data, like text and images, and it automates feature extraction, removing some of the dependency on human experts. For example, let’s say that we had a set of photo of different pets, and we wanted to categorize by “cat”, “dog”, “hamster”, et cetera. Deep learning algorithm can determine which feature (e.g. ears) are most important to distinguish each animal from another. In machine learning, this hierarchy of feature is established manually by a human expert. Then, through the process of gradient descent and backpropagation, the deep learning algorithm adjusts and fit itself for accuracy, allowing it to make prediction about a new photo of an animal with increased precision. Machine learning and deep learning model are capable of different type of learning a well, which are usually categorized a supervised learning, unsupervised learning, and reinforcement learning. Supervised learning utilizes labeled datasets to categorize or make predictions; this requires some kind of human intervention to label input data correctly. In contrast, unsupervised learning doesn’t require labeled datasets, and instead, it detects pattern in the data, clustering them by any distinguishing characteristics. Reinforcement learning is a process in which a model learns to become more accurate for performing an action in an environment based on feedback in order to maximize the reward. For a deeper dive on the nuanced difference between the different technologies, see \"AI vs. Machine Learning vs. Deep Learning vs. Neural Networks: What’s the Difference?\" For a closer look at the specific difference between supervised and unsupervised learning, see \"Supervised vs. Unsupervised Learning: What\\'s the Difference?\" How deep learning work Deep learning neural networks, or artificial neural networks, attempt to mimic the human brain through a combination of data inputs, weights, and bias. These element work together to accurately recognize, classify, and describe object within the data. Deep neural network consist of multiple layer of interconnected nodes, each building upon the previous layer to refine and optimize the prediction or categorization. This progression of computation through the network is called forward propagation. The input and output layer of a deep neural network are called visible layers. The input layer is where the deep learning model ingests the data for processing, and the output layer is where the final prediction or classification is made. Another process called backpropagation us algorithms, like gradient descent, to calculate error in prediction and then adjusts the weight and bias of the function by moving backwards through the layer in an effort to train the model. Together, forward propagation and backpropagation allow a neural network to make prediction and correct for any error accordingly. Over time, the algorithm becomes gradually more accurate. The above describes the simplest type of deep neural network in the simplest terms. However, deep learning algorithm are incredibly complex, and there are different type of neural network to address specific problem or datasets. For example, Convolutional neural network (CNNs), used primarily in computer vision and image classification applications, can detect feature and pattern within an image, enabling tasks, like object detection or recognition. In 2015, a CNN bested a human in an object recognition challenge for the first time. Recurrent neural network (RNNs) are typically used in natural language and speech recognition application a it leverage sequential or time series data. Deep learning application Real-world deep learning application are a part of our daily lives, but in most cases, they are so well-integrated into product and service that user are unaware of the complex data processing that is taking place in the background. Some of these example include the following: Law enforcement Deep learning algorithm can analyze and learn from transactional data to identify dangerous pattern that indicate possible fraudulent or criminal activity. Speech recognition, computer vision, and other deep learning application can improve the efficiency and effectiveness of investigative analysis by extracting pattern and evidence from sound and video recordings, images, and documents, which help law enforcement analyze large amount of data more quickly and accurately. Financial service Financial institution regularly use predictive analytics to drive algorithmic trading of stocks, ass business risk for loan approvals, detect fraud, and help manage credit and investment portfolio for clients. Customer service Many organization incorporate deep learning technology into their customer service processes. Chatbots—used in a variety of applications, services, and customer service portals—are a straightforward form of AI. Traditional chatbots use natural language and even visual recognition, commonly found in call center-like menus. However, more sophisticated chatbot solution attempt to determine, through learning, if there are multiple response to ambiguous questions. Based on the response it receives, the chatbot then try to answer these question directly or route the conversation to a human user. Virtual assistant like Apple\\'s Siri, Amazon Alexa, or Google Assistant extends the idea of a chatbot by enabling speech recognition functionality. This creates a new method to engage user in a personalized way. Healthcare The healthcare industry ha benefited greatly from deep learning capability ever since the digitization of hospital record and images. Image recognition application can support medical imaging specialist and radiologists, helping them analyze and ass more image in le time. Deep learning hardware requirement Deep learning requires a tremendous amount of computing power. High performance graphical processing unit (GPUs) are ideal because they can handle a large volume of calculation in multiple core with copious memory available. However, managing multiple GPUs on-premises can create a large demand on internal resource and be incredibly costly to scale. Related solution Watson is AI for smarter business Watson is a portfolio of business-ready tools, application and solutions, designed to reduce the cost and hurdle of AI adoption while optimizing outcome and responsible use of AI. Explore IBM Watson - AI for smarter business Watson Assistant - AI Chatbot Watson Assistant is the AI chatbot for business. This enterprise artificial intelligence technology enables user to build conversational AI solutions. Explore Watson Assistant Watson Studio Build, run and manage AI models. Prepare data and build model on any cloud using open source code or visual modeling. Predict and optimize your outcomes. Explore Watson Studio Resources Artificial Intelligence ebook Download the ebook Article An introduction to deep learning Explore this branch of machine learning that\\'s trained on large amount of data and deal with computational unit working in tandem to perform prediction Go deeper with IBM Developer Article Deep learning architecture The rise of artificial intelligence Learn more about architecture Take the next step For decade now, IBM ha been a pioneer in the development of AI technology and deep learning, highlighted by the development of IBM Watson, IBM\\'s AI chatbot. One of the earliest accomplishment in deep learning technology, Watson is now a trusted solution for enterprise looking to apply advanced natural language processing and machine learning technique to their system using a proven tiered approach to AI adoption and implementation. Get started with IBM Watson® Studio today'"
      ]
     },
     "execution_count": 10,
     "metadata": {},
     "output_type": "execute_result"
    }
   ],
   "source": [
    "#filtered text for first row entry\n",
    "df_bart[\"Text\"][0]"
   ]
  },
  {
   "attachments": {},
   "cell_type": "markdown",
   "id": "3e7569cf-2a71-4793-9b9f-521d9f6b8595",
   "metadata": {},
   "source": [
    "# Part 2: EDA, Feature Engineering, and Model Development"
   ]
  },
  {
   "attachments": {},
   "cell_type": "markdown",
   "id": "58c4ac7a",
   "metadata": {},
   "source": [
    "### Future Optimizations\n",
    "\n",
    "1. Ignore website navigation for websites like (wikipedia, stackoverflow, etc.)\n",
    "\n",
    "\n",
    "### Tasks\n",
    "\n",
    "1. Research into transformer, BART model, to better understand model set up and how to get highest performance\n",
    "2. Experiment with BART input (lemmatize/not, capitalization, etc.) to find best performance \n",
    "3. Try to implement BART model with recursion as per the drawn diagram \n",
    "4. Research into paralellization of transformer models with HuggingFace \n",
    "\n",
    "### Notes\n",
    "\n",
    "1. To actually make project work, we need to create a few metrics that we can train a DL model on. Maybe, linguistic complexity (formulaic), sentiment analysis, text length, etc."
   ]
  },
  {
   "cell_type": "code",
   "execution_count": 11,
   "id": "51ee1b1f-ddd8-4aeb-8ec8-8d72147d7279",
   "metadata": {},
   "outputs": [
    {
     "name": "stdout",
     "output_type": "stream",
     "text": [
      "Train set size: 26\n",
      "Validation set size: 7\n",
      "Test set size: 9\n"
     ]
    }
   ],
   "source": [
    "import torch\n",
    "from sklearn.model_selection import train_test_split\n",
    "\n",
    "# Assuming you have a DataFrame called 'df' containing your data\n",
    "# Split the data into train and test sets (80% train, 20% test)\n",
    "train_data, test_data = train_test_split(df, test_size=0.2, random_state=42)\n",
    "\n",
    "# Split the train data further into train and validation sets (80% train, 20% validation)\n",
    "train_data, val_data = train_test_split(train_data, test_size=0.2, random_state=42)\n",
    "\n",
    "# Print the sizes of each dataset\n",
    "print(\"Train set size:\", len(train_data))\n",
    "print(\"Validation set size:\", len(val_data))\n",
    "print(\"Test set size:\", len(test_data))"
   ]
  },
  {
   "cell_type": "code",
   "execution_count": 12,
   "id": "ba059c5c-9041-4965-9c83-b8bdc0568466",
   "metadata": {},
   "outputs": [
    {
     "data": {
      "text/html": [
       "<div>\n",
       "<style scoped>\n",
       "    .dataframe tbody tr th:only-of-type {\n",
       "        vertical-align: middle;\n",
       "    }\n",
       "\n",
       "    .dataframe tbody tr th {\n",
       "        vertical-align: top;\n",
       "    }\n",
       "\n",
       "    .dataframe thead th {\n",
       "        text-align: right;\n",
       "    }\n",
       "</style>\n",
       "<table border=\"1\" class=\"dataframe\">\n",
       "  <thead>\n",
       "    <tr style=\"text-align: right;\">\n",
       "      <th></th>\n",
       "      <th>Domain</th>\n",
       "      <th>Title</th>\n",
       "      <th>URL</th>\n",
       "      <th>Text</th>\n",
       "    </tr>\n",
       "  </thead>\n",
       "  <tbody>\n",
       "    <tr>\n",
       "      <th>0</th>\n",
       "      <td>en.wikipedia</td>\n",
       "      <td>Deep learning</td>\n",
       "      <td>https://en.wikipedia.org/wiki/Deep_learning</td>\n",
       "      <td>deep learning wikipedia jump content main menu...</td>\n",
       "    </tr>\n",
       "    <tr>\n",
       "      <th>1</th>\n",
       "      <td>oracle</td>\n",
       "      <td>What is Deep Learning?</td>\n",
       "      <td>https://www.oracle.com/artificial-intelligence...</td>\n",
       "      <td>deep learning oracle accessibility policy skip...</td>\n",
       "    </tr>\n",
       "    <tr>\n",
       "      <th>2</th>\n",
       "      <td>geeksforgeeks</td>\n",
       "      <td>Introduction to Deep Learning</td>\n",
       "      <td>https://www.geeksforgeeks.org/introduction-dee...</td>\n",
       "      <td>introduction deep learning geeksforgeeks skip ...</td>\n",
       "    </tr>\n",
       "    <tr>\n",
       "      <th>3</th>\n",
       "      <td>netapp</td>\n",
       "      <td>What Is Deep Learning? - How It Works</td>\n",
       "      <td>https://www.netapp.com/artificial-intelligence...</td>\n",
       "      <td>deep learning work netapp bluexp login netapp ...</td>\n",
       "    </tr>\n",
       "    <tr>\n",
       "      <th>4</th>\n",
       "      <td>meltwater</td>\n",
       "      <td>The Fundamentals of Deep Learning</td>\n",
       "      <td>https://www.meltwater.com/en/blog/fundamentals...</td>\n",
       "      <td>fundamental deep learningour suiteby needresou...</td>\n",
       "    </tr>\n",
       "    <tr>\n",
       "      <th>5</th>\n",
       "      <td>tibco</td>\n",
       "      <td>What is Deep Learning?</td>\n",
       "      <td>https://www.tibco.com/reference-center/what-is...</td>\n",
       "      <td>deep learning tibco software skip main content...</td>\n",
       "    </tr>\n",
       "    <tr>\n",
       "      <th>6</th>\n",
       "      <td>azure.microsoft</td>\n",
       "      <td>What Is Deep Learning?</td>\n",
       "      <td>https://azure.microsoft.com/en-us/resources/cl...</td>\n",
       "      <td>deep learning microsoft azure browser longer s...</td>\n",
       "    </tr>\n",
       "    <tr>\n",
       "      <th>7</th>\n",
       "      <td>databricks</td>\n",
       "      <td>What is Deep Learning?</td>\n",
       "      <td>https://www.databricks.com/glossary/deep-learning</td>\n",
       "      <td>deep learning platformthe databricks lakehouse...</td>\n",
       "    </tr>\n",
       "    <tr>\n",
       "      <th>8</th>\n",
       "      <td>flatironschool</td>\n",
       "      <td>What Is Deep Learning With Python?</td>\n",
       "      <td>https://flatironschool.com/blog/what-is-deep-l...</td>\n",
       "      <td>deep learning python flatiron school skip cont...</td>\n",
       "    </tr>\n",
       "    <tr>\n",
       "      <th>9</th>\n",
       "      <td>eweek</td>\n",
       "      <td>What Is Deep Learning?</td>\n",
       "      <td>https://www.eweek.com/enterprise-apps/deep-lea...</td>\n",
       "      <td>deep learning eweek close latest news artifici...</td>\n",
       "    </tr>\n",
       "    <tr>\n",
       "      <th>10</th>\n",
       "      <td>sas</td>\n",
       "      <td>What is Deep Learning and Why It Matters?</td>\n",
       "      <td>https://www.sas.com/en_us/insights/analytics/d...</td>\n",
       "      <td>deep learning matter sa skip main content soft...</td>\n",
       "    </tr>\n",
       "    <tr>\n",
       "      <th>11</th>\n",
       "      <td>techtarget</td>\n",
       "      <td>What is Deep Learning and How Does It Work?</td>\n",
       "      <td>https://www.techtarget.com/searchenterpriseai/...</td>\n",
       "      <td>deep learning work enterprise ai search techta...</td>\n",
       "    </tr>\n",
       "    <tr>\n",
       "      <th>12</th>\n",
       "      <td>javatpoint</td>\n",
       "      <td>Deep Learning Tutorial</td>\n",
       "      <td>https://www.javatpoint.com/deep-learning</td>\n",
       "      <td>deep learning tutorial javatpoint home java de...</td>\n",
       "    </tr>\n",
       "    <tr>\n",
       "      <th>13</th>\n",
       "      <td>youtube</td>\n",
       "      <td>Deep Learning Tutorial For Beginners | 2023 | ...</td>\n",
       "      <td>https://www.youtube.com/watch?v=6M5VXKLf4D4</td>\n",
       "      <td>deep learning deep learning deep learning tuto...</td>\n",
       "    </tr>\n",
       "    <tr>\n",
       "      <th>14</th>\n",
       "      <td>hpe</td>\n",
       "      <td>What is Deep Learning? | Glossary</td>\n",
       "      <td>https://www.hpe.com/us/en/what-is/deep-learnin...</td>\n",
       "      <td>deep learning glossary hpe skip main content h...</td>\n",
       "    </tr>\n",
       "    <tr>\n",
       "      <th>15</th>\n",
       "      <td>forbes</td>\n",
       "      <td>What Is Deep Learning AI &amp; How Does It Work</td>\n",
       "      <td>https://www.forbes.com/advisor/in/business/sof...</td>\n",
       "      <td>deep learning ai work forbes advisor india sel...</td>\n",
       "    </tr>\n",
       "    <tr>\n",
       "      <th>16</th>\n",
       "      <td>developers.google</td>\n",
       "      <td>Machine Learning Glossary</td>\n",
       "      <td>https://developers.google.com/machine-learning...</td>\n",
       "      <td>machine learning glossary google developer mac...</td>\n",
       "    </tr>\n",
       "    <tr>\n",
       "      <th>17</th>\n",
       "      <td>aws.amazon</td>\n",
       "      <td>What is Deep Learning?</td>\n",
       "      <td>https://aws.amazon.com/what-is/deep-learning/</td>\n",
       "      <td>deep learning deep learning explained aws skip...</td>\n",
       "    </tr>\n",
       "    <tr>\n",
       "      <th>18</th>\n",
       "      <td>wgu</td>\n",
       "      <td>What Is Deep Learning?</td>\n",
       "      <td>https://www.wgu.edu/blog/what-deep-learning200...</td>\n",
       "      <td>deep learning national skip content skip live ...</td>\n",
       "    </tr>\n",
       "    <tr>\n",
       "      <th>19</th>\n",
       "      <td>datacamp</td>\n",
       "      <td>Deep Learning Tutorial</td>\n",
       "      <td>https://www.datacamp.com/tutorial/tutorial-dee...</td>\n",
       "      <td>deep learning tutorial datacampskip main conte...</td>\n",
       "    </tr>\n",
       "    <tr>\n",
       "      <th>20</th>\n",
       "      <td>analyticsvidhya</td>\n",
       "      <td>A comprehensive tutorial on Deep Learning – Pa...</td>\n",
       "      <td>https://www.analyticsvidhya.com/blog/2021/05/a...</td>\n",
       "      <td>deep learning tutorial deep learning search ne...</td>\n",
       "    </tr>\n",
       "    <tr>\n",
       "      <th>21</th>\n",
       "      <td>healthitanalytics</td>\n",
       "      <td>What Is Deep Learning and How Will It Change H...</td>\n",
       "      <td>https://healthitanalytics.com/features/what-is...</td>\n",
       "      <td>deep learning change healthcare home news feat...</td>\n",
       "    </tr>\n",
       "    <tr>\n",
       "      <th>22</th>\n",
       "      <td>zendesk</td>\n",
       "      <td>Deep learning vs. machine learning: What's the...</td>\n",
       "      <td>https://www.zendesk.com/blog/machine-learning-...</td>\n",
       "      <td>deep learning v machine learning difference ze...</td>\n",
       "    </tr>\n",
       "    <tr>\n",
       "      <th>23</th>\n",
       "      <td>ibm</td>\n",
       "      <td>What is Deep Learning?</td>\n",
       "      <td>https://www.ibm.com/topics/deep-learning</td>\n",
       "      <td>deep learning ibm deep learning deep learning ...</td>\n",
       "    </tr>\n",
       "    <tr>\n",
       "      <th>24</th>\n",
       "      <td>edureka</td>\n",
       "      <td>What is Deep Learning | Getting Started With D...</td>\n",
       "      <td>https://www.edureka.co/blog/what-is-deep-learning</td>\n",
       "      <td>deep learning getting started deep learning ed...</td>\n",
       "    </tr>\n",
       "    <tr>\n",
       "      <th>25</th>\n",
       "      <td>mitsloan.mit</td>\n",
       "      <td>Machine learning, explained</td>\n",
       "      <td>https://mitsloan.mit.edu/ideas-made-to-matter/...</td>\n",
       "      <td>machine learning explained mit sloan skip main...</td>\n",
       "    </tr>\n",
       "  </tbody>\n",
       "</table>\n",
       "</div>"
      ],
      "text/plain": [
       "               Domain                                              Title  \\\n",
       "0        en.wikipedia                                      Deep learning   \n",
       "1              oracle                             What is Deep Learning?   \n",
       "2       geeksforgeeks                      Introduction to Deep Learning   \n",
       "3              netapp              What Is Deep Learning? - How It Works   \n",
       "4           meltwater                  The Fundamentals of Deep Learning   \n",
       "5               tibco                             What is Deep Learning?   \n",
       "6     azure.microsoft                             What Is Deep Learning?   \n",
       "7          databricks                             What is Deep Learning?   \n",
       "8      flatironschool                 What Is Deep Learning With Python?   \n",
       "9               eweek                             What Is Deep Learning?   \n",
       "10                sas          What is Deep Learning and Why It Matters?   \n",
       "11         techtarget        What is Deep Learning and How Does It Work?   \n",
       "12         javatpoint                             Deep Learning Tutorial   \n",
       "13            youtube  Deep Learning Tutorial For Beginners | 2023 | ...   \n",
       "14                hpe                  What is Deep Learning? | Glossary   \n",
       "15             forbes        What Is Deep Learning AI & How Does It Work   \n",
       "16  developers.google                          Machine Learning Glossary   \n",
       "17         aws.amazon                             What is Deep Learning?   \n",
       "18                wgu                             What Is Deep Learning?   \n",
       "19           datacamp                             Deep Learning Tutorial   \n",
       "20    analyticsvidhya  A comprehensive tutorial on Deep Learning – Pa...   \n",
       "21  healthitanalytics  What Is Deep Learning and How Will It Change H...   \n",
       "22            zendesk  Deep learning vs. machine learning: What's the...   \n",
       "23                ibm                             What is Deep Learning?   \n",
       "24            edureka  What is Deep Learning | Getting Started With D...   \n",
       "25       mitsloan.mit                        Machine learning, explained   \n",
       "\n",
       "                                                  URL  \\\n",
       "0         https://en.wikipedia.org/wiki/Deep_learning   \n",
       "1   https://www.oracle.com/artificial-intelligence...   \n",
       "2   https://www.geeksforgeeks.org/introduction-dee...   \n",
       "3   https://www.netapp.com/artificial-intelligence...   \n",
       "4   https://www.meltwater.com/en/blog/fundamentals...   \n",
       "5   https://www.tibco.com/reference-center/what-is...   \n",
       "6   https://azure.microsoft.com/en-us/resources/cl...   \n",
       "7   https://www.databricks.com/glossary/deep-learning   \n",
       "8   https://flatironschool.com/blog/what-is-deep-l...   \n",
       "9   https://www.eweek.com/enterprise-apps/deep-lea...   \n",
       "10  https://www.sas.com/en_us/insights/analytics/d...   \n",
       "11  https://www.techtarget.com/searchenterpriseai/...   \n",
       "12           https://www.javatpoint.com/deep-learning   \n",
       "13        https://www.youtube.com/watch?v=6M5VXKLf4D4   \n",
       "14  https://www.hpe.com/us/en/what-is/deep-learnin...   \n",
       "15  https://www.forbes.com/advisor/in/business/sof...   \n",
       "16  https://developers.google.com/machine-learning...   \n",
       "17      https://aws.amazon.com/what-is/deep-learning/   \n",
       "18  https://www.wgu.edu/blog/what-deep-learning200...   \n",
       "19  https://www.datacamp.com/tutorial/tutorial-dee...   \n",
       "20  https://www.analyticsvidhya.com/blog/2021/05/a...   \n",
       "21  https://healthitanalytics.com/features/what-is...   \n",
       "22  https://www.zendesk.com/blog/machine-learning-...   \n",
       "23           https://www.ibm.com/topics/deep-learning   \n",
       "24  https://www.edureka.co/blog/what-is-deep-learning   \n",
       "25  https://mitsloan.mit.edu/ideas-made-to-matter/...   \n",
       "\n",
       "                                                 Text  \n",
       "0   deep learning wikipedia jump content main menu...  \n",
       "1   deep learning oracle accessibility policy skip...  \n",
       "2   introduction deep learning geeksforgeeks skip ...  \n",
       "3   deep learning work netapp bluexp login netapp ...  \n",
       "4   fundamental deep learningour suiteby needresou...  \n",
       "5   deep learning tibco software skip main content...  \n",
       "6   deep learning microsoft azure browser longer s...  \n",
       "7   deep learning platformthe databricks lakehouse...  \n",
       "8   deep learning python flatiron school skip cont...  \n",
       "9   deep learning eweek close latest news artifici...  \n",
       "10  deep learning matter sa skip main content soft...  \n",
       "11  deep learning work enterprise ai search techta...  \n",
       "12  deep learning tutorial javatpoint home java de...  \n",
       "13  deep learning deep learning deep learning tuto...  \n",
       "14  deep learning glossary hpe skip main content h...  \n",
       "15  deep learning ai work forbes advisor india sel...  \n",
       "16  machine learning glossary google developer mac...  \n",
       "17  deep learning deep learning explained aws skip...  \n",
       "18  deep learning national skip content skip live ...  \n",
       "19  deep learning tutorial datacampskip main conte...  \n",
       "20  deep learning tutorial deep learning search ne...  \n",
       "21  deep learning change healthcare home news feat...  \n",
       "22  deep learning v machine learning difference ze...  \n",
       "23  deep learning ibm deep learning deep learning ...  \n",
       "24  deep learning getting started deep learning ed...  \n",
       "25  machine learning explained mit sloan skip main...  "
      ]
     },
     "execution_count": 12,
     "metadata": {},
     "output_type": "execute_result"
    }
   ],
   "source": [
    "test_data.reset_index().drop([\"index\"], axis = 1)\n",
    "val_data.reset_index().drop([\"index\"], axis = 1)\n",
    "train_data.reset_index().drop([\"index\"], axis = 1)"
   ]
  },
  {
   "cell_type": "code",
   "execution_count": 13,
   "id": "4f9d9f55-1489-4477-a4cb-1201133ff0e4",
   "metadata": {},
   "outputs": [
    {
     "name": "stderr",
     "output_type": "stream",
     "text": [
      "c:\\Users\\William Zhang\\.conda\\envs\\search_sense\\lib\\site-packages\\tqdm\\auto.py:21: TqdmWarning: IProgress not found. Please update jupyter and ipywidgets. See https://ipywidgets.readthedocs.io/en/stable/user_install.html\n",
      "  from .autonotebook import tqdm as notebook_tqdm\n"
     ]
    }
   ],
   "source": [
    "#Using Bart\n",
    "# !pip install transformers\n",
    "# !pip install torch\n",
    "import torch\n",
    "from transformers import BartForConditionalGeneration, AutoTokenizer"
   ]
  },
  {
   "cell_type": "code",
   "execution_count": null,
   "id": "da42f2ca-e71a-4bb0-b91b-3fa9cc51d822",
   "metadata": {},
   "outputs": [
    {
     "ename": "NameError",
     "evalue": "name 'BartForConditionalGeneration' is not defined",
     "output_type": "error",
     "traceback": [
      "\u001b[1;31m---------------------------------------------------------------------------\u001b[0m",
      "\u001b[1;31mNameError\u001b[0m                                 Traceback (most recent call last)",
      "Cell \u001b[1;32mIn[18], line 1\u001b[0m\n\u001b[1;32m----> 1\u001b[0m model \u001b[39m=\u001b[39m BartForConditionalGeneration\u001b[39m.\u001b[39mfrom_pretrained(\u001b[39m\"\u001b[39m\u001b[39mfacebook/bart-large-cnn\u001b[39m\u001b[39m\"\u001b[39m)\n\u001b[0;32m      2\u001b[0m tokenizer \u001b[39m=\u001b[39m AutoTokenizer\u001b[39m.\u001b[39mfrom_pretrained(\u001b[39m\"\u001b[39m\u001b[39mfacebook/bart-large-cnn\u001b[39m\u001b[39m\"\u001b[39m)\n\u001b[0;32m      3\u001b[0m device \u001b[39m=\u001b[39m \u001b[39m\"\u001b[39m\u001b[39mcuda:0\u001b[39m\u001b[39m\"\u001b[39m \u001b[39mif\u001b[39;00m torch\u001b[39m.\u001b[39mcuda\u001b[39m.\u001b[39mis_available() \u001b[39melse\u001b[39;00m \u001b[39m\"\u001b[39m\u001b[39mcpu\u001b[39m\u001b[39m\"\u001b[39m\n",
      "\u001b[1;31mNameError\u001b[0m: name 'BartForConditionalGeneration' is not defined"
     ]
    }
   ],
   "source": [
    "model = BartForConditionalGeneration.from_pretrained(\"facebook/bart-large-cnn\")\n",
    "tokenizer = AutoTokenizer.from_pretrained(\"facebook/bart-large-cnn\")\n"
   ]
  },
  {
   "cell_type": "code",
   "execution_count": null,
   "id": "4027035e",
   "metadata": {},
   "outputs": [
    {
     "data": {
      "text/plain": [
       "41231"
      ]
     },
     "execution_count": 15,
     "metadata": {},
     "output_type": "execute_result"
    }
   ],
   "source": [
    "# len(df_bart[\"Text\"][0])"
   ]
  },
  {
   "cell_type": "code",
   "execution_count": null,
   "id": "bc0650de",
   "metadata": {},
   "outputs": [],
   "source": [
    "# inputs = tokenizer([df_bart[\"Text\"][2]],max_length = 1024,return_tensors=\"pt\")\n"
   ]
  },
  {
   "cell_type": "code",
   "execution_count": null,
   "id": "2f50aef4",
   "metadata": {},
   "outputs": [
    {
     "data": {
      "text/plain": [
       "'What is RGB Color? – Nix Sensor Ltd – NIX Sensor Ltd Skip to content BRAND NEW Nix Mini 3'"
      ]
     },
     "execution_count": 21,
     "metadata": {},
     "output_type": "execute_result"
    }
   ],
   "source": [
    "summary_ids = model.generate(inputs[\"input_ids\"], num_beams=1, min_length=0, max_length=30)\n",
    "tokenizer.batch_decode(summary_ids, skip_special_tokens=True, clean_up_tokenization_spaces=False)[0]"
   ]
  },
  {
   "attachments": {},
   "cell_type": "markdown",
   "id": "228c0abd",
   "metadata": {},
   "source": [
    "Testing lemmatize or not"
   ]
  },
  {
   "cell_type": "code",
   "execution_count": 14,
   "id": "0fe86c91",
   "metadata": {},
   "outputs": [],
   "source": [
    "from transformers import AutoTokenizer, LEDForConditionalGeneration\n",
    "\n",
    "device = \"cuda:0\" if torch.cuda.is_available() else \"cpu\"\n",
    "\n",
    "model = LEDForConditionalGeneration.from_pretrained(\"allenai/led-large-16384-arxiv\")\n",
    "tokenizer = AutoTokenizer.from_pretrained(\"allenai/led-large-16384-arxiv\")\n"
   ]
  },
  {
   "attachments": {},
   "cell_type": "markdown",
   "id": "e2cab876",
   "metadata": {},
   "source": [
    "LEMMATIZED"
   ]
  },
  {
   "cell_type": "code",
   "execution_count": 15,
   "id": "acc842d6",
   "metadata": {},
   "outputs": [
    {
     "name": "stdout",
     "output_type": "stream",
     "text": [
      " deep learning is a machine learning technique that teach computer to do what come naturally to humans: learn by example. in deep learning, a computer model learns to perform classification task directly from images, text, or sound. deep learning is a specialized form of machine learning. \n",
      " deep learning achieves recognition accuracy at higher level\n",
      "What Is Deep Learning? | How It Works, Techniques & Applications - MATLAB & Simulink Skip to content Toggle Main Navigation Sign In to Your MathWorks Account My Account My Community Profile Link License Sign Out Products Solutions Academia Support Community Events Get MATLAB MATLAB Products Solutions Academia Support Community Events Get MATLAB MATLAB Sign In to Your MathWorks Account My Account My Community Profile Link License Sign Out Deep Learning Search MathWorks.com Search Close Mobile Search Close Mobile Search What Is Deep Learning? 3 thing you need to know Deep learning is a machine learning technique that teach computer to do what come naturally to humans: learn by example. Deep learning is a key technology behind driverless cars, enabling them to recognize a stop sign, or to distinguish a pedestrian from a lamppost. It is the key to voice control in consumer device like phones, tablets, TVs, and hands-free speakers. Deep learning is getting lot of attention lately and for good reason. It’s achieving result that were not possible before. In deep learning, a computer model learns to perform classification task directly from images, text, or sound. Deep learning model can achieve state-of-the-art accuracy, sometimes exceeding human-level performance. Models are trained by using a large set of labeled data and neural network architecture that contain many layers. Why It Matters How It Works Deep Learning with MATLAB Why Deep Learning Matters How doe deep learning attain such impressive results? In a word, accuracy. Deep learning achieves recognition accuracy at higher level than ever before. This help consumer electronics meet user expectations, and it is crucial for safety-critical application like driverless cars. Recent advance in deep learning have improved to the point where deep learning outperforms human in some task like classifying object in images. While deep learning wa first theorized in the 1980s, there are two main reason it ha only recently become useful: Deep learning requires large amount of labeled data. For example, driverless car development requires million of image and thousand of hour of video. Deep learning requires substantial computing power. High-performance GPUs have a parallel architecture that is efficient for deep learning. When combined with cluster or cloud computing, this enables development team to reduce training time for a deep learning network from week to hour or less. Examples of Deep Learning at Work Deep learning application are used in industry from automated driving to medical devices. Automated Driving: Automotive researcher are using deep learning to automatically detect object such a stop sign and traffic lights. In addition, deep learning is used to detect pedestrians, which help decrease accidents. Aerospace and Defense: Deep learning is used to identify object from satellite that locate area of interest, and identify safe or unsafe zone for troops. Medical Research: Cancer researcher are using deep learning to automatically detect cancer cells. Teams at UCLA built an advanced microscope that yield a high-dimensional data set used to train a deep learning application to accurately identify cancer cells. Industrial Automation: Deep learning is helping to improve worker safety around heavy machinery by automatically detecting when people or object are within an unsafe distance of machines. Electronics: Deep learning is being used in automated hearing and speech translation. For example, home assistance device that respond to your voice and know your preference are powered by deep learning applications. How Deep Learning Works Most deep learning method use neural network architectures, which is why deep learning model are often referred to a deep neural networks. The term “deep” usually refers to the number of hidden layer in the neural network. Traditional neural network (4:37) only contain 2-3 hidden layers, while deep network can have a many a 150. Deep learning model are trained by using large set of labeled data and neural network architecture that learn feature directly from the data without the need for manual feature extraction. Deep Learning and Traditional Machine Learning: Choosing the Right Approach 3:40 Video length is 3:40 Deep Learning and Traditional Machine Learning: Choosing the Right Approach Figure 1: Neural networks, which are organized in layer consisting of a set of interconnected nodes. Networks can have ten or hundred of hidden layers. One of the most popular type of deep neural network is known a convolutional neural network (CNN or ConvNet). A CNN convolves learned feature with input data, and us 2D convolutional layers, making this architecture well suited to processing 2D data, such a images. CNNs eliminate the need for manual feature extraction, so you do not need to identify feature used to classify images. The CNN work by extracting feature directly from images. The relevant feature are not pretrained; they are learned while the network train on a collection of images. This automated feature extraction make deep learning model highly accurate for computer vision task such a object classification. Figure 2: Example of a network with many convolutional layers. Filters are applied to each training image at different resolutions, and the output of each convolved image serf a the input to the next layer. CNNs learn to detect different feature of an image using ten or hundred of hidden layers. Every hidden layer increase the complexity of the learned image features. For example, the first hidden layer could learn how to detect edges, and the last learns how to detect more complex shape specifically catered to the shape of the object we are trying to recognize. What's the Difference Between Machine Learning and Deep Learning? Deep learning is a specialized form of machine learning. A machine learning workflow start with relevant feature being manually extracted from images. The feature are then used to create a model that categorizes the object in the image. With a deep learning workflow, relevant feature are automatically extracted from images. In addition, deep learning performs “end-to-end learning” – where a network is given raw data and a task to perform, such a classification, and it learns how to do this automatically. Another key difference is deep learning algorithm scale with data, whereas shallow learning converges. Shallow learning refers to machine learning method that plateau at a certain level of performance when you add more example and training data to the network. A key advantage of deep learning network is that they often continue to improve a the size of your data increases. Figure 3. Comparing a machine learning approach to categorizing vehicle (left) with deep learning (right). In machine learning, you manually choose feature and a classifier to sort images. With deep learning, feature extraction and modeling step are automatic. Object Recognition: Deep Learning and Machine Learning for Computer Vision (26:57) What Are Convolutional Neural Networks? | Introduction to Deep Learning (4:44) Choosing Between Machine Learning and Deep Learning Machine learning offer a variety of technique and model you can choose based on your application, the size of data you're processing, and the type of problem you want to solve. A successful deep learning application requires a very large amount of data (thousands of images) to train the model, a well a GPUs, or graphic processing units, to rapidly process your data. When choosing between machine learning and deep learning, consider whether you have a high-performance GPU and lot of labeled data. If you don’t have either of those things, it may make more sense to use machine learning instead of deep learning. Deep learning is generally more complex, so you’ll need at least a few thousand image to get reliable results. Having a high-performance GPU mean the model will take le time to analyze all those images. Panel Navigation Deep Learning and Traditional Machine Learning: Choosing the Right Approach Read ebook How to Create and Train Deep Learning Models The three most common way people use deep learning to perform object classification are: Training from Scratch To train a deep network from scratch, you gather a very large labeled data set and design a network architecture that will learn the feature and model. This is good for new applications, or application that will have a large number of output categories. This is a le common approach because with the large amount of data and rate of learning, these network typically take day or week to train. Deep Learning in 11 Lines of MATLAB Code | Deep Learning with MATLAB (2:38) Transfer Learning Most deep learning application use the transfer learning approach, a process that involves fine-tuning a pretrained model. You start with an existing network, such a AlexNet or GoogLeNet, and feed in new data containing previously unknown classes. After making some tweak to the network, you can now perform a new task, such a categorizing only dog or cat instead of 1000 different objects. This also ha the advantage of needing much le data (processing thousand of images, rather than millions), so computation time drop to minute or hours. Transfer learning requires an interface to the internals of the pre-existing network, so it can be surgically modified and enhanced for the new task. MATLAB® ha tool and function designed to help you do transfer learning. Transfer Learning in 10 Lines of MATLAB Code | Deep Learning with MATLAB (3:59) Feature Extraction A slightly le common, more specialized approach to deep learning is to use the network a a feature extractor. Since all the layer are tasked with learning certain feature from images, we can pull these feature out of the network at any time during the training process. These feature can then be used a input to a machine learning model such a support vector machine (SVM). Accelerating Deep Learning Models with GPUs Training a deep learning model can take a long time, from day to weeks. Using GPU acceleration can speed up the process significantly. Using MATLAB with a GPU reduces the time required to train a network and can cut the training time for an image classification problem from day down to hours. In training deep learning models, MATLAB us GPUs (when available) without requiring you to understand how to program GPUs explicitly. Figure 4. Deep Learning Toolbox command for training your own CNN from scratch or using a pretrained model for transfer learning. Deep Learning Applications Pretrained deep neural network model can be used to quickly apply deep learning to your problem by performing transfer learning or feature extraction. For MATLAB users, some available model include AlexNet, VGG-16, and VGG-19, a well a Caffe model (for example, from Caffe Model Zoo) imported using importCaffeNetwork. Use AlexNet to Recognize Objects with Your Webcam Use MATLAB, a simple webcam, and a deep neural network to identify object in your surroundings. Learn more Example: Object Detection Using Deep Learning In addition to object recognition, which identifies a specific object in an image or video, deep learning can also be used for object detection. Object detection algorithm like YOLO can recognize and locate the object in a scene, and can locate multiple object within the image. See example Deep Learning with MATLAB MATLAB make deep learning easy. With tool and function for managing large data sets, MATLAB also offer specialized toolbox for working with machine learning, neural networks, computer vision, and automated driving. With just a few line of code, MATLAB let you do deep learning without being an expert. Get started quickly, create and visualize models, and deploy model to server and embedded devices. Teams are successful using MATLAB for deep learning because it let you: Create and Visualize Models with Just a Few Lines of Code. MATLAB let you build deep learning model with minimal code. With MATLAB, you can quickly import pretrained model and visualize and debug intermediate result a you adjust training parameters. Perform Deep Learning Without Being an Expert. You can use MATLAB to learn and gain expertise in the area of deep learning. Most of u have never taken a course in deep learning. We have to learn on the job. MATLAB make learning about this field practical and accessible. In addition, MATLAB enables domain expert to do deep learning – instead of handing the task over to data scientist who may not know your industry or application. Automate Ground Truth Labeling of Images and Video. MATLAB enables user to interactively label object within image and can automate ground truth labeling within video for training and testing deep learning models. This interactive and automated approach can lead to better result in le time. Integrate Deep Learning in a Single Workflow. MATLAB can unify multiple domain in a single workflow. With MATLAB, you can do your thinking and programming in one environment. It offer tool and function for deep learning, and also for a range of domain that feed into deep learning algorithms, such a signal processing, computer vision, and data analytics. With MATLAB, you can integrate result into your existing applications. MATLAB automates deploying your deep learning model on enterprise systems, clusters, clouds, and embedded devices. See more deep learning feature and get example code. Related products: MATLAB, Computer Vision Toolbox™, Statistics and Machine Learning Toolbox™, Deep Learning Toolbox™, and Automated Driving Toolbox™. Top 5 Reasons to Use MATLAB for Deep Learning 2:16 Video length is 2:16 Top 5 Reasons to Use MATLAB for Deep Learning See more deep learning feature and get example code Learn More About Deep Learning What Is Deep Learning? | Introduction to Deep Learning 3:33 Video length is 3:33 What Is Deep Learning? | Introduction to Deep Learning Deep Learning in 11 Lines of MATLAB Code | Deep Learning with MATLAB 2:38 Video length is 2:38 Deep Learning in 11 Lines of MATLAB Code | Deep Learning with MATLAB Deep Learning for Engineers 5 video Deep Learning for Engineers (5 videos) Get Started with Deep Learning Using MATLAB 18:23 Video length is 18:23 Get Started with Deep Learning Using MATLAB Deep Learning in Simulink 3:45 Video length is 3:45 Deep Learning in Simulink Practical Deep Learning Examples with MATLAB Related Topics Machine Learning Neural Networks Predictive Analytics Artificial Intelligence Reinforcement Learning Convolutional Neural Network × Select a Web Site Choose a web site to get translated content where available and see local event and offers. Based on your location, we recommend that you select: . (English) (Deutsch) (Français) （简体中文） (English) You can also select a web site from the following list How to Get Best Site Performance Select the China site (in Chinese or English) for best site performance. Other MathWorks country site are not optimized for visit from your location. Americas América Latina (Español) Canada (English) United States (English) Europe Belgium (English) Denmark (English) Deutschland (Deutsch) España (Español) Finland (English) France (Français) Ireland (English) Italia (Italiano) Luxembourg (English) Netherlands (English) Norway (English) Österreich (Deutsch) Portugal (English) Sweden (English) Switzerland Deutsch English Français United Kingdom (English) Asia Pacific Australia (English) India (English) New Zealand (English) 中国 简体中文Chinese English 日本Japanese (日本語) 한국Korean (한국어) Contact your local office Trial software Contact sale MathWorks Accelerating the pace of engineering and science MathWorks is the leading developer of mathematical computing software for engineer and scientists. Discover… Explore Products MATLAB Simulink Student Software Hardware Support File Exchange Try or Buy Downloads Trial Software Contact Sales Pricing and Licensing How to Buy Learn to Use Documentation Tutorials Examples Videos and Webinars Training Get Support Installation Help MATLAB Answers Consulting License Center Contact Support About MathWorks Careers Newsroom Social Mission Customer Stories About MathWorks Select a Web Site United States Trust Center Trademarks Privacy Policy Preventing Piracy Application Status © 1994-2023 The MathWorks, Inc. Join the conversation\n"
     ]
    }
   ],
   "source": [
    "inputs = tokenizer.encode(df_bart[\"Text\"][1], return_tensors=\"pt\")\n",
    "\n",
    "global_attention_mask = torch.zeros_like(inputs)\n",
    "global_attention_mask[:, 0] = 1\n",
    "\n",
    "model = model.to(device)\n",
    "inputs = inputs.to(device)\n",
    "global_attention_mask = global_attention_mask.to(device)\n",
    "\n",
    "summary_ids = model.generate(inputs, global_attention_mask=global_attention_mask, num_beams = 1, max_length = 64)\n",
    "print(tokenizer.decode(summary_ids[0], skip_special_tokens=True, clean_up_tokenization_spaces=True))\n",
    "print(df_bart[\"Text\"][1])"
   ]
  },
  {
   "attachments": {},
   "cell_type": "markdown",
   "id": "44a7974a",
   "metadata": {},
   "source": [
    "NOT LEMMATIZED"
   ]
  },
  {
   "cell_type": "code",
   "execution_count": 31,
   "id": "f7ac94f9",
   "metadata": {},
   "outputs": [
    {
     "name": "stdout",
     "output_type": "stream",
     "text": [
      " the aim of this article is to provide a concise introduction to the subject of determining the eigenvectors of a matrix. \n",
      " the purpose of this article is to provide a concise introduction to the subject of determining the eigenvectors of a matrix. \n",
      " the purpose of this article is to provide a\n",
      "____________________________________________\n",
      "Determining the Eigenvectors of a Matrix My Preferences My Reading List Literature Notes Test Prep Study Guides Log In Sign Up Linear Algebra ! Home Study Guides Linear Algebra Determining the Eigenvectors of a Matrix All Subjects Vector Algebra The SpaceR2 The SpaceR3 The SpaceRn Matrix Algebra Matrices Operations with Matrices Linear Systems Gaussian Elimination Using Elementary Row Operations to Determine A−1 Introduction to Linear Systems Solutions to Linear Systems Real Euclidean Vector Spaces Linear Combinations and Span Linear Independence The Rank of a Matrix A Basis for a Vector Space Projection onto a Subspace Row Space and Column Space of a Matrix Subspaces ofRn The Nullspace of a Matrix The Rank Plus Nullity Theorem More Vector Spaces; Isomorphism The Determinant Cramer's Rule The Classical Adjoint of a Square Matrix Definitions of the Determinant Laplace Expansions for the Determinant Eigenvalues and Eigenvectors Determining the Eigenvalues of a Matrix Determining the Eigenvectors of a Matrix Eigenspaces Diagonalization Eigenvalue and Eigenvector Defined Determining the Eigenvectors of a Matrix In order to determine the eigenvectors of a matrix, you must first determine the eigenvalues. Substitute one eigenvalue λ into the equation A x = λ x—or, equivalently, into ( A − λ I) x = 0—and solve for x; the resulting nonzero solutons form the set of eigenvectors of A corresponding to the selectd eigenvalue. This process is then repeated for each of the remaining eigenvalues. Example 1: Determine the eigenvectors of the matrix In Example 1, the eigenvalues of this matrix were found to be λ = −1 and λ = −2. Therefore, there are nonzero vectors x such that A x = x (the eigenvectors corresponding to the eigenvalue λ = −1), and there are nonzero vectors x such that A x = −2 x (the eigenvectors corresponding to the eigenvalue λ = −2). The eigenvectors corresponding to the eigenvalue λ = −1 are the solutions of the equation A x = −x: This is equivalent to the pair of equations which simplifies to [Note that these equations are not independent. If they were independent, then only ( x 1, x 2) T = (0, 0) T would satisfy them; this would signal that an error was made in the determination of the eigenvalues. If the eigenvalues are calculated correctly, then there must be nonzero solutions to each system A x = λ x.] The equations above are satisfied by all vectors x = ( x 1, x 2) T such that x 2 = x 1. Any such vector has the form ( x 1, x 2) T. and is therefore a multiple of the vector (1, 1) T. Consequently, the eigenvectors of A corresponding to the eigenvalue λ = −1 are precisely the vectors where t is any nonzero scalar. The eigenvectors corresponding to the eigenvalue λ = −2 are the solutions of the equation A x = −2 x: This is equivalent to the “pair” of equations Again, note that these equations are not independent. They are satisfied by any vector x = ( x 1, x 2) T that is a multiple of the vector (2, 3) T; that is, the eigenvectors of A corresponding to the eigenvalue λ = −2 are the vectors where t is any nonzero scalar. Example 2: Consider the general 2 x 2 matrix Express the eigenvalues of A in terms of a, b, c, and d. What can you say about the eigenvalues if b = c (that is, if the matrix A is symmetric)? Verify that the sum of the eigenvalues is equal to the sum of the diagonal entries in A. Verify that the product of the eigenvalues is equal to the determinant of A. What can you say about the matrix A if one of its eigenvalues is 0? The solutions are as follows: The eigenvalues of A are found by solving the characteristic equation, det ( A − λ I) = 0: The solutions of this equation—which are the eigenvalues of A—are found by using the quadratic formula: The discriminant in (**) can be rewritten as follows: Therefore, if b = c, the discriminant becomes ( a − d) 2 + 4 b 2 = ( a − d) 2 + (2 b) 2. Being the sum of two squares, this expression is nonnegative, so (**) implies that the eigenvalues are real. In fact, it can be shown that the eigenvalues of any real, symmetric matrix are real. The sum of the eigenvalues can be found by adding the two values expressed in (**) above: which does indeed equal the sum of the diagonal entries of A. (The sum of the diagonal entries of any square matrix is called the trace of the matrix.) Another method for determining the sum of the eigenvalues, and one which works for any size matrix, is to examine the characteristic equation. From the theory of polynomial equations, it is known that if p(λ) is a monic polynomial of degree n, then the sum of the roots of the equation p(λ) = 0 is the opposite of the coefficient of the λ n−1 term in p(λ). The sum of the roots of equation (*) is therefore −[−( a+ d)]= a+ d, as desired. This second method can be used to prove that the sum of the eigenvalues of any (square) matrix is equal to the trace of the matrix. The product of the eigenvalues can be found by multiplying the two values expressed in (**) above: which is indeed equal to the determinant of A. Another proof that the product of the eigenvalues of any (square) matrix is equal to its determinant proceeds as follows. If A is an n x n matrix, then its characteristic polynomial, p(λ), is monic of degree n. The equation p(λ) = 0 therefore has n roots: λ 1, λ 2, …, λ n (which may not be distinct); these are the eigenvalues. Consequently, the polynomial p(λ) = det( A − λ I) can be expressed in factored form as follows: Substituting λ = 0 into this identity gives the desired result: det A =λ 1, λ 2 … λ n . If 0 is an eigenvalue of a matrix A, then the equation A x = λ x = 0 x = 0 must have nonzero solutions, which are the eigenvectors associated with λ = 0. But if A is square and A x = 0 has nonzero solutions, then A must be singular, that is, det A must be 0. This observation establishes the following fact: Zero is an eigenvalue of a matrix if and only if the matrix is singular. Example 3: Determine the eigenvalues and eigenvectors of the identity matrix I without first calculating its characteristic equation. The equation A x = λ x characterizes the eigenvalues and associated eigenvectors of any matrix A. If A = I, this equation becomes x = λ x. Since x ≠ 0, this equation implies λ = 1; then, from x = 1 x, every (nonzero) vector is an eigenvector of I. Remember the definition: x is an eigenvector of a matrix A if A x is a scalar multiple of x and x ≠ 0. Since multiplication by I leaves x unchanged, every (nonzero) vector must be an eigenvector of I, and the only possible scalar multiple—eigenvalue—is 1. Example 4: The Cayley‐Hamilton Theorem states that any square matrix satisfies its own characteristic equation; that is, if A has characteristic polynomial p(λ), then p(A) = 0. To illustrate, consider the matrix from Example 1. Since its characteristic polynomial is p(λ) = λ 2+3λ+2, the Cayley‐Hamilton Theorem states that p(A) should equal the zero matrix, 0. This is verified as follows: If A is an n by n matrix, then its characteristic polynomial has degree n. The Cayley‐Hamilton Theorem then provides a way to express every integer power A k in terms of a polynomial in A of degree less than n. For example, for the 2 x 2 matrix above, the fact that A 2 + 3 A + 2 I = 0 implies A 2 = −3 A − 2 I. Thus, A 2 is expressed in terms of a polynomial of degree 1 in A. Now, by repeated applications, every positive integer power of this 2 by 2 matrix A can be expressed as a polynomial of degree less than 2. To illustrate, note the following calculation for expressing A 5 in term of a linear polynomial in A; the key is to consistently replace A 2 by −3 A − 2 I and simplify: This result yields a calculation which you are welcome to verify be performing the repeated multiplications The Cayley‐Hamilton Theorem can also be used to express the inverse of an invertible matrix A as a polynomial in A. For example, for the 2 by 2 matrix A above, This result can be easily verified. The inverse of an invertible 2 by 2 matrix is found by first interchanging the entries on the diagonal, then taking the opposite of the each off‐diagonal entry, and, finally, dividing by the determinant of A. Since det A = 2, but validating the expression in (*) for A −1. The same ideas used to express any positive integer power of an n by n matrix A in terms of a polynomial of degree less than n can also be used to express any negative integer power of (an invertible matrix) A in terms of such a polynomial. Example 5: Let A be a square matrix. How do the eigenvalues and associated eigenvectors of A 2 compare with those of A? Assuming that A is invertible, how do the eigenvalues and associated eigenvectors of A −1 compare with those of A? Let λ be an eigenvalue of the matrix A, and let x be a corresponding eigenvector. Then A x = λ x, and it follows from this equation that Therefore, λ 2 is an eigenvalue of A 2, and x is the corresponding eigenvector. Now, if A is invertible, then A has no zero eigenvalues, and the following calculations are justified: so λ −1 is an eigenvalue of A −1 with corresponding eigenvector x. Previous Determining the Eigenvalues of a Matrix Next Eigenspaces The SpaceR2 The SpaceR3 The SpaceRn Matrices Operations with Matrices Gaussian Elimination Using Elementary Row Operations to Determine A−1 Introduction to Linear Systems Solutions to Linear Systems Linear Combinations and Span Linear Independence The Rank of a Matrix A Basis for a Vector Space Projection onto a Subspace Row Space and Column Space of a Matrix Subspaces ofRn The Nullspace of a Matrix The Rank Plus Nullity Theorem More Vector Spaces; Isomorphism Cramer's Rule The Classical Adjoint of a Square Matrix Definitions of the Determinant Laplace Expansions for the Determinant Determining the Eigenvalues of a Matrix Determining the Eigenvectors of a Matrix Eigenspaces Diagonalization Eigenvalue and Eigenvector Defined × Back to Top Adam Bede has been added to your Reading List! Ok Undo Manage My Reading list × Adam Bede has been added to your Reading List! Ok Manage My Reading list × Removing #book# from your Reading List will also remove any bookmarked pages associated with this title. Are you sure you want to remove #bookConfirmation# and any corresponding bookmarks? Remove Cancel × CliffsNotes study guides are written by real teachers and professors, so no matter what you're studying, CliffsNotes can ease your homework headaches and help you score high on exams. About CliffsNotes Advertise with Us Contact Us Follow us: © 2023 Course Hero, Inc. All rights reserved. Terms of Service Privacy Policy Copyright Policy Disclaimer Sitemap × × REMOVED\n"
     ]
    }
   ],
   "source": [
    "inputs = tokenizer.encode(df_bart_unlem[\"Text\"][1], return_tensors=\"pt\")\n",
    "\n",
    "global_attention_mask = torch.zeros_like(inputs)\n",
    "global_attention_mask[:, 0] = 1\n",
    "\n",
    "model = model.to(device)\n",
    "inputs = inputs.to(device)\n",
    "global_attention_mask = global_attention_mask.to(device)\n",
    "\n",
    "summary_ids = model.generate(inputs, global_attention_mask=global_attention_mask, num_beams = 1, max_length = 64)\n",
    "print(tokenizer.decode(summary_ids[0], skip_special_tokens=True, clean_up_tokenization_spaces=True))\n",
    "print(\"____________________________________________\")\n",
    "print(df_bart_unlem[\"Text\"][1])"
   ]
  },
  {
   "attachments": {},
   "cell_type": "markdown",
   "id": "e38247dc",
   "metadata": {},
   "source": [
    "# NOTES ABOUT SUMMARIZATION\n",
    "1. We need to filter out the navigation content for Bart to do a good job, I assume we can accomplish that through briefly studying the html of some of the web pages\n",
    "2. Some website includes latex to describe mathematical expressions or other such expressions, hence BART cannot read that and cannot comprehend that, we either need to integrate a latex parser or filter out those expressions\n",
    "3. Research why LED keeps cutting off some of the summary, how to fix this\n",
    "\n",
    "\n",
    "\n",
    "4. The model is trained on a specific domain (arxiv) and will not perform well on other domains (written by copilot not sure if valid)\n"
   ]
  },
  {
   "cell_type": "code",
   "execution_count": null,
   "id": "df014057",
   "metadata": {},
   "outputs": [],
   "source": []
  }
 ],
 "metadata": {
  "kernelspec": {
   "display_name": "Python 3 (ipykernel)",
   "language": "python",
   "name": "python3"
  },
  "language_info": {
   "codemirror_mode": {
    "name": "ipython",
    "version": 3
   },
   "file_extension": ".py",
   "mimetype": "text/x-python",
   "name": "python",
   "nbconvert_exporter": "python",
   "pygments_lexer": "ipython3",
   "version": "3.10.11"
  }
 },
 "nbformat": 4,
 "nbformat_minor": 5
}
