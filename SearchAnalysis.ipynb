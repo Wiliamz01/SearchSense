{
 "cells": [
  {
   "attachments": {},
   "cell_type": "markdown",
   "id": "bfa0d42c",
   "metadata": {},
   "source": [
    "# Known Problem:\n",
    "- **Unresolved**\n",
    "- **Partially Resolved**\n",
    "    1. Certain websites cause the error of, specified here: https://stackoverflow.com/questions/23013220/max-retries-exceeded-with-url-in-requests, which is a connection error. \n",
    "        - this appears to be windows specific as this was not a relevant issue when testing code in ubuntu 22.04, some forum reflect similar message\n",
    "        - FAILED SOLUTION: first response in that stackoverflow page, still kept the stuff bc it seemed like better QOL\n",
    "        - ATTEMPTED SOLUTION: used try and except. NOTE: this solution is not ideal as it does not resolve the issue, it just ignores it and moves on.\n",
    "- **Resolved**\n",
    "    1. The search \"what is a taylor series\" returns SSLCertVerification Error.\n",
    "        - this resolution does not consider the security of the websites being accessed, potentially use try except to have the request verify when possible and not break when cannot verify\n",
    "        - ATTEMPTED SOLUTION: used try except to use verify=False when ssl error occurs. Nested try except to ensure that both connection error and ssl error are handled.\n",
    "\n",
    "    "
   ]
  },
  {
   "attachments": {},
   "cell_type": "markdown",
   "id": "f736e92b-fcbc-4051-9b96-f1667b546b35",
   "metadata": {},
   "source": [
    "# Part 1: Data Acquisition & Preparation\n",
    "\n",
    "## Collecting & Preprocessing Our Data"
   ]
  },
  {
   "cell_type": "code",
   "execution_count": 4,
   "id": "be0a22b4-8ee2-4ff9-afd6-ec408d9c905c",
   "metadata": {},
   "outputs": [],
   "source": [
    "#imports\n",
    "import requests #send HTTP requests to web pages and retrieve their content\n",
    "from bs4 import BeautifulSoup\n",
    "from nltk.tokenize import word_tokenize\n",
    "from nltk.stem import WordNetLemmatizer\n",
    "from sklearn.feature_extraction.text import TfidfVectorizer\n",
    "import nltk\n",
    "from urllib.parse import urlparse, urljoin\n",
    "import pandas as pd\n",
    "from nltk.corpus import stopwords\n",
    "import http.client\n",
    "import re"
   ]
  },
  {
   "cell_type": "code",
   "execution_count": 2,
   "id": "cf32bf2a-fe64-40af-b413-4f2737bbc288",
   "metadata": {},
   "outputs": [
    {
     "name": "stderr",
     "output_type": "stream",
     "text": [
      "[nltk_data] Downloading package punkt to /home/william/nltk_data...\n",
      "[nltk_data]   Package punkt is already up-to-date!\n",
      "[nltk_data] Downloading package stopwords to\n",
      "[nltk_data]     /home/william/nltk_data...\n",
      "[nltk_data]   Package stopwords is already up-to-date!\n",
      "[nltk_data] Downloading package wordnet to /home/william/nltk_data...\n",
      "[nltk_data]   Package wordnet is already up-to-date!\n"
     ]
    },
    {
     "data": {
      "text/plain": [
       "True"
      ]
     },
     "execution_count": 2,
     "metadata": {},
     "output_type": "execute_result"
    }
   ],
   "source": [
    "import ssl\n",
    "#ssl._create_default_https_context = ssl._create_unverified_context\n",
    "#uncomment if you cannot properly download punkt\n",
    "\n",
    "nltk.download('punkt')\n",
    "#ssl._create_default_https_context = ssl._create_default_https_context\n",
    "#uncomment if you cannot properly download punkt\n",
    "\n",
    "#remove filler words from an example column\n",
    "nltk.download(\"stopwords\")\n",
    "\n",
    "nltk.download('wordnet')"
   ]
  },
  {
   "cell_type": "code",
   "execution_count": 3,
   "id": "9215e926-9d63-4b94-9183-659fbc228d9b",
   "metadata": {},
   "outputs": [
    {
     "name": "stdout",
     "output_type": "stream",
     "text": [
      "Trying: https://en.wikipedia.org/wiki/Taylor_series\n",
      "Trying: https://mathworld.wolfram.com/TaylorSeries.html\n",
      "Trying: https://www.mathsisfun.com/algebra/taylor-series.html\n",
      "Trying: https://machinelearningmastery.com/a-gentle-introduction-to-taylor-series/\n",
      "Trying: https://byjus.com/maths/taylor-series/\n",
      "Trying: https://www.britannica.com/science/Taylor-series\n",
      "Trying: https://www.math.net/taylor-series\n",
      "Trying: https://brilliant.org/wiki/taylor-series-approximation/\n",
      "Trying: https://www.britannica.com/science/Taylor-series\n",
      "Trying: https://people.math.sc.edu/girardi/m142/handouts/10sTaylorPolySeries.pdf\n"
     ]
    },
    {
     "name": "stderr",
     "output_type": "stream",
     "text": [
      "Some characters could not be decoded, and were replaced with REPLACEMENT CHARACTER.\n"
     ]
    },
    {
     "name": "stdout",
     "output_type": "stream",
     "text": [
      "Trying: https://www.math.net/taylor-series\n",
      "Trying: https://web.ma.utexas.edu/users/m408s/CurrentWeb/LM11-11-2.php\n",
      "Trying: https://betterexplained.com/articles/taylor-series/\n",
      "Trying: https://calcworkshop.com/sequences-series/taylor-series/\n",
      "Trying: https://www.geeksforgeeks.org/taylor-series/\n",
      "Trying: https://math.libretexts.org/Bookshelves/Calculus/Calculus_3e_(Apex)/08%3A_Sequences_and_Series/8.07%3A_Taylor_Polynomials\n",
      "Trying: https://brilliant.org/wiki/taylor-series-approximation/\n",
      "Trying: https://users.math.msu.edu/users/magyarp/Math133/11.10-Taylor-Series.pdf\n"
     ]
    },
    {
     "name": "stderr",
     "output_type": "stream",
     "text": [
      "Some characters could not be decoded, and were replaced with REPLACEMENT CHARACTER.\n"
     ]
    },
    {
     "name": "stdout",
     "output_type": "stream",
     "text": [
      "Trying: https://math.libretexts.org/Bookshelves/Calculus/Calculus_3e_(Apex)/08%3A_Sequences_and_Series/8.07%3A_Taylor_Polynomials\n",
      "Trying: https://xaktly.com/TaylorSeries.html\n",
      "Trying: http://hyperphysics.phy-astr.gsu.edu/hbase/tayser.html\n",
      "Trying: https://www.mathworks.com/help/symbolic/sym.taylor.html\n",
      "Trying: http://www.math.smith.edu/~rhaas/m114-00/chp4taylor.pdf\n"
     ]
    },
    {
     "name": "stderr",
     "output_type": "stream",
     "text": [
      "Some characters could not be decoded, and were replaced with REPLACEMENT CHARACTER.\n"
     ]
    },
    {
     "name": "stdout",
     "output_type": "stream",
     "text": [
      "Trying: https://ncatlab.org/nlab/show/Taylor+series\n",
      "Trying: https://sites.millersville.edu/bikenaga/calculus2/taylor-series/taylor-series.html\n",
      "Trying: https://blog.cambridgecoaching.com/where-do-taylor-series-come-from-and-why-do-we-learn-about-them\n",
      "Trying: https://complex-analysis.com/content/taylor_series.html\n",
      "Trying: https://www.geeksforgeeks.org/taylor-series/\n",
      "Trying: https://www.cuemath.com/taylor-series-formula/\n",
      "Trying: https://education.ti.com/html/t3_free_courses/calculus84_online/mod24/mod24_lesson3.html\n",
      "Trying: https://users.math.msu.edu/users/magyarp/Math133/11.10-Taylor-Series.pdf\n"
     ]
    },
    {
     "name": "stderr",
     "output_type": "stream",
     "text": [
      "Some characters could not be decoded, and were replaced with REPLACEMENT CHARACTER.\n"
     ]
    },
    {
     "name": "stdout",
     "output_type": "stream",
     "text": [
      "Trying: https://xaktly.com/TaylorSeries.html\n",
      "Trying: http://hyperphysics.phy-astr.gsu.edu/hbase/tayser.html\n",
      "Trying: https://www.mathworks.com/help/symbolic/sym.taylor.html\n",
      "Trying: http://www.math.smith.edu/~rhaas/m114-00/chp4taylor.pdf\n"
     ]
    },
    {
     "name": "stderr",
     "output_type": "stream",
     "text": [
      "Some characters could not be decoded, and were replaced with REPLACEMENT CHARACTER.\n"
     ]
    },
    {
     "name": "stdout",
     "output_type": "stream",
     "text": [
      "Trying: https://ncatlab.org/nlab/show/Taylor+series\n",
      "Trying: https://sites.millersville.edu/bikenaga/calculus2/taylor-series/taylor-series.html\n",
      "Trying: https://blog.cambridgecoaching.com/where-do-taylor-series-come-from-and-why-do-we-learn-about-them\n",
      "Trying: https://complex-analysis.com/content/taylor_series.html\n",
      "Trying: https://www.efunda.com/math/taylor_series/taylor_series.cfm\n",
      "Trying: https://www.whitman.edu/mathematics/calculus_late_online/section13.10.html\n",
      "Trying: https://mathcs.org/analysis/reals/funseq/taylor.html\n",
      "Trying: https://myweb.uiowa.edu/pbreheny/7110/wiki/taylor-series.html\n",
      "Trying: https://www.sciencedirect.com/topics/engineering/taylor-series-expansion\n",
      "Error: Failed to retrieve content for: https://www.sciencedirect.com/topics/engineering/taylor-series-expansion\n",
      "Exception: 403 Client Error: Forbidden for url: https://www.sciencedirect.com/topics/engineering/taylor-series-expansion\n",
      "Trying: https://x-engineer.org/taylor-series-approximation/\n",
      "Trying: https://www.kristakingmath.com/blog/taylor-polynomials\n",
      "Trying: https://socratic.org/questions/what-does-the-a-means-in-the-taylor-series-expansion\n",
      "Grabbed search results\n"
     ]
    }
   ],
   "source": [
    "#Working implementation\n",
    "\n",
    "# Define the search query and retrieve search results\n",
    "search_query = input(\"What would you like to search up?\")\n",
    "search_engine_url = \"https://www.google.com/search?q=\"\n",
    "\n",
    "# Set headers to mimic a browser request\n",
    "headers = {\n",
    "    \"User-Agent\": \"Mozilla/5.0 (Windows NT 10.0; Win64; x64) AppleWebKit/537.36 (KHTML, like Gecko) Chrome/91.0.4472.124 Safari/537.36\"\n",
    "}\n",
    "\n",
    "# Number of search result pages to retrieve (each page typically has 10 results)\n",
    "num_pages = 5\n",
    "\n",
    "search_results = []\n",
    "\n",
    "def verify_ssl_certificate(url):\n",
    "    try:\n",
    "        response = requests.get(url, verify=True, headers=headers)\n",
    "        return True\n",
    "    except requests.exceptions.SSLError:\n",
    "        return False\n",
    "\n",
    "for page in range(num_pages):\n",
    "    # Calculate the start index for the current page\n",
    "    start_index = page * 10\n",
    "\n",
    "    try:\n",
    "        # Make a GET request to retrieve the search result page\n",
    "        response = requests.get(search_engine_url + search_query + f\"&start={start_index}\", headers=headers)\n",
    "        response.raise_for_status()  # Raise an exception for non-2xx status codes\n",
    "\n",
    "    except requests.exceptions.RequestException as e:\n",
    "        print(\"Error occurred for page\", page+1)\n",
    "        print(\"Exception:\", e)\n",
    "        continue\n",
    "\n",
    "    # Parse and extract information from the search result page\n",
    "    soup = BeautifulSoup(response.content, \"html.parser\")\n",
    "\n",
    "    for result in soup.select(\"div.g\"):\n",
    "        title_element = result.select_one(\"h3\")\n",
    "        if title_element:\n",
    "            title = title_element.get_text()\n",
    "            url_element = result.find(\"a\")\n",
    "            if url_element:\n",
    "                url = url_element[\"href\"]\n",
    "                parsed_url = urlparse(url)\n",
    "                if parsed_url.scheme == \"\":\n",
    "                    # Relative URL, convert it to absolute URL\n",
    "                    base_url = response.url\n",
    "                    url = urljoin(base_url, url)\n",
    "\n",
    "                # Verify SSL certificate before making the GET request\n",
    "                if verify_ssl_certificate(url):\n",
    "                    try:\n",
    "                        print(\"Trying:\", url)\n",
    "                        result_response = requests.get(url, headers=headers)\n",
    "                        result_response.raise_for_status()  # Raise an exception for non-2xx status codes\n",
    "                        result_soup = BeautifulSoup(result_response.content, \"html.parser\")\n",
    "                        text = result_soup.get_text()\n",
    "                        text = ' '.join(text.split())\n",
    "                        search_results.append({\"Title\": title, \"URL\": url, \"Text\": text})\n",
    "                    except http.client.IncompleteRead:\n",
    "                        print(\"Error: Incomplete read for:\", url)\n",
    "                        continue\n",
    "                    except Exception as e:\n",
    "                        print(\"Error: Failed to retrieve content for:\", url)\n",
    "                        print(\"Exception:\", e)\n",
    "                        continue\n",
    "\n",
    "                # Make a GET request to the URL of the search result\n",
    "                else:\n",
    "                    print(\"SSL certificate verification failed for:\", url)\n",
    "                    continue\n",
    "                    \n",
    "\n",
    "print(\"Grabbed search results\")\n",
    "\n",
    "# Process the search results as desired"
   ]
  },
  {
   "cell_type": "code",
   "execution_count": 5,
   "id": "ace71d1c-a252-4d3c-a969-7d90840edc84",
   "metadata": {},
   "outputs": [
    {
     "name": "stdout",
     "output_type": "stream",
     "text": [
      "46\n"
     ]
    },
    {
     "data": {
      "text/html": [
       "<div>\n",
       "<style scoped>\n",
       "    .dataframe tbody tr th:only-of-type {\n",
       "        vertical-align: middle;\n",
       "    }\n",
       "\n",
       "    .dataframe tbody tr th {\n",
       "        vertical-align: top;\n",
       "    }\n",
       "\n",
       "    .dataframe thead th {\n",
       "        text-align: right;\n",
       "    }\n",
       "</style>\n",
       "<table border=\"1\" class=\"dataframe\">\n",
       "  <thead>\n",
       "    <tr style=\"text-align: right;\">\n",
       "      <th></th>\n",
       "      <th>Domain</th>\n",
       "      <th>Title</th>\n",
       "      <th>URL</th>\n",
       "      <th>Text</th>\n",
       "    </tr>\n",
       "  </thead>\n",
       "  <tbody>\n",
       "    <tr>\n",
       "      <th>0</th>\n",
       "      <td>en.wikipedia</td>\n",
       "      <td>Taylor series</td>\n",
       "      <td>https://en.wikipedia.org/wiki/Taylor_series</td>\n",
       "      <td>Taylor series - Wikipedia Jump to content Main...</td>\n",
       "    </tr>\n",
       "    <tr>\n",
       "      <th>1</th>\n",
       "      <td>mathworld.wolfram</td>\n",
       "      <td>Taylor Series -- from Wolfram MathWorld</td>\n",
       "      <td>https://mathworld.wolfram.com/TaylorSeries.html</td>\n",
       "      <td>Taylor Series -- from Wolfram MathWorld TOPICS...</td>\n",
       "    </tr>\n",
       "    <tr>\n",
       "      <th>2</th>\n",
       "      <td>mathsisfun</td>\n",
       "      <td>Taylor Series</td>\n",
       "      <td>https://www.mathsisfun.com/algebra/taylor-seri...</td>\n",
       "      <td>Taylor Series Advanced Show Ads Hide Ads About...</td>\n",
       "    </tr>\n",
       "    <tr>\n",
       "      <th>3</th>\n",
       "      <td>machinelearningmastery</td>\n",
       "      <td>A Gentle Introduction to Taylor Series</td>\n",
       "      <td>https://machinelearningmastery.com/a-gentle-in...</td>\n",
       "      <td>A Gentle Introduction to Taylor Series - Machi...</td>\n",
       "    </tr>\n",
       "    <tr>\n",
       "      <th>4</th>\n",
       "      <td>byjus</td>\n",
       "      <td>Taylor Series (Proof and Examples)</td>\n",
       "      <td>https://byjus.com/maths/taylor-series/</td>\n",
       "      <td>Taylor Series (Proof and Examples) Login Study...</td>\n",
       "    </tr>\n",
       "  </tbody>\n",
       "</table>\n",
       "</div>"
      ],
      "text/plain": [
       "                   Domain                                    Title  \\\n",
       "0            en.wikipedia                            Taylor series   \n",
       "1       mathworld.wolfram  Taylor Series -- from Wolfram MathWorld   \n",
       "2              mathsisfun                            Taylor Series   \n",
       "3  machinelearningmastery   A Gentle Introduction to Taylor Series   \n",
       "4                   byjus       Taylor Series (Proof and Examples)   \n",
       "\n",
       "                                                 URL  \\\n",
       "0        https://en.wikipedia.org/wiki/Taylor_series   \n",
       "1    https://mathworld.wolfram.com/TaylorSeries.html   \n",
       "2  https://www.mathsisfun.com/algebra/taylor-seri...   \n",
       "3  https://machinelearningmastery.com/a-gentle-in...   \n",
       "4             https://byjus.com/maths/taylor-series/   \n",
       "\n",
       "                                                Text  \n",
       "0  Taylor series - Wikipedia Jump to content Main...  \n",
       "1  Taylor Series -- from Wolfram MathWorld TOPICS...  \n",
       "2  Taylor Series Advanced Show Ads Hide Ads About...  \n",
       "3  A Gentle Introduction to Taylor Series - Machi...  \n",
       "4  Taylor Series (Proof and Examples) Login Study...  "
      ]
     },
     "execution_count": 5,
     "metadata": {},
     "output_type": "execute_result"
    }
   ],
   "source": [
    "df = pd.DataFrame(search_results)\n",
    "df_bart = pd.DataFrame(search_results)\n",
    "\n",
    "# Extract domain names from URLs and set as the index for the dataframe\n",
    "tld_pattern = re.compile(r'\\.[a-zA-Z]+$')\n",
    "df['Domain'] = df['URL'].apply(lambda url: re.sub(tld_pattern, '', urlparse(url).netloc.replace(\"www.\", \"\")))\n",
    "df.insert(0, 'Domain', df.pop('Domain'))\n",
    "\n",
    "df_bart['Domain'] = df_bart['URL'].apply(lambda url: re.sub(tld_pattern, '', urlparse(url).netloc.replace(\"www.\", \"\")))\n",
    "df_bart.insert(0, 'Domain', df_bart.pop('Domain'))\n",
    "#Handles the \"Some characters could not be decoded, and were replaced with REPLACEMENT CHARACTER\" exception\n",
    "df_bart['Text'] = df_bart['Text'].str.replace('\\ufffd', '')\n",
    "\n",
    "#unfiltered dataframe\n",
    "print(len(df))\n",
    "df.head()"
   ]
  },
  {
   "cell_type": "code",
   "execution_count": 6,
   "id": "a3caa3ab-5338-4946-9731-efa2f83cc71d",
   "metadata": {},
   "outputs": [],
   "source": [
    "stop_words = stopwords.words(\"english\") #english filler words\n",
    "\n",
    "def preprocess(text):\n",
    "    '''\n",
    "    Input a text block and filter out unneeded characters\n",
    "    returns a filtered text block in the form of a str\n",
    "    Function filters whitespace, numbers, special characters, stopwords; handles case normalization \n",
    "    '''\n",
    "    # Remove special characters and numbers\n",
    "    cleaned_text = re.sub(r\"[^a-zA-Z]+\", \" \", text)\n",
    "    \n",
    "    # Convert to lowercase and split into words\n",
    "    words = cleaned_text.lower().split()\n",
    "    \n",
    "    # Remove stop words and single-character words\n",
    "    filtered_words = [word for word in words if word not in stop_words and len(word) > 1]\n",
    "    lemmatized_text = \" \".join([WordNetLemmatizer().lemmatize(word) for word in filtered_words])\n",
    "    \n",
    "    return lemmatized_text\n",
    "\n",
    "def bart_preprocess(text):\n",
    "\n",
    "    words = text.split()\n",
    "    lemmatized_text = \" \".join([WordNetLemmatizer().lemmatize(word) for word in words])\n",
    "\n",
    "    return lemmatized_text\n"
   ]
  },
  {
   "cell_type": "code",
   "execution_count": 7,
   "id": "e28f1150-3f91-4e37-933b-2250302cbfd6",
   "metadata": {},
   "outputs": [
    {
     "name": "stdout",
     "output_type": "stream",
     "text": [
      "length of unfiltered text:  51507\n",
      "length of filtered text:  27771\n"
     ]
    }
   ],
   "source": [
    "example = df[\"Text\"][0]\n",
    "processed_example = preprocess(example)\n",
    "\n",
    "print(\"length of unfiltered text: \", len(example))\n",
    "print(\"length of filtered text: \", len(processed_example))"
   ]
  },
  {
   "cell_type": "code",
   "execution_count": 8,
   "id": "d4372b92-65c2-4d2c-b446-70f1291fd72c",
   "metadata": {},
   "outputs": [],
   "source": [
    "#Properly using the apply() function onto a pandas column\n",
    "#removes both filler words and special characters\n",
    "df[\"Text\"] = df[\"Text\"].apply(preprocess)\n",
    "df_bart[\"Text\"] = df_bart[\"Text\"].apply(bart_preprocess)\n"
   ]
  },
  {
   "cell_type": "code",
   "execution_count": 9,
   "id": "e247526b-2b89-42c3-ac86-50cdca58d322",
   "metadata": {},
   "outputs": [
    {
     "name": "stdout",
     "output_type": "stream",
     "text": [
      "27771\n"
     ]
    }
   ],
   "source": [
    "print(len(df[\"Text\"][0]))"
   ]
  },
  {
   "cell_type": "code",
   "execution_count": 10,
   "id": "abbe60f9-c954-4d21-af98-91cdee578452",
   "metadata": {},
   "outputs": [
    {
     "data": {
      "text/plain": [
       "'taylor series wikipedia jump content main menu main menu move sidebar hide navigation main pagecontentscurrent eventsrandom articleabout wikipediacontact usdonate contribute helplearn editcommunity portalrecent changesupload file language language link top page across title search search create accountlog personal tool create account log page logged editor learn contributionstalk content move sidebar hide top definition example history analytic function approximation error convergence toggle approximation error convergence subsection generalization list maclaurin series common function toggle list maclaurin series common function subsection exponential function natural logarithm geometric series binomial series trigonometric function hyperbolic function polylogarithmic function elliptic function calculation taylor series toggle calculation taylor series subsection first example second example third example taylor series definition taylor series several variable toggle taylor series several variable subsection second order taylor series several variable example comparison fourier series see also note reference external link toggle table content toggle table content taylor series language asturianuaz rbaycanca boarischbosanskicatal tinacymraegdanskdeutscheesti espa olesperantoeuskara fran aisgalego hrvatskibahasa indonesia slenskaitaliano latvie ulietuvi magyar nederland norsk bokm lnorsk nynorskpiemont ispolskiportugu srom simple englishsloven inasloven ina srpskisrpskohrvatski suomisvenska tatar rk ti ng vi edit link article talk english read edit view history tool tool move sidebar hide action readeditview history general link hererelated changesupload filespecial pagespermanent linkpage informationcite pagewikidata item print export download pdfprintable version project wikimedia commonswikibooks wikipedia free encyclopedia mathematical approximation function degree taylor polynomial rise approach correct function image show sin taylor approximation polynomial degree part series article aboutcalculus fundamental theorem limit continuity rolle theorem mean value theorem inverse function theorem differential definition derivative generalization differential infinitesimal function total concept differentiation notation second derivative implicit differentiation logarithmic differentiation related rate taylor theorem rule identity sum product chain power quotient pital rule inverse general leibniz fa di bruno formula reynolds integral list integral integral transform leibniz integral rule definition antiderivative integral improper riemann integral lebesgue integration contour integration integral inverse function integration part disc cylindrical shell substitution trigonometric tangent half angle euler euler formula partial fraction changing order reduction formula differentiating integral sign risch algorithm series geometric arithmetico geometric harmonic alternating power binomial taylor convergence test summand limit term test ratio root integral direct comparison limit comparison alternating series cauchy condensation dirichlet abel vector gradient divergence curl laplacian directional derivative identity theorem gradient green stokes divergence generalized stokes multivariable formalism matrix tensor exterior geometric definition partial derivative multiple integral line integral surface integral volume integral jacobian hessian advanced calculus euclidean space generalized function limit distribution specialized fractional malliavin stochastic variation miscellaneous precalculus history glossary list topic integration bee mathematical analysis nonstandard analysis vte mathematics taylor series taylor expansion function infinite sum term expressed term function derivative single point common function function sum taylor series equal near point taylor series named brook taylor introduced taylor series also called maclaurin series point derivative considered colin maclaurin made extensive use special case taylor series mid th century partial sum formed first term taylor series polynomial degree called nth taylor polynomial function taylor polynomial approximation function become generally better increase taylor theorem give quantitative estimate error introduced use approximation taylor series function convergent sum limit infinite sequence taylor polynomial function may differ sum taylor series even taylor series convergent function analytic point equal sum taylor series open interval open disk complex plane containing implies function analytic every point interval disk definition edit taylor series real complex valued function infinitely differentiable real complex number power series displaystyle frac frac frac cdots denotes factorial compact sigma notation written displaystyle sum infty frac denotes nth derivative evaluated point derivative order zero defined defined maclaurin series take form displaystyle frac frac frac cdots compact sigma notation displaystyle sum infty frac example edit taylor series polynomial polynomial maclaurin series geometric series displaystyle cdots substituting taylor series displaystyle cdots integrating maclaurin series find maclaurin series ln ln denotes natural logarithm displaystyle tfrac tfrac tfrac cdots corresponding taylor series ln displaystyle tfrac tfrac tfrac cdots generally corresponding taylor series ln arbitrary nonzero point ln displaystyle ln frac frac frac left right cdots maclaurin series exponential function ex displaystyle begin aligned sum infty frac frac frac frac frac frac frac cdots frac frac frac frac cdots end aligned expansion hold derivative ex respect also ex equal leaf term numerator denominator term infinite sum history edit ancient greek philosopher zeno elea considered problem summing infinite series achieve finite result rejected impossibility result zeno paradox later aristotle proposed philosophical resolution paradox mathematical content apparently unresolved taken archimedes prior aristotle presocratic atomist democritus archimedes method exhaustion infinite number progressive subdivision could performed achieve finite result liu hui independently employed similar method century later th century earliest example specific taylor series general method given madhava sangamagrama though record work survives writing follower kerala school astronomy mathematics suggest found taylor series trigonometric function sine cosine arctangent see madhava series following two century follower developed series expansion rational approximation late james gregory shown letter john collins several maclaurin series sin textstyle sin co textstyle co arcsin textstyle arcsin cot textstyle cot derived isaac newton told newton developed general method expanding function series newton fact used cumbersome method involving long division series term term integration gregory know set discover general method early gregory discovered something like general maclaurin series sent letter collins including series arctan textstyle arctan tan textstyle tan sec textstyle sec ln sec textstyle ln sec integral tan displaystyle tan ln tan textstyle ln tan tfrac bigl tfrac pi bigr integral sec inverse gudermannian function arcsec textstyle operatorname arcsec bigl sqrt bigr arctan textstyle arctan tfrac pi gudermannian function however thinking merely redeveloped method newton gregory never described obtained series inferred understood general method examining scratch work scribbled back another letter isaac newton wrote explicit statement taylor maclaurin series unpublished version work de quadratura curvarum however work never completed relevant section omitted portion published title tractatus de quadratura curvarum general method constructing series function exist finally published brook taylor series named maclaurin series named colin maclaurin professor edinburgh published special case taylor result mid th century analytic function edit function analytic taylor series identically although function main article analytic function given convergent power series open disk centred complex plane interval real line said analytic region thus region given convergent power series displaystyle sum infty differentiating formula time setting give displaystyle frac power series expansion agrees taylor series thus function analytic open disk centered taylor series converges value function point disk equal sum taylor series complex plane called entire polynomial exponential function ex trigonometric function sine cosine example entire function example function entire include square root logarithm trigonometric function tangent inverse arctan function taylor series converge far taylor series diverges distance larger radius convergence taylor series used calculate value entire function every point value function derivative known single point us taylor series analytic function include partial sum taylor polynomial series used approximation function approximation good sufficiently many term included differentiation integration power series performed term term hence particularly easy analytic function uniquely extended holomorphic function open disk complex plane make machinery complex analysis available truncated series used compute function value numerically often recasting polynomial chebyshev form evaluating clenshaw algorithm algebraic operation done readily power series representation instance euler formula follows taylor series expansion trigonometric exponential function result fundamental importance field harmonic analysis approximation using first term taylor series make otherwise unsolvable problem possible restricted domain approach often used physic approximation error convergence edit main article taylor theorem sine function blue closely approximated taylor polynomial degree pink full period centered origin taylor polynomial ln provide accurate approximation range taylor polynomial higher degree provide worse approximation taylor approximation ln black approximation diverge pictured accurate approximation sin around point pink curve polynomial degree seven sin displaystyle sin approx frac frac frac error approximation full cycle centered origin error le particular error le contrast also shown picture natural logarithm function ln taylor polynomial around approximation converge function region outside region higher degree taylor polynomial worse approximation function error incurred approximating function nth degree taylor polynomial called remainder residual denoted function rn taylor theorem used obtain bound size remainder general taylor series need convergent fact set function convergent taylor series meager set fr chet space smooth function even taylor series function converge limit need general equal value function example function displaystyle begin case text neq mu text end case infinitely differentiable derivative zero consequently taylor series identically zero however zero function equal taylor series around origin thus example non analytic smooth function real analysis example show infinitely differentiable function whose taylor series equal even converge contrast holomorphic function studied complex analysis always posse convergent taylor series even taylor series meromorphic function might singularity never converge value different function complex function however approach approach along imaginary axis continuous complex plane taylor series undefined generally every sequence real complex number appear coefficient taylor series infinitely differentiable function defined real line consequence borel lemma result radius convergence taylor series zero even infinitely differentiable function defined real line whose taylor series radius convergence everywhere function cannot written taylor series centred singularity case one often still achieve series expansion one allows also negative power variable see laurent series example written laurent series generalization edit however generalization taylor series converge value function bounded continuous function using calculus finite difference specifically one following theorem due einar hille lim displaystyle lim sum infty frac frac delta nh nth finite difference operator step size series precisely taylor series except divided difference appear place differentiation series formally similar newton series function analytic term series converge term taylor series sense generalizes usual taylor series general infinite sequence ai following power series identity hold displaystyle sum infty frac delta sum infty frac particular lim displaystyle lim sum infty jh frac series right expectation value poisson distributed random variable take value jh probability hence lim displaystyle lim int infty infty dp law large number implies identity hold list maclaurin series common function edit see also list mathematical series several important maclaurin series expansion follow expansion valid complex argument exponential function edit exponential function ex blue sum first term taylor series red exponential function displaystyle base maclaurin series displaystyle sum infty frac frac frac cdots converges exponential generating function bell number exponential function predecessor exponential function exp exp displaystyle exp exp sum infty frac natural logarithm edit main article mercator series natural logarithm base maclaurin series ln ln displaystyle begin aligned ln sum infty frac frac frac cdots ln sum infty frac frac frac cdots end aligned converge displaystyle addition series ln converges series ln converges geometric series edit geometric series derivative maclaurin series displaystyle begin aligned frac sum infty frac sum infty nx frac sum infty frac end aligned convergent displaystyle special case binomial series given next section binomial series edit binomial series power series displaystyle alpha sum infty binom alpha whose coefficient generalized binomial coefficient displaystyle binom alpha prod frac alpha frac alpha alpha cdots alpha product empty product value converges displaystyle real complex number essentially infinite geometric series mentioned previous section special case give square root function inverse displaystyle begin aligned frac tfrac tfrac tfrac tfrac tfrac cdots sum infty frac frac tfrac tfrac tfrac tfrac tfrac cdots sum infty frac end aligned linear term retained simplifies binomial approximation trigonometric function edit usual trigonometric function inverse following maclaurin series sin co tan sec arcsin arccos arcsin arctan displaystyle begin aligned sin sum infty frac frac frac cdots text pt co sum infty frac frac frac cdots text pt tan sum infty frac left right frac frac cdots text frac pi pt sec sum infty frac frac frac cdots text frac pi pt arcsin sum infty frac frac frac cdots text leq pt arccos frac pi arcsin frac pi sum infty frac frac pi frac frac cdots text leq pt arctan sum infty frac frac frac cdots text leq neq pm end aligned angle expressed radian number bk appearing expansion tan bernoulli number ek expansion sec euler number hyperbolic function edit hyperbolic function maclaurin series closely related series corresponding trigonometric function sinh cosh tanh arsinh artanh displaystyle begin aligned sinh sum infty frac frac frac cdots text pt cosh sum infty frac frac frac cdots text pt tanh sum infty frac left right frac frac frac cdots text frac pi pt operatorname arsinh sum infty frac frac frac cdots text leq pt operatorname artanh sum infty frac frac frac cdots text leq neq pm end aligned number bk appearing series tanh bernoulli number polylogarithmic function edit polylogarithms defining identity li displaystyle text li sum infty frac li displaystyle text li sum infty frac legendre chi function defined follows displaystyle chi sum infty frac displaystyle chi sum infty frac formula presented called inverse tangent integral ti displaystyle text ti sum infty frac ti displaystyle text ti sum infty frac statistical thermodynamics formula great importance elliptic function edit complete elliptic integral first kind second kind defined follows displaystyle frac pi sum infty frac displaystyle frac pi sum infty frac jacobi theta function describe world elliptic modular function taylor series displaystyle vartheta sum infty displaystyle vartheta sum infty regular partition number sequence generating function displaystyle vartheta vartheta biggl frac vartheta vartheta biggr sum infty prod infty frac strict partition number sequence generating function displaystyle vartheta vartheta biggl frac vartheta vartheta biggr sum infty prod infty frac calculation taylor series edit several method exist calculation taylor series large number function one attempt use definition taylor series though often requires generalizing form coefficient according readily apparent pattern alternatively one use manipulation substitution multiplication division addition subtraction standard taylor series construct taylor series function virtue taylor series power series case one also derive taylor series repeatedly applying integration part particularly convenient use computer algebra system calculate taylor series first example edit order compute th degree maclaurin polynomial function ln co displaystyle ln co quad left frac pi frac pi right one may first rewrite function ln co displaystyle ln bigl co bigr taylor series natural logarithm using big notation ln displaystyle ln frac frac left right cosine function co displaystyle co frac frac frac left right latter series expansion zero constant term enables u substitute second series first one easily omit term higher order th degree using big notation ln co co co co co displaystyle begin aligned ln bigl co bigr co tfrac co tfrac co left co right left frac frac frac left right right frac left frac frac left right right frac left frac left right right left right frac frac frac frac frac frac left right frac frac frac left right end aligned since cosine even function coefficient odd power zero second example edit suppose want taylor series function co displaystyle frac co exponential function displaystyle sum infty frac frac frac frac cdots first example co displaystyle co frac frac cdots assume power series co displaystyle frac co cdots multiplication denominator substitution series cosine yield co displaystyle begin aligned left cdots right co left cdots right left frac frac cdots right frac frac frac frac frac frac frac frac cdots end aligned collecting term fourth order yield displaystyle left frac right left frac right left frac frac right cdots value displaystyle found comparison coefficient top expression displaystyle yielding co displaystyle frac co frac frac cdots third example edit employ method called indirect expansion expand given function method us known taylor expansion exponential function order expand ex taylor series use known taylor series function ex displaystyle sum infty frac frac frac frac cdots thus displaystyle begin aligned xe sum infty frac sum infty frac sum infty frac sum infty frac sum infty frac sum infty frac sum infty left frac frac right sum infty frac sum infty frac end aligned taylor series definition edit classically algebraic function defined algebraic equation transcendental function including discussed defined property hold differential equation example exponential function function equal derivative everywhere assumes value origin however one may equally well define analytic function taylor series taylor series used define function operator diverse area mathematics particular true area classical definition function break example using taylor series one may extend analytic function set matrix operator matrix exponential matrix logarithm area formal analysis convenient work directly power series thus one may define solution differential equation power series one hope prove taylor series desired solution taylor series several variable edit taylor series may also generalized function one variable displaystyle begin aligned ldots sum infty cdots sum infty frac cdots cdots left frac partial cdots partial cdots partial right ldots ldots sum frac partial ldots partial frac sum sum frac partial ldots partial partial qquad qquad frac sum sum sum frac partial ldots partial partial partial cdots end aligned example function displaystyle depends two variable taylor series second order point displaystyle frac big xx xy yy big subscript denote respective partial derivative second order taylor series several variable edit see also linearization multivariable function second order taylor series expansion scalar valued function one variable written compactly displaystyle mathbf mathbf mathbf mathbf mathsf df mathbf frac mathbf mathbf mathsf left mathbf right mathbf mathbf cdots gradient evaluated hessian matrix applying multi index notation taylor series several variable becomes displaystyle mathbf sum alpha geq frac mathbf mathbf alpha alpha left mathrm partial alpha right mathbf understood still abbreviated multi index version first equation paragraph full analogy single variable case example edit second order taylor series approximation orange function ex ln around origin order compute second order taylor series expansion around point function ln displaystyle ln one first computes necessary partial derivative ln ln displaystyle begin aligned ln pt frac pt xx ln pt yy frac pt xy yx frac end aligned evaluating derivative origin give taylor coefficient displaystyle begin aligned xx yy xy yx end aligned substituting value general formula displaystyle begin aligned frac left xx xy yy right cdots end aligned produce displaystyle begin aligned frac big big cdots xy tfrac cdots end aligned since ln analytic ln displaystyle ln xy tfrac cdots qquad comparison fourier series edit main article fourier series trigonometric fourier series enables one express periodic function function defined closed interval infinite sum trigonometric function sine cosine sense fourier series analogous taylor series since latter allows one express function infinite sum power nevertheless two series differ several relevant issue finite truncation taylor series point exactly equal contrast fourier series computed integrating entire interval generally point finite truncation series exact computation taylor series requires knowledge function arbitrary small neighbourhood point whereas computation fourier series requires knowing function whole domain interval certain sense one could say taylor series local fourier series global taylor series defined function infinitely many derivative single point whereas fourier series defined integrable function particular function could nowhere differentiable example could weierstrass function convergence series different property even taylor series positive convergence radius resulting series may coincide function function analytic series converges pointwise function uniformly every compact subset convergence interval concerning fourier series function square integrable series converges quadratic mean additional requirement needed ensure pointwise uniform convergence instance function periodic class convergence uniform finally practice one want approximate function finite number term say taylor polynomial partial sum trigonometric series respectively case taylor series error small neighbourhood point computed may large distant point case fourier series error distributed along domain function see also edit asymptotic expansion generating function laurent series madhava series newton divided difference interpolation pad approximant puiseux series shift operator note edit thomas finney lindberg david beginning western science nd ed university chicago press isbn kline mathematical thought ancient modern time new york oxford university press pp isbn boyer merzbach history mathematics second revised ed john wiley son pp isbn neither newton leibniz pre history calculus celestial mechanic medieval kerala pdf mat canisius college archived pdf original retrieved dani ancient indian mathematics conspectus resonance doi cid turnbull herbert westren ed james gregory tercentenary memorial volume bell son pp roy ranjan discovery series formula leibniz gregory nilakantha pdf mathematics magazine doi malet antoni james gregorie tangent taylor rule series expansion archive history exact science doi bf jstor taylor brook methodus incrementorum directa et inversa direct reverse method incrementation latin london prop vii thm cor translated english struik source book mathematics harvard university press pp isbn translated english ian bruce methodus incrementorum directa inversa centurymaths com feigenbaum brook taylor method increment archive history exact science doi bf rudin walter real complex analysis new delhi mcgraw hill exercise isbn feller william introduction probability theory application vol rd ed wiley pp isbn oclc hille einar phillips ralph functional analysis semi group am colloquium publication vol american mathematical society pp feller found abramowitz stegun rmander lars test function review differential calculus analysis partial differential operator vol nd ed springer eqq doi isbn kolk johan duistermaat taylor expansion several variable distribution theory application birkhauser pp doi isbn reference edit abramowitz milton stegun irene handbook mathematical function formula graph mathematical table new york dover publication ninth printing thomas george jr finney ross calculus analytic geometry th ed addison wesley isbn greenberg michael advanced engineering mathematics nd ed prentice hall isbn roy ranjan st ed series product development mathematics vol nd ed cambridge university press external link edit taylor series wikipedia sister project definition wiktionarymedia commonstextbooks wikibooksresources wikiversitydata wikidata taylor series encyclopedia mathematics em press weisstein eric taylor series mathworld vtesequences seriesinteger sequencesbasic arithmetic progression geometric progression harmonic progression square number cubic number factorial power two power three power advanced list complete sequence fibonacci sequence figurate number heptagonal number hexagonal number lucas number pell number pentagonal number polygonal number triangular number property sequence cauchy sequence monotonic function periodic sequence property seriesseries alternating convergent divergent telescoping convergence absolute conditional uniform explicit seriesconvergent riemann zeta function divergent grandi series infinite arithmetic series alternating factorial harmonic series inverse prime kind series taylor series power series formal power series laurent series puiseux series dirichlet series trigonometric series fourier series generating series hypergeometric series generalized hypergeometric series hypergeometric function matrix argument lauricella hypergeometric series modular hypergeometric series riemann differential equation theta hypergeometric series category authority control national germany israel united state retrieved http en wikipedia org index php title taylor series oldid category real analysiscomplex analysisseries expansionshidden category c latin language source la article short descriptionshort description different wikidatagood articlespages using sidebar child parameterpages using sister project link hidden wikidataarticles gnd identifiersarticles identifiersarticles lccn identifier page last edited june utc text available creative common attribution sharealike license additional term may apply using site agree term use privacy policy wikipedia registered trademark wikimedia foundation inc non profit organization privacy policy wikipedia disclaimer contact wikipedia code conduct mobile view developer statistic cookie statement toggle limited content width'"
      ]
     },
     "execution_count": 10,
     "metadata": {},
     "output_type": "execute_result"
    }
   ],
   "source": [
    "#filtered text for first row entry\n",
    "df[\"Text\"][0]"
   ]
  },
  {
   "attachments": {},
   "cell_type": "markdown",
   "id": "3e7569cf-2a71-4793-9b9f-521d9f6b8595",
   "metadata": {},
   "source": [
    "# Part 2: EDA, Feature Engineering, and Model Development"
   ]
  },
  {
   "attachments": {},
   "cell_type": "markdown",
   "id": "58c4ac7a",
   "metadata": {},
   "source": [
    "### Future Optimizations\n",
    "\n",
    "1. Ignore website navigation for websites like (wikipedia, stackoverflow, etc.)\n",
    "\n",
    "\n",
    "### Tasks\n",
    "\n",
    "1. Research into transformer, BART model, to better understand model set up and how to get highest performance\n",
    "2. Experiment with BART input (lemmatize/not, capitalization, etc.) to find best performance \n",
    "3. Try to implement BART model with recursion as per the drawn diagram \n",
    "4. Research into paralellization of transformer models with HuggingFace \n",
    "\n",
    "### Notes\n",
    "\n",
    "1. To actually make project work, we need to create a few metrics that we can train a DL model on. Maybe, linguistic complexity (formulaic), sentiment analysis, text length, etc."
   ]
  },
  {
   "cell_type": "code",
   "execution_count": 11,
   "id": "51ee1b1f-ddd8-4aeb-8ec8-8d72147d7279",
   "metadata": {},
   "outputs": [
    {
     "name": "stdout",
     "output_type": "stream",
     "text": [
      "Train set size: 28\n",
      "Validation set size: 8\n",
      "Test set size: 10\n"
     ]
    }
   ],
   "source": [
    "import torch\n",
    "from sklearn.model_selection import train_test_split\n",
    "\n",
    "# Assuming you have a DataFrame called 'df' containing your data\n",
    "# Split the data into train and test sets (80% train, 20% test)\n",
    "train_data, test_data = train_test_split(df, test_size=0.2, random_state=42)\n",
    "\n",
    "# Split the train data further into train and validation sets (80% train, 20% validation)\n",
    "train_data, val_data = train_test_split(train_data, test_size=0.2, random_state=42)\n",
    "\n",
    "# Print the sizes of each dataset\n",
    "print(\"Train set size:\", len(train_data))\n",
    "print(\"Validation set size:\", len(val_data))\n",
    "print(\"Test set size:\", len(test_data))"
   ]
  },
  {
   "cell_type": "code",
   "execution_count": 12,
   "id": "ba059c5c-9041-4965-9c83-b8bdc0568466",
   "metadata": {},
   "outputs": [
    {
     "data": {
      "text/html": [
       "<div>\n",
       "<style scoped>\n",
       "    .dataframe tbody tr th:only-of-type {\n",
       "        vertical-align: middle;\n",
       "    }\n",
       "\n",
       "    .dataframe tbody tr th {\n",
       "        vertical-align: top;\n",
       "    }\n",
       "\n",
       "    .dataframe thead th {\n",
       "        text-align: right;\n",
       "    }\n",
       "</style>\n",
       "<table border=\"1\" class=\"dataframe\">\n",
       "  <thead>\n",
       "    <tr style=\"text-align: right;\">\n",
       "      <th></th>\n",
       "      <th>Domain</th>\n",
       "      <th>Title</th>\n",
       "      <th>URL</th>\n",
       "      <th>Text</th>\n",
       "    </tr>\n",
       "  </thead>\n",
       "  <tbody>\n",
       "    <tr>\n",
       "      <th>0</th>\n",
       "      <td>people.math.sc</td>\n",
       "      <td>Commonly Used Taylor Series</td>\n",
       "      <td>https://people.math.sc.edu/girardi/m142/handou...</td>\n",
       "      <td>pdf obj length filter flatedecode stream ko jl...</td>\n",
       "    </tr>\n",
       "    <tr>\n",
       "      <th>1</th>\n",
       "      <td>web.ma.utexas</td>\n",
       "      <td>Applications of Taylor Polynomials</td>\n",
       "      <td>https://web.ma.utexas.edu/users/m408s/CurrentW...</td>\n",
       "      <td>application taylor polynomial prev next home f...</td>\n",
       "    </tr>\n",
       "    <tr>\n",
       "      <th>2</th>\n",
       "      <td>brilliant</td>\n",
       "      <td>Taylor Series Approximation | Brilliant Math &amp;...</td>\n",
       "      <td>https://brilliant.org/wiki/taylor-series-appro...</td>\n",
       "      <td>taylor series approximation brilliant math sci...</td>\n",
       "    </tr>\n",
       "    <tr>\n",
       "      <th>3</th>\n",
       "      <td>cuemath</td>\n",
       "      <td>Taylor Series Formula</td>\n",
       "      <td>https://www.cuemath.com/taylor-series-formula/</td>\n",
       "      <td>expert math tutoring uk boost score cuemathgra...</td>\n",
       "    </tr>\n",
       "    <tr>\n",
       "      <th>4</th>\n",
       "      <td>math</td>\n",
       "      <td>Taylor series</td>\n",
       "      <td>https://www.math.net/taylor-series</td>\n",
       "      <td>taylor series home calculus series taylor seri...</td>\n",
       "    </tr>\n",
       "    <tr>\n",
       "      <th>5</th>\n",
       "      <td>users.math.msu</td>\n",
       "      <td>Taylor Series</td>\n",
       "      <td>https://users.math.msu.edu/users/magyarp/Math1...</td>\n",
       "      <td>pdf obj length filter flatedecode stream qp nf...</td>\n",
       "    </tr>\n",
       "    <tr>\n",
       "      <th>6</th>\n",
       "      <td>socratic</td>\n",
       "      <td>What does the \"a\" means in the Taylor Series e...</td>\n",
       "      <td>https://socratic.org/questions/what-does-the-a...</td>\n",
       "      <td>mean taylor series expansion socratic calculus...</td>\n",
       "    </tr>\n",
       "    <tr>\n",
       "      <th>7</th>\n",
       "      <td>education.ti</td>\n",
       "      <td>Module 24 - Power Series - Lesson 3</td>\n",
       "      <td>https://education.ti.com/html/t3_free_courses/...</td>\n",
       "      <td>module power series lesson module power series...</td>\n",
       "    </tr>\n",
       "    <tr>\n",
       "      <th>8</th>\n",
       "      <td>mathworld.wolfram</td>\n",
       "      <td>Taylor Series -- from Wolfram MathWorld</td>\n",
       "      <td>https://mathworld.wolfram.com/TaylorSeries.html</td>\n",
       "      <td>taylor series wolfram mathworld topic algebra ...</td>\n",
       "    </tr>\n",
       "    <tr>\n",
       "      <th>9</th>\n",
       "      <td>calcworkshop</td>\n",
       "      <td>Taylor Series</td>\n",
       "      <td>https://calcworkshop.com/sequences-series/tayl...</td>\n",
       "      <td>taylor series please click redirected within s...</td>\n",
       "    </tr>\n",
       "    <tr>\n",
       "      <th>10</th>\n",
       "      <td>xaktly</td>\n",
       "      <td>Taylor series - xaktly.com</td>\n",
       "      <td>https://xaktly.com/TaylorSeries.html</td>\n",
       "      <td>taylor series toggle navigation subject math i...</td>\n",
       "    </tr>\n",
       "    <tr>\n",
       "      <th>11</th>\n",
       "      <td>sites.millersville</td>\n",
       "      <td>Taylor Series</td>\n",
       "      <td>https://sites.millersville.edu/bikenaga/calcul...</td>\n",
       "      <td>taylor series taylor series taylor series conv...</td>\n",
       "    </tr>\n",
       "    <tr>\n",
       "      <th>12</th>\n",
       "      <td>ncatlab</td>\n",
       "      <td>Taylor series in nLab</td>\n",
       "      <td>https://ncatlab.org/nlab/show/Taylor+series</td>\n",
       "      <td>taylor series nlab nlab taylor series skip nav...</td>\n",
       "    </tr>\n",
       "    <tr>\n",
       "      <th>13</th>\n",
       "      <td>hyperphysics.phy-astr.gsu</td>\n",
       "      <td>Taylor Series</td>\n",
       "      <td>http://hyperphysics.phy-astr.gsu.edu/hbase/tay...</td>\n",
       "      <td>taylor series taylor series well behaved funct...</td>\n",
       "    </tr>\n",
       "    <tr>\n",
       "      <th>14</th>\n",
       "      <td>geeksforgeeks</td>\n",
       "      <td>Taylor Series: Formula, Proof, Examples, and FAQs</td>\n",
       "      <td>https://www.geeksforgeeks.org/taylor-series/</td>\n",
       "      <td>taylor series formula proof example faq skip c...</td>\n",
       "    </tr>\n",
       "    <tr>\n",
       "      <th>15</th>\n",
       "      <td>xaktly</td>\n",
       "      <td>Taylor series - xaktly.com</td>\n",
       "      <td>https://xaktly.com/TaylorSeries.html</td>\n",
       "      <td>taylor series toggle navigation subject math i...</td>\n",
       "    </tr>\n",
       "    <tr>\n",
       "      <th>16</th>\n",
       "      <td>myweb.uiowa</td>\n",
       "      <td>Taylor series expansions</td>\n",
       "      <td>https://myweb.uiowa.edu/pbreheny/7110/wiki/tay...</td>\n",
       "      <td>taylor series expansion taylor series expansio...</td>\n",
       "    </tr>\n",
       "    <tr>\n",
       "      <th>17</th>\n",
       "      <td>math.smith</td>\n",
       "      <td>Approximating functions by Taylor Polynomials.</td>\n",
       "      <td>http://www.math.smith.edu/~rhaas/m114-00/chp4t...</td>\n",
       "      <td>pdf obj linearized endobj xref trailer size in...</td>\n",
       "    </tr>\n",
       "    <tr>\n",
       "      <th>18</th>\n",
       "      <td>math.smith</td>\n",
       "      <td>Approximating functions by Taylor Polynomials.</td>\n",
       "      <td>http://www.math.smith.edu/~rhaas/m114-00/chp4t...</td>\n",
       "      <td>pdf obj linearized endobj xref trailer size in...</td>\n",
       "    </tr>\n",
       "    <tr>\n",
       "      <th>19</th>\n",
       "      <td>blog.cambridgecoaching</td>\n",
       "      <td>Where do Taylor series come from and why do we...</td>\n",
       "      <td>https://blog.cambridgecoaching.com/where-do-ta...</td>\n",
       "      <td>cc taylor series come learn high school taylor...</td>\n",
       "    </tr>\n",
       "    <tr>\n",
       "      <th>20</th>\n",
       "      <td>mathsisfun</td>\n",
       "      <td>Taylor Series</td>\n",
       "      <td>https://www.mathsisfun.com/algebra/taylor-seri...</td>\n",
       "      <td>taylor series advanced show ad hide ad ad tayl...</td>\n",
       "    </tr>\n",
       "    <tr>\n",
       "      <th>21</th>\n",
       "      <td>mathworks</td>\n",
       "      <td>Taylor series - MATLAB taylor</td>\n",
       "      <td>https://www.mathworks.com/help/symbolic/sym.ta...</td>\n",
       "      <td>taylor series matlab taylor skip content toggl...</td>\n",
       "    </tr>\n",
       "    <tr>\n",
       "      <th>22</th>\n",
       "      <td>sites.millersville</td>\n",
       "      <td>Taylor Series</td>\n",
       "      <td>https://sites.millersville.edu/bikenaga/calcul...</td>\n",
       "      <td>taylor series taylor series taylor series conv...</td>\n",
       "    </tr>\n",
       "    <tr>\n",
       "      <th>23</th>\n",
       "      <td>x-engineer</td>\n",
       "      <td>Taylor Series Approximation - x-engineer.org</td>\n",
       "      <td>https://x-engineer.org/taylor-series-approxima...</td>\n",
       "      <td>taylor series approximation engineer org menu ...</td>\n",
       "    </tr>\n",
       "    <tr>\n",
       "      <th>24</th>\n",
       "      <td>whitman</td>\n",
       "      <td>13.10 Taylor Series</td>\n",
       "      <td>https://www.whitman.edu/mathematics/calculus_l...</td>\n",
       "      <td>taylor series home sequence series taylor seri...</td>\n",
       "    </tr>\n",
       "    <tr>\n",
       "      <th>25</th>\n",
       "      <td>math.libretexts</td>\n",
       "      <td>8.7: Taylor Polynomials</td>\n",
       "      <td>https://math.libretexts.org/Bookshelves/Calcul...</td>\n",
       "      <td>taylor polynomial mathematics libretexts skip ...</td>\n",
       "    </tr>\n",
       "    <tr>\n",
       "      <th>26</th>\n",
       "      <td>users.math.msu</td>\n",
       "      <td>Taylor Series</td>\n",
       "      <td>https://users.math.msu.edu/users/magyarp/Math1...</td>\n",
       "      <td>pdf obj length filter flatedecode stream qp nf...</td>\n",
       "    </tr>\n",
       "    <tr>\n",
       "      <th>27</th>\n",
       "      <td>math.libretexts</td>\n",
       "      <td>8.7: Taylor Polynomials</td>\n",
       "      <td>https://math.libretexts.org/Bookshelves/Calcul...</td>\n",
       "      <td>taylor polynomial mathematics libretexts skip ...</td>\n",
       "    </tr>\n",
       "  </tbody>\n",
       "</table>\n",
       "</div>"
      ],
      "text/plain": [
       "                       Domain  \\\n",
       "0              people.math.sc   \n",
       "1               web.ma.utexas   \n",
       "2                   brilliant   \n",
       "3                     cuemath   \n",
       "4                        math   \n",
       "5              users.math.msu   \n",
       "6                    socratic   \n",
       "7                education.ti   \n",
       "8           mathworld.wolfram   \n",
       "9                calcworkshop   \n",
       "10                     xaktly   \n",
       "11         sites.millersville   \n",
       "12                    ncatlab   \n",
       "13  hyperphysics.phy-astr.gsu   \n",
       "14              geeksforgeeks   \n",
       "15                     xaktly   \n",
       "16                myweb.uiowa   \n",
       "17                 math.smith   \n",
       "18                 math.smith   \n",
       "19     blog.cambridgecoaching   \n",
       "20                 mathsisfun   \n",
       "21                  mathworks   \n",
       "22         sites.millersville   \n",
       "23                 x-engineer   \n",
       "24                    whitman   \n",
       "25            math.libretexts   \n",
       "26             users.math.msu   \n",
       "27            math.libretexts   \n",
       "\n",
       "                                                Title  \\\n",
       "0                         Commonly Used Taylor Series   \n",
       "1                  Applications of Taylor Polynomials   \n",
       "2   Taylor Series Approximation | Brilliant Math &...   \n",
       "3                               Taylor Series Formula   \n",
       "4                                       Taylor series   \n",
       "5                                       Taylor Series   \n",
       "6   What does the \"a\" means in the Taylor Series e...   \n",
       "7                 Module 24 - Power Series - Lesson 3   \n",
       "8             Taylor Series -- from Wolfram MathWorld   \n",
       "9                                       Taylor Series   \n",
       "10                         Taylor series - xaktly.com   \n",
       "11                                      Taylor Series   \n",
       "12                              Taylor series in nLab   \n",
       "13                                      Taylor Series   \n",
       "14  Taylor Series: Formula, Proof, Examples, and FAQs   \n",
       "15                         Taylor series - xaktly.com   \n",
       "16                           Taylor series expansions   \n",
       "17     Approximating functions by Taylor Polynomials.   \n",
       "18     Approximating functions by Taylor Polynomials.   \n",
       "19  Where do Taylor series come from and why do we...   \n",
       "20                                      Taylor Series   \n",
       "21                      Taylor series - MATLAB taylor   \n",
       "22                                      Taylor Series   \n",
       "23       Taylor Series Approximation - x-engineer.org   \n",
       "24                                13.10 Taylor Series   \n",
       "25                            8.7: Taylor Polynomials   \n",
       "26                                      Taylor Series   \n",
       "27                            8.7: Taylor Polynomials   \n",
       "\n",
       "                                                  URL  \\\n",
       "0   https://people.math.sc.edu/girardi/m142/handou...   \n",
       "1   https://web.ma.utexas.edu/users/m408s/CurrentW...   \n",
       "2   https://brilliant.org/wiki/taylor-series-appro...   \n",
       "3      https://www.cuemath.com/taylor-series-formula/   \n",
       "4                  https://www.math.net/taylor-series   \n",
       "5   https://users.math.msu.edu/users/magyarp/Math1...   \n",
       "6   https://socratic.org/questions/what-does-the-a...   \n",
       "7   https://education.ti.com/html/t3_free_courses/...   \n",
       "8     https://mathworld.wolfram.com/TaylorSeries.html   \n",
       "9   https://calcworkshop.com/sequences-series/tayl...   \n",
       "10               https://xaktly.com/TaylorSeries.html   \n",
       "11  https://sites.millersville.edu/bikenaga/calcul...   \n",
       "12        https://ncatlab.org/nlab/show/Taylor+series   \n",
       "13  http://hyperphysics.phy-astr.gsu.edu/hbase/tay...   \n",
       "14       https://www.geeksforgeeks.org/taylor-series/   \n",
       "15               https://xaktly.com/TaylorSeries.html   \n",
       "16  https://myweb.uiowa.edu/pbreheny/7110/wiki/tay...   \n",
       "17  http://www.math.smith.edu/~rhaas/m114-00/chp4t...   \n",
       "18  http://www.math.smith.edu/~rhaas/m114-00/chp4t...   \n",
       "19  https://blog.cambridgecoaching.com/where-do-ta...   \n",
       "20  https://www.mathsisfun.com/algebra/taylor-seri...   \n",
       "21  https://www.mathworks.com/help/symbolic/sym.ta...   \n",
       "22  https://sites.millersville.edu/bikenaga/calcul...   \n",
       "23  https://x-engineer.org/taylor-series-approxima...   \n",
       "24  https://www.whitman.edu/mathematics/calculus_l...   \n",
       "25  https://math.libretexts.org/Bookshelves/Calcul...   \n",
       "26  https://users.math.msu.edu/users/magyarp/Math1...   \n",
       "27  https://math.libretexts.org/Bookshelves/Calcul...   \n",
       "\n",
       "                                                 Text  \n",
       "0   pdf obj length filter flatedecode stream ko jl...  \n",
       "1   application taylor polynomial prev next home f...  \n",
       "2   taylor series approximation brilliant math sci...  \n",
       "3   expert math tutoring uk boost score cuemathgra...  \n",
       "4   taylor series home calculus series taylor seri...  \n",
       "5   pdf obj length filter flatedecode stream qp nf...  \n",
       "6   mean taylor series expansion socratic calculus...  \n",
       "7   module power series lesson module power series...  \n",
       "8   taylor series wolfram mathworld topic algebra ...  \n",
       "9   taylor series please click redirected within s...  \n",
       "10  taylor series toggle navigation subject math i...  \n",
       "11  taylor series taylor series taylor series conv...  \n",
       "12  taylor series nlab nlab taylor series skip nav...  \n",
       "13  taylor series taylor series well behaved funct...  \n",
       "14  taylor series formula proof example faq skip c...  \n",
       "15  taylor series toggle navigation subject math i...  \n",
       "16  taylor series expansion taylor series expansio...  \n",
       "17  pdf obj linearized endobj xref trailer size in...  \n",
       "18  pdf obj linearized endobj xref trailer size in...  \n",
       "19  cc taylor series come learn high school taylor...  \n",
       "20  taylor series advanced show ad hide ad ad tayl...  \n",
       "21  taylor series matlab taylor skip content toggl...  \n",
       "22  taylor series taylor series taylor series conv...  \n",
       "23  taylor series approximation engineer org menu ...  \n",
       "24  taylor series home sequence series taylor seri...  \n",
       "25  taylor polynomial mathematics libretexts skip ...  \n",
       "26  pdf obj length filter flatedecode stream qp nf...  \n",
       "27  taylor polynomial mathematics libretexts skip ...  "
      ]
     },
     "execution_count": 12,
     "metadata": {},
     "output_type": "execute_result"
    }
   ],
   "source": [
    "test_data.reset_index().drop([\"index\"], axis = 1)\n",
    "val_data.reset_index().drop([\"index\"], axis = 1)\n",
    "train_data.reset_index().drop([\"index\"], axis = 1)"
   ]
  },
  {
   "cell_type": "code",
   "execution_count": 13,
   "id": "4f9d9f55-1489-4477-a4cb-1201133ff0e4",
   "metadata": {},
   "outputs": [],
   "source": [
    "#Using Bart\n",
    "# !pip install transformers\n",
    "# !pip install torch\n",
    "from transformers import BartForConditionalGeneration, AutoTokenizer"
   ]
  },
  {
   "cell_type": "code",
   "execution_count": 14,
   "id": "da42f2ca-e71a-4bb0-b91b-3fa9cc51d822",
   "metadata": {},
   "outputs": [],
   "source": [
    "model = BartForConditionalGeneration.from_pretrained(\"facebook/bart-large-cnn\")\n",
    "tokenizer = AutoTokenizer.from_pretrained(\"facebook/bart-large-cnn\")\n",
    "# device = \"cuda:0\" if torch.cuda.is_available() else \"cpu\"\n"
   ]
  },
  {
   "cell_type": "code",
   "execution_count": 19,
   "id": "4027035e",
   "metadata": {},
   "outputs": [
    {
     "data": {
      "text/plain": [
       "51230"
      ]
     },
     "execution_count": 19,
     "metadata": {},
     "output_type": "execute_result"
    }
   ],
   "source": [
    "len(df_bart[\"Text\"][0])"
   ]
  },
  {
   "cell_type": "code",
   "execution_count": 21,
   "id": "bc0650de",
   "metadata": {},
   "outputs": [],
   "source": [
    "inputs = tokenizer([df_bart[\"Text\"][0]],max_length = 1024,return_tensors=\"pt\")\n",
    "# model = model.to(device)\n",
    "# outputs = model(**inputs)\n"
   ]
  },
  {
   "cell_type": "code",
   "execution_count": 27,
   "id": "2f50aef4",
   "metadata": {},
   "outputs": [
    {
     "data": {
      "text/plain": [
       "'Taylor series is a series of equations. The Taylor series is the product of the Taylor and the logarithm.'"
      ]
     },
     "execution_count": 27,
     "metadata": {},
     "output_type": "execute_result"
    }
   ],
   "source": [
    "summary_ids = model.generate(inputs[\"input_ids\"], num_beams=1, min_length=0, max_length=30)\n",
    "tokenizer.batch_decode(summary_ids, skip_special_tokens=True, clean_up_tokenization_spaces=False)[0]"
   ]
  },
  {
   "cell_type": "code",
   "execution_count": null,
   "id": "0fe86c91",
   "metadata": {},
   "outputs": [],
   "source": []
  }
 ],
 "metadata": {
  "kernelspec": {
   "display_name": "Python 3 (ipykernel)",
   "language": "python",
   "name": "python3"
  },
  "language_info": {
   "codemirror_mode": {
    "name": "ipython",
    "version": 3
   },
   "file_extension": ".py",
   "mimetype": "text/x-python",
   "name": "python",
   "nbconvert_exporter": "python",
   "pygments_lexer": "ipython3",
   "version": "3.10.11"
  }
 },
 "nbformat": 4,
 "nbformat_minor": 5
}
