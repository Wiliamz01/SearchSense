{
 "cells": [
  {
   "attachments": {},
   "cell_type": "markdown",
   "id": "828da7a9",
   "metadata": {},
   "source": [
    "# Known Problem:\n",
    "- **Resolved**\n",
    "    1. The search \"what is a taylor series\" returns SSLCertVerification Error. Resolve by adding verify=False to the request.get() function.\n",
    "        - this resolution does not consider the security of the websites being accessed, potentially use try except to have the request verify when possible and not break when cannot verify\n",
    "\n"
   ]
  },
  {
   "cell_type": "code",
   "execution_count": 7,
   "id": "be0a22b4-8ee2-4ff9-afd6-ec408d9c905c",
   "metadata": {},
   "outputs": [],
   "source": [
    "#imports\n",
    "import requests #send HTTP requests to web pages and retrieve their content\n",
    "from bs4 import BeautifulSoup\n",
    "from nltk.tokenize import word_tokenize\n",
    "from nltk.stem import PorterStemmer\n",
    "from sklearn.feature_extraction.text import TfidfVectorizer\n",
    "import nltk\n",
    "from urllib.parse import urlparse, urljoin\n",
    "import pandas as pd\n",
    "from nltk.corpus import stopwords\n",
    "import string\n"
   ]
  },
  {
   "cell_type": "code",
   "execution_count": 8,
   "id": "cf32bf2a-fe64-40af-b413-4f2737bbc288",
   "metadata": {},
   "outputs": [
    {
     "name": "stderr",
     "output_type": "stream",
     "text": [
      "[nltk_data] Downloading package punkt to /home/william/nltk_data...\n",
      "[nltk_data]   Package punkt is already up-to-date!\n",
      "[nltk_data] Downloading package stopwords to\n",
      "[nltk_data]     /home/william/nltk_data...\n",
      "[nltk_data]   Package stopwords is already up-to-date!\n"
     ]
    },
    {
     "data": {
      "text/plain": [
       "True"
      ]
     },
     "execution_count": 8,
     "metadata": {},
     "output_type": "execute_result"
    }
   ],
   "source": [
    "import ssl\n",
    "#ssl._create_default_https_context = ssl._create_unverified_context\n",
    "#uncomment if you cannot properly download punkt\n",
    "\n",
    "nltk.download('punkt')\n",
    "#ssl._create_default_https_context = ssl._create_default_https_context\n",
    "#uncomment if you cannot properly download punkt\n",
    "\n",
    "#remove filler words from an example column\n",
    "nltk.download(\"stopwords\")"
   ]
  },
  {
   "cell_type": "code",
   "execution_count": 35,
   "id": "33389f58-1ef9-4479-a428-364bf38afa08",
   "metadata": {},
   "outputs": [
    {
     "name": "stderr",
     "output_type": "stream",
     "text": [
      "/home/william/anaconda3/envs/search_sense/lib/python3.10/site-packages/urllib3/connectionpool.py:1056: InsecureRequestWarning: Unverified HTTPS request is being made to host 'www.google.com'. Adding certificate verification is strongly advised. See: https://urllib3.readthedocs.io/en/1.26.x/advanced-usage.html#ssl-warnings\n",
      "  warnings.warn(\n",
      "/home/william/anaconda3/envs/search_sense/lib/python3.10/site-packages/urllib3/connectionpool.py:1056: InsecureRequestWarning: Unverified HTTPS request is being made to host 'en.wikipedia.org'. Adding certificate verification is strongly advised. See: https://urllib3.readthedocs.io/en/1.26.x/advanced-usage.html#ssl-warnings\n",
      "  warnings.warn(\n",
      "/home/william/anaconda3/envs/search_sense/lib/python3.10/site-packages/urllib3/connectionpool.py:1056: InsecureRequestWarning: Unverified HTTPS request is being made to host 'mathworld.wolfram.com'. Adding certificate verification is strongly advised. See: https://urllib3.readthedocs.io/en/1.26.x/advanced-usage.html#ssl-warnings\n",
      "  warnings.warn(\n",
      "/home/william/anaconda3/envs/search_sense/lib/python3.10/site-packages/urllib3/connectionpool.py:1056: InsecureRequestWarning: Unverified HTTPS request is being made to host 'www.mathsisfun.com'. Adding certificate verification is strongly advised. See: https://urllib3.readthedocs.io/en/1.26.x/advanced-usage.html#ssl-warnings\n",
      "  warnings.warn(\n",
      "/home/william/anaconda3/envs/search_sense/lib/python3.10/site-packages/urllib3/connectionpool.py:1056: InsecureRequestWarning: Unverified HTTPS request is being made to host 'machinelearningmastery.com'. Adding certificate verification is strongly advised. See: https://urllib3.readthedocs.io/en/1.26.x/advanced-usage.html#ssl-warnings\n",
      "  warnings.warn(\n",
      "/home/william/anaconda3/envs/search_sense/lib/python3.10/site-packages/urllib3/connectionpool.py:1056: InsecureRequestWarning: Unverified HTTPS request is being made to host 'tutorial.math.lamar.edu'. Adding certificate verification is strongly advised. See: https://urllib3.readthedocs.io/en/1.26.x/advanced-usage.html#ssl-warnings\n",
      "  warnings.warn(\n",
      "/home/william/anaconda3/envs/search_sense/lib/python3.10/site-packages/urllib3/connectionpool.py:1056: InsecureRequestWarning: Unverified HTTPS request is being made to host 'byjus.com'. Adding certificate verification is strongly advised. See: https://urllib3.readthedocs.io/en/1.26.x/advanced-usage.html#ssl-warnings\n",
      "  warnings.warn(\n",
      "/home/william/anaconda3/envs/search_sense/lib/python3.10/site-packages/urllib3/connectionpool.py:1056: InsecureRequestWarning: Unverified HTTPS request is being made to host 'www.math.net'. Adding certificate verification is strongly advised. See: https://urllib3.readthedocs.io/en/1.26.x/advanced-usage.html#ssl-warnings\n",
      "  warnings.warn(\n",
      "/home/william/anaconda3/envs/search_sense/lib/python3.10/site-packages/urllib3/connectionpool.py:1056: InsecureRequestWarning: Unverified HTTPS request is being made to host 'www.britannica.com'. Adding certificate verification is strongly advised. See: https://urllib3.readthedocs.io/en/1.26.x/advanced-usage.html#ssl-warnings\n",
      "  warnings.warn(\n",
      "/home/william/anaconda3/envs/search_sense/lib/python3.10/site-packages/urllib3/connectionpool.py:1056: InsecureRequestWarning: Unverified HTTPS request is being made to host 'brilliant.org'. Adding certificate verification is strongly advised. See: https://urllib3.readthedocs.io/en/1.26.x/advanced-usage.html#ssl-warnings\n",
      "  warnings.warn(\n",
      "/home/william/anaconda3/envs/search_sense/lib/python3.10/site-packages/urllib3/connectionpool.py:1056: InsecureRequestWarning: Unverified HTTPS request is being made to host 'www.google.com'. Adding certificate verification is strongly advised. See: https://urllib3.readthedocs.io/en/1.26.x/advanced-usage.html#ssl-warnings\n",
      "  warnings.warn(\n",
      "/home/william/anaconda3/envs/search_sense/lib/python3.10/site-packages/urllib3/connectionpool.py:1056: InsecureRequestWarning: Unverified HTTPS request is being made to host 'math.libretexts.org'. Adding certificate verification is strongly advised. See: https://urllib3.readthedocs.io/en/1.26.x/advanced-usage.html#ssl-warnings\n",
      "  warnings.warn(\n",
      "/home/william/anaconda3/envs/search_sense/lib/python3.10/site-packages/urllib3/connectionpool.py:1056: InsecureRequestWarning: Unverified HTTPS request is being made to host 'www.youtube.com'. Adding certificate verification is strongly advised. See: https://urllib3.readthedocs.io/en/1.26.x/advanced-usage.html#ssl-warnings\n",
      "  warnings.warn(\n",
      "/home/william/anaconda3/envs/search_sense/lib/python3.10/site-packages/urllib3/connectionpool.py:1056: InsecureRequestWarning: Unverified HTTPS request is being made to host 'www.maplesoft.com'. Adding certificate verification is strongly advised. See: https://urllib3.readthedocs.io/en/1.26.x/advanced-usage.html#ssl-warnings\n",
      "  warnings.warn(\n",
      "/home/william/anaconda3/envs/search_sense/lib/python3.10/site-packages/urllib3/connectionpool.py:1056: InsecureRequestWarning: Unverified HTTPS request is being made to host 'www.le.ac.uk'. Adding certificate verification is strongly advised. See: https://urllib3.readthedocs.io/en/1.26.x/advanced-usage.html#ssl-warnings\n",
      "  warnings.warn(\n",
      "Some characters could not be decoded, and were replaced with REPLACEMENT CHARACTER.\n",
      "/home/william/anaconda3/envs/search_sense/lib/python3.10/site-packages/urllib3/connectionpool.py:1056: InsecureRequestWarning: Unverified HTTPS request is being made to host 'ximera.osu.edu'. Adding certificate verification is strongly advised. See: https://urllib3.readthedocs.io/en/1.26.x/advanced-usage.html#ssl-warnings\n",
      "  warnings.warn(\n",
      "/home/william/anaconda3/envs/search_sense/lib/python3.10/site-packages/urllib3/connectionpool.py:1056: InsecureRequestWarning: Unverified HTTPS request is being made to host 'www.merriam-webster.com'. Adding certificate verification is strongly advised. See: https://urllib3.readthedocs.io/en/1.26.x/advanced-usage.html#ssl-warnings\n",
      "  warnings.warn(\n",
      "/home/william/anaconda3/envs/search_sense/lib/python3.10/site-packages/urllib3/connectionpool.py:1056: InsecureRequestWarning: Unverified HTTPS request is being made to host 'study.com'. Adding certificate verification is strongly advised. See: https://urllib3.readthedocs.io/en/1.26.x/advanced-usage.html#ssl-warnings\n",
      "  warnings.warn(\n",
      "/home/william/anaconda3/envs/search_sense/lib/python3.10/site-packages/urllib3/connectionpool.py:1056: InsecureRequestWarning: Unverified HTTPS request is being made to host 'www.expii.com'. Adding certificate verification is strongly advised. See: https://urllib3.readthedocs.io/en/1.26.x/advanced-usage.html#ssl-warnings\n",
      "  warnings.warn(\n",
      "/home/william/anaconda3/envs/search_sense/lib/python3.10/site-packages/urllib3/connectionpool.py:1056: InsecureRequestWarning: Unverified HTTPS request is being made to host 'medium.com'. Adding certificate verification is strongly advised. See: https://urllib3.readthedocs.io/en/1.26.x/advanced-usage.html#ssl-warnings\n",
      "  warnings.warn(\n"
     ]
    }
   ],
   "source": [
    "# Step 1: Define the search query and retrieve search results\n",
    "search_query = input(\"What would you like to search up?\")\n",
    "search_engine_url = \"https://www.google.com/search?q=\"\n",
    "\n",
    "# Set headers to mimic a browser request\n",
    "headers = {\n",
    "    \"User-Agent\": \"Mozilla/5.0 (Windows NT 10.0; Win64; x64) AppleWebKit/537.36 (KHTML, like Gecko) Chrome/91.0.4472.124 Safari/537.36\"\n",
    "}\n",
    "\n",
    "# Number of search result pages to retrieve (each page approx. has 10 results)\n",
    "num_pages = 2\n",
    "\n",
    "search_results = []\n",
    "\n",
    "\n",
    "for page in range(num_pages):\n",
    "    # Calculate the start index for the current page\n",
    "    start_index = page * 10\n",
    "\n",
    "    # Make a GET request to retrieve the search result page\n",
    "    response = requests.get(search_engine_url + search_query + f\"&start={start_index}\", headers=headers, verify = False)\n",
    "\n",
    "    # Step 2: Parse and extract information from the search result page\n",
    "    soup = BeautifulSoup(response.content, \"html.parser\")\n",
    "\n",
    "    for result in soup.select(\"div.g\"):\n",
    "        title_element = result.select_one(\"h3\")\n",
    "        if title_element:\n",
    "            title = title_element.get_text()\n",
    "            url_element = result.find(\"a\")\n",
    "            if url_element:\n",
    "                url = url_element[\"href\"]\n",
    "                parsed_url = urlparse(url)\n",
    "                if parsed_url.scheme == \"\":\n",
    "                    # Relative URL, convert it to absolute URL\n",
    "                    base_url = response.url\n",
    "                    url = urljoin(base_url, url)\n",
    "                    \n",
    "            result_response = requests.get(url, headers=headers, verify = False)\n",
    "\n",
    "            # Extract visible text content from the HTML response\n",
    "            result_soup = BeautifulSoup(result_response.content, \"html.parser\")\n",
    "            text = result_soup.get_text()\n",
    "\n",
    "            # Remove excess whitespace from the extracted text\n",
    "            text = ' '.join(text.split())\n",
    "\n",
    "            search_results.append({\"Title\": title, \"URL\": url, \"Text\": text})"
   ]
  },
  {
   "cell_type": "code",
   "execution_count": 36,
   "id": "ace71d1c-a252-4d3c-a969-7d90840edc84",
   "metadata": {},
   "outputs": [
    {
     "name": "stdout",
     "output_type": "stream",
     "text": [
      "18\n"
     ]
    },
    {
     "data": {
      "text/html": [
       "<div>\n",
       "<style scoped>\n",
       "    .dataframe tbody tr th:only-of-type {\n",
       "        vertical-align: middle;\n",
       "    }\n",
       "\n",
       "    .dataframe tbody tr th {\n",
       "        vertical-align: top;\n",
       "    }\n",
       "\n",
       "    .dataframe thead th {\n",
       "        text-align: right;\n",
       "    }\n",
       "</style>\n",
       "<table border=\"1\" class=\"dataframe\">\n",
       "  <thead>\n",
       "    <tr style=\"text-align: right;\">\n",
       "      <th></th>\n",
       "      <th>Title</th>\n",
       "      <th>URL</th>\n",
       "      <th>Text</th>\n",
       "    </tr>\n",
       "  </thead>\n",
       "  <tbody>\n",
       "    <tr>\n",
       "      <th>0</th>\n",
       "      <td>Taylor series</td>\n",
       "      <td>https://en.wikipedia.org/wiki/Taylor_series</td>\n",
       "      <td>Taylor series - Wikipedia Jump to content Main...</td>\n",
       "    </tr>\n",
       "    <tr>\n",
       "      <th>1</th>\n",
       "      <td>Taylor Series -- from Wolfram MathWorld</td>\n",
       "      <td>https://mathworld.wolfram.com/TaylorSeries.html</td>\n",
       "      <td>Taylor Series -- from Wolfram MathWorld TOPICS...</td>\n",
       "    </tr>\n",
       "    <tr>\n",
       "      <th>2</th>\n",
       "      <td>Taylor Series</td>\n",
       "      <td>https://www.mathsisfun.com/algebra/taylor-seri...</td>\n",
       "      <td>Taylor Series Advanced Show Ads Hide Ads About...</td>\n",
       "    </tr>\n",
       "    <tr>\n",
       "      <th>3</th>\n",
       "      <td>A Gentle Introduction to Taylor Series</td>\n",
       "      <td>https://machinelearningmastery.com/a-gentle-in...</td>\n",
       "      <td>A Gentle Introduction to Taylor Series - Machi...</td>\n",
       "    </tr>\n",
       "    <tr>\n",
       "      <th>4</th>\n",
       "      <td>Calculus II - Taylor Series</td>\n",
       "      <td>https://tutorial.math.lamar.edu/classes/calcii...</td>\n",
       "      <td>Calculus II - Taylor Series Paul's Online Note...</td>\n",
       "    </tr>\n",
       "  </tbody>\n",
       "</table>\n",
       "</div>"
      ],
      "text/plain": [
       "                                     Title  \\\n",
       "0                            Taylor series   \n",
       "1  Taylor Series -- from Wolfram MathWorld   \n",
       "2                            Taylor Series   \n",
       "3   A Gentle Introduction to Taylor Series   \n",
       "4              Calculus II - Taylor Series   \n",
       "\n",
       "                                                 URL  \\\n",
       "0        https://en.wikipedia.org/wiki/Taylor_series   \n",
       "1    https://mathworld.wolfram.com/TaylorSeries.html   \n",
       "2  https://www.mathsisfun.com/algebra/taylor-seri...   \n",
       "3  https://machinelearningmastery.com/a-gentle-in...   \n",
       "4  https://tutorial.math.lamar.edu/classes/calcii...   \n",
       "\n",
       "                                                Text  \n",
       "0  Taylor series - Wikipedia Jump to content Main...  \n",
       "1  Taylor Series -- from Wolfram MathWorld TOPICS...  \n",
       "2  Taylor Series Advanced Show Ads Hide Ads About...  \n",
       "3  A Gentle Introduction to Taylor Series - Machi...  \n",
       "4  Calculus II - Taylor Series Paul's Online Note...  "
      ]
     },
     "execution_count": 36,
     "metadata": {},
     "output_type": "execute_result"
    }
   ],
   "source": [
    "df = pd.DataFrame(search_results)\n",
    "print(len(df))\n",
    "#unfiltered dataframe\n",
    "df.head()"
   ]
  },
  {
   "cell_type": "code",
   "execution_count": 37,
   "id": "a3caa3ab-5338-4946-9731-efa2f83cc71d",
   "metadata": {},
   "outputs": [],
   "source": [
    "stop_words = stopwords.words(\"english\") #english filler words\n",
    "\n",
    "def remove_stopwords(text):\n",
    "    '''\n",
    "    Input a text block and removes all filler words and special characters, returns a filtered text block in the form of a str\n",
    "    '''\n",
    "    words = text.split()\n",
    "    filtered_words = [word for word in words if word.lower() not in stop_words]\n",
    "    filtered_words = \" \".join(filtered_words)\n",
    "    cleaned_text = filtered_words.translate (str.maketrans('','', string.punctuation))\n",
    "    return cleaned_text\n",
    "# def remove_specialchars(text):\n",
    "#     '''\n",
    "#     Input a text block and removes all special characters. Returns the filtered text block in the form of a str\n",
    "#     '''\n",
    "#     cleaned_text = text.translate (str.maketrans('','', string.punctuation))\n",
    "#     return cleaned_text"
   ]
  },
  {
   "cell_type": "code",
   "execution_count": 38,
   "id": "e28f1150-3f91-4e37-933b-2250302cbfd6",
   "metadata": {},
   "outputs": [
    {
     "name": "stdout",
     "output_type": "stream",
     "text": [
      "length of unfiltered text:  51507\n",
      "length of filtered text:  36916\n"
     ]
    }
   ],
   "source": [
    "example = df[\"Text\"][0]\n",
    "filtered_example = remove_stopwords(example)\n",
    "\n",
    "print(\"length of unfiltered text: \", len(example))\n",
    "print(\"length of filtered text: \", len(filtered_example))"
   ]
  },
  {
   "cell_type": "code",
   "execution_count": 39,
   "id": "d4372b92-65c2-4d2c-b446-70f1291fd72c",
   "metadata": {},
   "outputs": [
    {
     "name": "stdout",
     "output_type": "stream",
     "text": [
      "51507\n"
     ]
    }
   ],
   "source": [
    "#Properly using the apply() function onto a pandas column\n",
    "#removes both filler words and special characters\n",
    "print(len(df[\"Text\"][0]))\n",
    "df[\"Text\"] = df[\"Text\"].apply(remove_stopwords)"
   ]
  },
  {
   "cell_type": "code",
   "execution_count": 40,
   "id": "e247526b-2b89-42c3-ac86-50cdca58d322",
   "metadata": {},
   "outputs": [
    {
     "name": "stdout",
     "output_type": "stream",
     "text": [
      "36916\n"
     ]
    }
   ],
   "source": [
    "print(len(df[\"Text\"][0]))"
   ]
  },
  {
   "cell_type": "code",
   "execution_count": 41,
   "id": "abbe60f9-c954-4d21-af98-91cdee578452",
   "metadata": {},
   "outputs": [
    {
     "data": {
      "text/plain": [
       "'Taylor series  Wikipedia Jump content Main menu Main menu move sidebar hide Navigation Main pageContentsCurrent eventsRandom articleAbout WikipediaContact usDonate Contribute HelpLearn editCommunity portalRecent changesUpload file Languages Language links top page across title Search Search Create accountLog Personal tools Create account Log Pages logged editors learn ContributionsTalk Contents move sidebar hide Top 1Definition 2Examples 3History 4Analytic functions 5Approximation error convergence Toggle Approximation error convergence subsection 51Generalization 6List Maclaurin series common functions Toggle List Maclaurin series common functions subsection 61Exponential function 62Natural logarithm 63Geometric series 64Binomial series 65Trigonometric functions 66Hyperbolic functions 67Polylogarithmic functions 68Elliptic functions 7Calculation Taylor series Toggle Calculation Taylor series subsection 71First example 72Second example 73Third example 8Taylor series definitions 9Taylor series several variables Toggle Taylor series several variables subsection 91Secondorder Taylor series several variables 92Example 10Comparison Fourier series 11See also 12Notes 13References 14External links Toggle table contents Toggle table contents Taylor series 64 languages العربيةAsturianuAzərbaycancaবাংলাБашҡортсаБеларускаяБългарскиBoarischBosanskiCatalàЧӑвашлаČeštinaCymraegDanskDeutschEestiΕλληνικάEspañolEsperantoEuskaraفارسیFrançaisGalego한국어Հայերենहिन्दीHrvatskiBahasa IndonesiaÍslenskaItalianoעבריתҚазақшаLatviešuLietuviųMagyarМакедонскиNederlands日本語Norsk bokmålNorsk nynorskPiemontèisPolskiPortuguêsRomânăРусскийසිංහලSimple EnglishSlovenčinaSlovenščinaکوردیСрпски  srpskiSrpskohrvatski  српскохрватскиSuomiSvenskaதமிழ்Татарча  tatarçaТоҷикӣTürkçeУкраїнськаاردوTiếng Việt吴语粵語中文 Edit links Article Talk English Read Edit View history Tools Tools move sidebar hide Actions ReadEditView history General links hereRelated changesUpload fileSpecial pagesPermanent linkPage informationCite pageWikidata item Printexport Download PDFPrintable version projects Wikimedia CommonsWikibooks Wikipedia free encyclopedia Mathematical approximation function degree Taylor polynomial rises approaches correct function image shows sin x Taylor approximations polynomials degree 1 3 5 7 9 11 13 x  0 Part series articles aboutCalculus Fundamental theorem Limits Continuity Rolles theorem Mean value theorem Inverse function theorem Differential Definitions Derivative generalizations Differential infinitesimal function total Concepts Differentiation notation Second derivative Implicit differentiation Logarithmic differentiation Related rates Taylors theorem Rules identities Sum Product Chain Power Quotient LHôpitals rule Inverse General Leibniz Faà di Brunos formula Reynolds Integral Lists integrals Integral transform Leibniz integral rule Definitions Antiderivative Integral improper Riemann integral Lebesgue integration Contour integration Integral inverse functions Integration Parts Discs Cylindrical shells Substitution trigonometric tangent halfangle Euler Eulers formula Partial fractions Changing order Reduction formulae Differentiating integral sign Risch algorithm Series Geometric arithmeticogeometric Harmonic Alternating Power Binomial Taylor Convergence tests Summand limit term test Ratio Root Integral Direct comparison Limit comparison Alternating series Cauchy condensation Dirichlet Abel Vector Gradient Divergence Curl Laplacian Directional derivative Identities Theorems Gradient Greens Stokes Divergence generalized Stokes Multivariable Formalisms Matrix Tensor Exterior Geometric Definitions Partial derivative Multiple integral Line integral Surface integral Volume integral Jacobian Hessian Advanced Calculus Euclidean space Generalized functions Limit distributions Specialized Fractional Malliavin Stochastic Variations Miscellaneous Precalculus History Glossary List topics Integration Bee Mathematical analysis Nonstandard analysis vte mathematics Taylor series Taylor expansion function infinite sum terms expressed terms functions derivatives single point common functions function sum Taylor series equal near point Taylor series named Brook Taylor introduced 1715 Taylor series also called Maclaurin series 0 point derivatives considered Colin Maclaurin made extensive use special case Taylor series mid18th century partial sum formed first n  1 terms Taylor series polynomial degree n called nth Taylor polynomial function Taylor polynomials approximations function become generally better n increases Taylors theorem gives quantitative estimates error introduced use approximations Taylor series function convergent sum limit infinite sequence Taylor polynomials function may differ sum Taylor series even Taylor series convergent function analytic point x equal sum Taylor series open interval or open disk complex plane containing x implies function analytic every point interval or disk Definitionedit Taylor series real complexvalued function f x infinitely differentiable real complex number power series f    f ′   1   x −   f ″   2   x −  2  f ‴   3   x −  3  ⋯  displaystyle fafrac fa1xafrac fa2xa2frac fa3xa3cdots  n denotes factorial n compact sigma notation written ∑ n  0 ∞ f  n    n   x −  n  displaystyle sum n0infty frac fnanxan fna denotes nth derivative f evaluated point a The derivative order zero f defined f x − a0 0 defined 1  0 Maclaurin series takes form1 f  0   f ′  0  1  x  f ″  0  2  x 2  f ‴  0  3  x 3  ⋯  displaystyle f0frac f01xfrac f02x2frac f03x3cdots  compact sigma notation ∑ n  0 ∞ f  n   0  n  x n  displaystyle sum n0infty frac fn0nxn Examplesedit Taylor series polynomial polynomial itself Maclaurin series 11 − x geometric series 1  x  x 2  x 3  ⋯  displaystyle 1xx2x3cdots  So substituting x 1 − x Taylor series 1x  1 1 −  x − 1    x − 1  2 −  x − 1  3  ⋯  displaystyle 1x1x12x13cdots  integrating Maclaurin series find Maclaurin series ln1 − x ln denotes natural logarithm − x − 1 2 x 2 − 1 3 x 3 − 1 4 x 4 − ⋯  displaystyle xtfrac 12x2tfrac 13x3tfrac 14x4cdots  corresponding Taylor series ln x  1  x − 1  − 1 2  x − 1  2  1 3  x − 1  3 − 1 4  x − 1  4  ⋯  displaystyle x1tfrac 12x12tfrac 13x13tfrac 14x14cdots  generally corresponding Taylor series ln x arbitrary nonzero point is ln \\u2061  1  x −  − 1 2  x −  2 2  ⋯  displaystyle ln afrac 1axafrac 1a2frac leftxaright22cdots  Maclaurin series exponential function ex ∑ n  0 ∞ x n n   x 0 0   x 1 1   x 2 2   x 3 3   x 4 4   x 5 5   ⋯  1  x  x 2 2  x 3 6  x 4 24  x 5 120  ⋯  displaystyle beginalignedsum n0infty frac xnnfrac x00frac x11frac x22frac x33frac x44frac x55cdots 1xfrac x22frac x36frac x424frac x5120cdots endaligned expansion holds derivative ex respect x also ex e0 equals 1 leaves terms x − 0n numerator n denominator term infinite sum Historyedit ancient Greek philosopher Zeno Elea considered problem summing infinite series achieve finite result rejected impossibility2 result Zenos paradox Later Aristotle proposed philosophical resolution paradox mathematical content apparently unresolved taken Archimedes prior Aristotle Presocratic Atomist Democritus Archimedess method exhaustion infinite number progressive subdivisions could performed achieve finite result3 Liu Hui independently employed similar method centuries later4 14th century earliest examples specific Taylor series but general method given Madhava Sangamagrama56 Though record work survives writings followers Kerala school astronomy mathematics suggest found Taylor series trigonometric functions sine cosine arctangent see Madhava series following two centuries followers developed series expansions rational approximations late 1670 James Gregory shown letter John Collins several Maclaurin series  sin \\u2061 x  textstyle sin x cos \\u2061 x  textstyle cos x arcsin \\u2061 x  textstyle arcsin x x cot \\u2061 x textstyle xcot x  derived Isaac Newton told Newton developed general method expanding functions series Newton fact used cumbersome method involving long division series termbyterm integration Gregory know set discover general method himself early 1671 Gregory discovered something like general Maclaurin series sent letter Collins including series arctan \\u2061 x  textstyle arctan x tan \\u2061 x  textstyle tan x sec \\u2061 x  textstyle sec x ln sec \\u2061 x textstyle ln sec x the integral tan displaystyle tan   ln tan \\u2061 1 2  1 2 π  x  textstyle ln tan tfrac 12bigl tfrac 12pi xbigr  the integral sec inverse Gudermannian function arcsec \\u2061  2 e x   textstyle operatorname arcsec bigl sqrt 2exbigr  2 arctan \\u2061 e x − 1 2 π textstyle 2arctan extfrac 12pi  the Gudermannian function However thinking merely redeveloped method Newton Gregory never described obtained series inferred understood general method examining scratch work scribbled back another letter 16717 1691–1692 Isaac Newton wrote explicit statement Taylor Maclaurin series unpublished version work De Quadratura Curvarum However work never completed relevant sections omitted portions published 1704 title Tractatus de Quadratura Curvarum 1715 general method constructing series functions exist finally published Brook Taylor8 series named Maclaurin series named Colin Maclaurin professor Edinburgh published special case Taylor result mid18th century Analytic functionsedit function e−1x2 analytic x  0 Taylor series identically 0 although function not Main article Analytic function f x given convergent power series open disk centred b complex plane or interval real line said analytic region Thus x region f given convergent power series f  x   ∑ n  0 ∞ n  x − b  n  displaystyle fxsum n0infty anxbn Differentiating x formula n times setting x  b gives f  n   b  n   n displaystyle frac fnbnan power series expansion agrees Taylor series Thus function analytic open disk centered b Taylor series converges value function point disk f x equal sum Taylor series x complex plane called entire polynomials exponential function ex trigonometric functions sine cosine examples entire functions Examples functions entire include square root logarithm trigonometric function tangent inverse arctan functions Taylor series converge x far b is Taylor series diverges x distance x b larger radius convergence Taylor series used calculate value entire function every point value function derivatives known single point Uses Taylor series analytic functions include partial sums the Taylor polynomials series used approximations function approximations good sufficiently many terms included Differentiation integration power series performed term term hence particularly easy analytic function uniquely extended holomorphic function open disk complex plane makes machinery complex analysis available truncated series used compute function values numerically often recasting polynomial Chebyshev form evaluating Clenshaw algorithm Algebraic operations done readily power series representation instance Eulers formula follows Taylor series expansions trigonometric exponential functions result fundamental importance fields harmonic analysis Approximations using first terms Taylor series make otherwise unsolvable problems possible restricted domain approach often used physics Approximation error convergenceedit Main article Taylors theorem sine function blue closely approximated Taylor polynomial degree 7 pink full period centered origin Taylor polynomials ln1  x provide accurate approximations range −1  x ≤ 1 x  1 Taylor polynomials higher degree provide worse approximations Taylor approximations ln1  x black x  1 approximations diverge Pictured accurate approximation sin x around point x  0 pink curve polynomial degree seven sin \\u2061 x ≈ x − x 3 3   x 5 5  − x 7 7   displaystyle sin xapprox xfrac x33frac x55frac x77 error approximation x9  9 full cycle centered origin −π  x  π error less 008215 particular −1  x  1 error less 0000003 contrast also shown picture natural logarithm function ln1  x Taylor polynomials around  0 approximations converge function region −1  x ≤ 1 outside region higherdegree Taylor polynomials worse approximations function error incurred approximating function nthdegree Taylor polynomial called remainder residual denoted function Rnx Taylors theorem used obtain bound size remainder general Taylor series need convergent all fact set functions convergent Taylor series meager set Fréchet space smooth functions even Taylor series function f converge limit need general equal value function f x example function f  x    e − 1  x 2 x ≠ 0 0 x  0 displaystyle fxbegincasese1x2textif xneq 03mu0textif x0endcases infinitely differentiable x  0 derivatives zero there Consequently Taylor series f x x  0 identically zero However f x zero function equal Taylor series around origin Thus f x example nonanalytic smooth function real analysis example shows infinitely differentiable functions f x whose Taylor series equal f x even converge contrast holomorphic functions studied complex analysis always possess convergent Taylor series even Taylor series meromorphic functions might singularities never converge value different function itself complex function e−1z2 however approach 0 z approaches 0 along imaginary axis continuous complex plane Taylor series undefined 0 generally every sequence real complex numbers appear coefficients Taylor series infinitely differentiable function defined real line consequence Borels lemma result radius convergence Taylor series zero even infinitely differentiable functions defined real line whose Taylor series radius convergence 0 everywhere9 function cannot written Taylor series centred singularity cases one often still achieve series expansion one allows also negative powers variable x see Laurent series example f x  e−1x2 written Laurent series Generalizationedit is however generalization1011 Taylor series converge value function bounded continuous function 0∞ using calculus finite differences Specifically one following theorem due Einar Hille  0 lim h → 0  ∑ n  0 ∞ n n  Δ h n f   h n  f     displaystyle lim hto 0sum n0infty frac tnnfrac Delta hnfahnfat Δnh nth finite difference operator step size h series precisely Taylor series except divided differences appear place differentiation series formally similar Newton series function f analytic a terms series converge terms Taylor series sense generalizes usual Taylor series general infinite sequence ai following power series identity holds ∑ n  0 ∞ u n n  Δ n  e − u ∑ j  0 ∞ u j j   j  displaystyle sum n0infty frac unnDelta naieusum j0infty frac ujjaij particular f     lim h → 0  e −  h ∑ j  0 ∞ f   j h    h  j j   displaystyle fatlim hto 0ethsum j0infty fajhfrac thjj series right expectation value f a  X X Poissondistributed random variable takes value jh probability e−th·thjj Hence f     lim h → 0  ∫ − ∞ ∞ f   x  P  h  h  x   displaystyle fatlim hto 0int infty infty faxdPthhx law large numbers implies identity holds12 List Maclaurin series common functionsedit See also List mathematical series Several important Maclaurin series expansions follow13 expansions valid complex arguments x Exponential functionedit exponential function ex in blue sum first n  1 terms Taylor series 0 in red exponential function e x displaystyle ex with base e Maclaurin series e x  ∑ n  0 ∞ x n n   1  x  x 2 2   x 3 3   ⋯ displaystyle exsum n0infty frac xnn1xfrac x22frac x33cdots   converges x exponential generating function Bell numbers exponential function predecessor exponential function exp \\u2061  exp \\u2061 x − 1   ∑ n  0 ∞ B n n  x n displaystyle expexp x1sum n0infty frac Bnnxn Natural logarithmedit Main article Mercator series natural logarithm with base e Maclaurin series ln \\u2061  1 − x   − ∑ n  1 ∞ x n n  − x − x 2 2 − x 3 3 − ⋯  ln \\u2061  1  x   ∑ n  1 ∞  − 1  n  1 x n n  x − x 2 2  x 3 3 − ⋯  displaystyle beginalignedln1xsum n1infty frac xnnxfrac x22frac x33cdots ln1xsum n1infty 1n1frac xnnxfrac x22frac x33cdots endaligned converge  x   1 displaystyle x1  In addition series ln1 − x converges x  −1 series ln1  x converges x  1 Geometric seriesedit geometric series derivatives Maclaurin series 1 1 − x  ∑ n  0 ∞ x n 1  1 − x  2  ∑ n  1 ∞ n x n − 1 1  1 − x  3  ∑ n  2 ∞  n − 1  n 2 x n − 2  displaystyle beginalignedfrac 11xsum n0infty xnfrac 11x2sum n1infty nxn1frac 11x3sum n2infty frac n1n2xn2endaligned convergent  x   1 displaystyle x1  special cases binomial series given next section Binomial seriesedit binomial series power series  1  x  α  ∑ n  0 ∞  α n  x n displaystyle 1xalpha sum n0infty binom alpha nxn whose coefficients generalized binomial coefficients  α n   ∏ k  1 n α − k  1 k  α  α − 1  ⋯  α − n  1  n   displaystyle binom alpha nprod k1nfrac alpha k1kfrac alpha alpha 1cdots alpha n1n If n  0 product empty product value 1 converges  x   1 displaystyle x1 real complex number α α  −1 essentially infinite geometric series mentioned previous section special cases α  12 α  −12 give square root function inverse  1  x  1 2  1  1 2 x − 1 8 x 2  1 16 x 3 − 5 128 x 4  7 256 x 5 − ⋯  ∑ n  0 ∞  − 1  n − 1  2 n   4 n  n   2  2 n − 1  x n   1  x  − 1 2  1 − 1 2 x  3 8 x 2 − 5 16 x 3  35 128 x 4 − 63 256 x 5  ⋯  ∑ n  0 ∞  − 1  n  2 n   4 n  n   2 x n  displaystyle beginaligned1xfrac 121tfrac 12xtfrac 18x2tfrac 116x3tfrac 5128x4tfrac 7256x5cdots sum n0infty frac 1n12n4nn22n1xn1xfrac 121tfrac 12xtfrac 38x2tfrac 516x3tfrac 35128x4tfrac 63256x5cdots sum n0infty frac 1n2n4nn2xnendaligned linear term retained simplifies binomial approximation Trigonometric functionsedit usual trigonometric functions inverses following Maclaurin series sin \\u2061 x  ∑ n  0 ∞  − 1  n  2 n  1   x 2 n  1  x − x 3 3   x 5 5  − ⋯ x cos \\u2061 x  ∑ n  0 ∞  − 1  n  2 n   x 2 n  1 − x 2 2   x 4 4  − ⋯ x tan \\u2061 x  ∑ n  1 ∞ B 2 n  − 4  n  1 − 4 n   2 n   x 2 n − 1  x  x 3 3  2 x 5 15  ⋯  x   π 2 sec \\u2061 x  ∑ n  0 ∞  − 1  n E 2 n  2 n   x 2 n  1  x 2 2  5 x 4 24  ⋯  x   π 2 arcsin \\u2061 x  ∑ n  0 ∞  2 n   4 n  n   2  2 n  1  x 2 n  1  x  x 3 6  3 x 5 40  ⋯  x  ≤ 1 arccos \\u2061 x  π 2 − arcsin \\u2061 x  π 2 − ∑ n  0 ∞  2 n   4 n  n   2  2 n  1  x 2 n  1  π 2 − x − x 3 6 − 3 x 5 40 − ⋯  x  ≤ 1 arctan \\u2061 x  ∑ n  0 ∞  − 1  n 2 n  1 x 2 n  1  x − x 3 3  x 5 5 − ⋯  x  ≤ 1  x ≠ ± displaystyle beginalignedsin xsum n0infty frac 1n2n1x2n1xfrac x33frac x55cdots textfor x6ptcos xsum n0infty frac 1n2nx2n1frac x22frac x44cdots textfor x6pttan xsum n1infty frac B2n4nleft14nright2nx2n1xfrac x33frac 2x515cdots textfor xfrac pi 26ptsec xsum n0infty frac 1nE2n2nx2n1frac x22frac 5x424cdots textfor xfrac pi 26ptarcsin xsum n0infty frac 2n4nn22n1x2n1xfrac x36frac 3x540cdots textfor xleq 16ptarccos xfrac pi 2arcsin xfrac pi 2sum n0infty frac 2n4nn22n1x2n1frac pi 2xfrac x36frac 3x540cdots textfor xleq 16ptarctan xsum n0infty frac 1n2n1x2n1xfrac x33frac x55cdots textfor xleq 1 xneq pm iendaligned angles expressed radians numbers Bk appearing expansions tan x Bernoulli numbers Ek expansion sec x Euler numbers Hyperbolic functionsedit hyperbolic functions Maclaurin series closely related series corresponding trigonometric functions sinh \\u2061 x  ∑ n  0 ∞ x 2 n  1  2 n  1    x  x 3 3   x 5 5   ⋯ x cosh \\u2061 x  ∑ n  0 ∞ x 2 n  2 n    1  x 2 2   x 4 4   ⋯ x tanh \\u2061 x  ∑ n  1 ∞ B 2 n 4 n  4 n − 1   2 n   x 2 n − 1  x − x 3 3  2 x 5 15 − 17 x 7 315  ⋯  x   π 2 arsinh \\u2061 x  ∑ n  0 ∞  − 1  n  2 n   4 n  n   2  2 n  1  x 2 n  1  x − x 3 6  3 x 5 40 − ⋯  x  ≤ 1 artanh \\u2061 x  ∑ n  0 ∞ x 2 n  1 2 n  1  x  x 3 3  x 5 5  ⋯  x  ≤ 1  x ≠ ± 1 displaystyle beginalignedsinh xsum n0infty frac x2n12n1xfrac x33frac x55cdots textfor x6ptcosh xsum n0infty frac x2n2n1frac x22frac x44cdots textfor x6pttanh xsum n1infty frac B2n4nleft4n1right2nx2n1xfrac x33frac 2x515frac 17x7315cdots textfor xfrac pi 26ptoperatorname arsinh xsum n0infty frac 1n2n4nn22n1x2n1xfrac x36frac 3x540cdots textfor xleq 16ptoperatorname artanh xsum n0infty frac x2n12n1xfrac x33frac x55cdots textfor xleq 1 xneq pm 1endaligned numbers Bk appearing series tanh x Bernoulli numbers Polylogarithmic functionsedit polylogarithms defining identities Li 2  x   ∑ n  1 ∞ 1 n 2 x n displaystyle textLi2xsum n1infty frac 1n2xn Li 3  x   ∑ n  1 ∞ 1 n 3 x n displaystyle textLi3xsum n1infty frac 1n3xn Legendre chi functions defined follows χ 2  x   ∑ n  0 ∞ 1  2 n  1  2 x 2 n  1 displaystyle chi 2xsum n0infty frac 12n12x2n1 χ 3  x   ∑ n  0 ∞ 1  2 n  1  3 x 2 n  1 displaystyle chi 3xsum n0infty frac 12n13x2n1 formulas presented called inverse tangent integrals Ti 2  x   ∑ n  0 ∞  − 1  n  2 n  1  2 x 2 n  1 displaystyle textTi2xsum n0infty frac 1n2n12x2n1 Ti 3  x   ∑ n  0 ∞  − 1  n  2 n  1  3 x 2 n  1 displaystyle textTi3xsum n0infty frac 1n2n13x2n1 statistical thermodynamics formulas great importance Elliptic functionsedit complete elliptic integrals first kind K second kind E defined follows 2 π K  x   ∑ n  0 ∞   2 n    2 16 n  n   4 x 2 n displaystyle frac 2pi Kxsum n0infty frac 2n216nn4x2n 2 π E  x   ∑ n  0 ∞   2 n    2  1 − 2 n  16 n  n   4 x 2 n displaystyle frac 2pi Exsum n0infty frac 2n212n16nn4x2n Jacobi theta functions describe world elliptic modular functions Taylor series ϑ 00  x   1  2 ∑ n  1 ∞ x n 2 displaystyle vartheta 00x12sum n1infty xn2 ϑ 01  x   1  2 ∑ n  1 ∞  − 1  n x n 2 displaystyle vartheta 01x12sum n1infty 1nxn2 regular partition number sequence Pn generating function ϑ 00  x  − 1  6 ϑ 01  x  − 2  3  ϑ 00  x  4 − ϑ 01  x  4 16 x  − 1  24  ∑ n  0 ∞ P  n  x n  ∏ k  1 ∞ 1 1 − x k displaystyle vartheta 00x16vartheta 01x23biggl frac vartheta 00x4vartheta 01x416xbiggr 124sum n0infty Pnxnprod k1infty frac 11xk strict partition number sequence Qn generating function ϑ 00  x  1  6 ϑ 01  x  − 1  3  ϑ 00  x  4 − ϑ 01  x  4 16 x  1  24  ∑ n  0 ∞ Q  n  x n  ∏ k  1 ∞ 1 1 − x 2 k − 1 displaystyle vartheta 00x16vartheta 01x13biggl frac vartheta 00x4vartheta 01x416xbiggr 124sum n0infty Qnxnprod k1infty frac 11x2k1 Calculation Taylor seriesedit Several methods exist calculation Taylor series large number functions One attempt use definition Taylor series though often requires generalizing form coefficients according readily apparent pattern Alternatively one use manipulations substitution multiplication division addition subtraction standard Taylor series construct Taylor series function virtue Taylor series power series cases one also derive Taylor series repeatedly applying integration parts Particularly convenient use computer algebra systems calculate Taylor series First exampleedit order compute 7th degree Maclaurin polynomial function f  x   ln \\u2061  cos \\u2061 x   x ∈  − π 2  π 2  displaystyle fxlncos xquad xin leftfrac pi 2frac pi 2right  one may first rewrite function f  x   ln \\u2061  1   cos \\u2061 x − 1   displaystyle fxln bigl 1cos x1bigr   Taylor series natural logarithm using big notation ln \\u2061  1  x   x − x 2 2  x 3 3   x 4  displaystyle ln1xxfrac x22frac x33Oleftx4right cosine function cos \\u2061 x − 1  − x 2 2  x 4 24 − x 6 720   x 8  displaystyle cos x1frac x22frac x424frac x6720Oleftx8right  latter series expansion zero constant term enables us substitute second series first one easily omit terms higher order 7th degree using big notation f  x   ln \\u2061  1   cos \\u2061 x − 1     cos \\u2061 x − 1  − 1 2  cos \\u2061 x − 1  2  1 3  cos \\u2061 x − 1  3    cos \\u2061 x − 1  4    − x 2 2  x 4 24 − x 6 720   x 8   − 1 2  − x 2 2  x 4 24   x 6   2  1 3  − x 2 2   x 4   3   x 8   − x 2 2  x 4 24 − x 6 720 − x 4 8  x 6 48 − x 6 24   x 8   − x 2 2 − x 4 12 − x 6 45   x 8   displaystyle beginalignedfxln bigl 1cos x1bigr cos x1tfrac 12cos x12tfrac 13cos x13Oleftcos x14rightleftfrac x22frac x424frac x6720Oleftx8rightrightfrac 12leftfrac x22frac x424Oleftx6rightright2frac 13leftfrac x22Oleftx4rightright3Oleftx8rightfrac x22frac x424frac x6720frac x48frac x648frac x624Oleftx8rightfrac x22frac x412frac x645Oleftx8rightendaligned Since cosine even function coefficients odd powers x x3 x5 x7  zero Second exampleedit Suppose want Taylor series 0 function g  x   e x cos \\u2061 x  displaystyle gxfrac excos x exponential function e x  ∑ n  0 ∞ x n n   1  x  x 2 2   x 3 3   x 4 4   ⋯ displaystyle exsum n0infty frac xnn1xfrac x22frac x33frac x44cdots  and first example cos \\u2061 x  1 − x 2 2   x 4 4  − ⋯ displaystyle cos x1frac x22frac x44cdots  Assume power series e x cos \\u2061 x  c 0  c 1 x  c 2 x 2  c 3 x 3  ⋯ displaystyle frac excos xc0c1xc2x2c3x3cdots  multiplication denominator substitution series cosine yields e x   c 0  c 1 x  c 2 x 2  c 3 x 3  ⋯  cos \\u2061 x   c 0  c 1 x  c 2 x 2  c 3 x 3  c 4 x 4  ⋯   1 − x 2 2   x 4 4  − ⋯   c 0 − c 0 2 x 2  c 0 4  x 4  c 1 x − c 1 2 x 3  c 1 4  x 5  c 2 x 2 − c 2 2 x 4  c 2 4  x 6  c 3 x 3 − c 3 2 x 5  c 3 4  x 7  c 4 x 4  ⋯ displaystyle beginalignedexleftc0c1xc2x2c3x3cdots rightcos xleftc0c1xc2x2c3x3c4x4cdots rightleft1frac x22frac x44cdots rightc0frac c02x2frac c04x4c1xfrac c12x3frac c14x5c2x2frac c22x4frac c24x6c3x3frac c32x5frac c34x7c4x4cdots endaligned Collecting terms fourth order yields e x  c 0  c 1 x   c 2 − c 0 2  x 2   c 3 − c 1 2  x 3   c 4 − c 2 2  c 0 4   x 4  ⋯ displaystyle exc0c1xleftc2frac c02rightx2leftc3frac c12rightx3leftc4frac c22frac c04rightx4cdots  values c displaystyle ci found comparison coefficients top expression e x displaystyle ex  yielding e x cos \\u2061 x  1  x  x 2  2 x 3 3  x 4 2  ⋯  displaystyle frac excos x1xx2frac 2x33frac x42cdots  Third exampleedit employ method called indirect expansion expand given function method uses known Taylor expansion exponential function order expand 1  xex Taylor series x use known Taylor series function ex e x  ∑ n  0 ∞ x n n   1  x  x 2 2   x 3 3   x 4 4   ⋯  displaystyle exsum n0infty frac xnn1xfrac x22frac x33frac x44cdots  Thus  1  x  e x  e x  x e x  ∑ n  0 ∞ x n n   ∑ n  0 ∞ x n  1 n   1  ∑ n  1 ∞ x n n   ∑ n  0 ∞ x n  1 n   1  ∑ n  1 ∞ x n n   ∑ n  1 ∞ x n  n − 1    1  ∑ n  1 ∞  1 n   1  n − 1    x n  1  ∑ n  1 ∞ n  1 n  x n  ∑ n  0 ∞ n  1 n  x n  displaystyle beginaligned1xexexxexsum n0infty frac xnnsum n0infty frac xn1n1sum n1infty frac xnnsum n0infty frac xn1n1sum n1infty frac xnnsum n1infty frac xnn11sum n1infty leftfrac 1nfrac 1n1rightxn1sum n1infty frac n1nxnsum n0infty frac n1nxnendaligned Taylor series definitionsedit Classically algebraic functions defined algebraic equation transcendental functions including discussed above defined property holds them differential equation example exponential function function equal derivative everywhere assumes value 1 origin However one may equally well define analytic function Taylor series Taylor series used define functions operators diverse areas mathematics particular true areas classical definitions functions break down example using Taylor series one may extend analytic functions sets matrices operators matrix exponential matrix logarithm areas formal analysis convenient work directly power series themselves Thus one may define solution differential equation power series which one hopes prove Taylor series desired solution Taylor series several variablesedit Taylor series may also generalized functions one variable with1415  x 1  …  x   ∑ n 1  0 ∞ ⋯ ∑ n  0 ∞  x 1 − 1  n 1 ⋯  x −  n n 1  ⋯ n   ∂ n 1  ⋯  n f ∂ x 1 n 1 ⋯ ∂ x n   1  …    f  1  …    ∑ j  1 ∂ f  1  …   ∂ x j  x j − j   1 2  ∑ j  1 ∑ k  1 ∂ 2 f  1  …   ∂ x j ∂ x k  x j − j   x k − k   1 3  ∑ j  1 ∑ k  1 ∑ l  1 ∂ 3 f  1  …   ∂ x j ∂ x k ∂ x l  x j − j   x k − k   x l − l   ⋯ displaystyle beginalignedTx1ldots xdsum n10infty cdots sum nd0infty frac x1a1n1cdots xdadndn1cdots ndleftfrac partial n1cdots ndfpartial x1n1cdots partial xdndrighta1ldots adfa1ldots adsum j1dfrac partial fa1ldots adpartial xjxjajfrac 12sum j1dsum k1dfrac partial 2fa1ldots adpartial xjpartial xkxjajxkakqquad qquad frac 13sum j1dsum k1dsum l1dfrac partial 3fa1ldots adpartial xjpartial xkpartial xlxjajxkakxlalcdots endaligned example function f  x   displaystyle fxy depends two variables x y Taylor series second order point a b f   b    x −  f x   b    − b  f   b   1 2    x −  2 f x x   b   2  x −   − b  f x   b    − b  2 f   b   displaystyle fabxafxabybfyabfrac 12Big xa2fxxab2xaybfxyabyb2fyyabBig  subscripts denote respective partial derivatives Secondorder Taylor series several variablesedit See also Linearization § Multivariable functions secondorder Taylor series expansion scalarvalued function one variable written compactly  x   f     x −  f    1 2   x −   2 f     x −   ⋯  displaystyle Tmathbf x fmathbf a mathbf x mathbf a mathsf TDfmathbf a frac 12mathbf x mathbf a mathsf TleftD2fmathbf a rightmathbf x mathbf a cdots  f a gradient f evaluated x  D2 f a Hessian matrix Applying multiindex notation Taylor series several variables becomes  x   ∑  α  ≥ 0  x −  α α   ∂ α f     displaystyle Tmathbf x sum alpha geq 0frac mathbf x mathbf a alpha alpha leftmathrm partial  alpha frightmathbf a  understood still abbreviated multiindex version first equation paragraph full analogy single variable case Exampleedit Secondorder Taylor series approximation in orange function f xy  ex ln1  y around origin order compute secondorder Taylor series expansion around point a b  0 0 function f  x    e x ln \\u2061  1    displaystyle fxyexln1y one first computes necessary partial derivatives f x  e x ln \\u2061  1   f  e x 1  f x x  e x ln \\u2061  1   f  − e x  1   2 f x  f x  e x 1   displaystyle beginalignedfxexln1y6ptfyfrac ex1y6ptfxxexln1y6ptfyyfrac ex1y26ptfxyfyxfrac ex1yendaligned Evaluating derivatives origin gives Taylor coefficients f x  0  0   0 f  0  0   1 f x x  0  0   0 f  0  0   − 1 f x  0  0   f x  0  0   1 displaystyle beginalignedfx000fy001fxx000fyy001fxy00fyx001endaligned Substituting values general formula  x    f   b    x −  f x   b    − b  f   b   1 2    x −  2 f x x   b   2  x −   − b  f x   b    − b  2 f   b    ⋯ displaystyle beginalignedTxyfabxafxabybfyabfrac 12leftxa2fxxab2xaybfxyabyb2fyyabrightcdots endaligned produces  x    0  0  x − 0   1  − 0   1 2  0  x − 0  2  2  x − 0   − 0    − 1   − 0  2   ⋯   x − 1 2 2  ⋯ displaystyle beginalignedTxy00x01y0frac 12big 0x022x0y01y02big cdots yxytfrac 12y2cdots endaligned Since ln1  y analytic y  1 e x ln \\u2061  1     x − 1 2 2  ⋯     1 displaystyle exln1yyxytfrac 12y2cdots qquad y1 Comparison Fourier seriesedit Main article Fourier series trigonometric Fourier series enables one express periodic function or function defined closed interval ab infinite sum trigonometric functions sines cosines sense Fourier series analogous Taylor series since latter allows one express function infinite sum powers Nevertheless two series differ several relevant issues finite truncations Taylor series f x point x  exactly equal f a contrast Fourier series computed integrating entire interval generally point finite truncations series exact computation Taylor series requires knowledge function arbitrary small neighbourhood point whereas computation Fourier series requires knowing function whole domain interval certain sense one could say Taylor series local Fourier series global Taylor series defined function infinitely many derivatives single point whereas Fourier series defined integrable function particular function could nowhere differentiable For example f x could Weierstrass function convergence series different properties Even Taylor series positive convergence radius resulting series may coincide function function analytic series converges pointwise function uniformly every compact subset convergence interval Concerning Fourier series function squareintegrable series converges quadratic mean additional requirements needed ensure pointwise uniform convergence for instance function periodic class C1 convergence uniform Finally practice one wants approximate function finite number terms say Taylor polynomial partial sum trigonometric series respectively case Taylor series error small neighbourhood point computed may large distant point case Fourier series error distributed along domain function See alsoedit Asymptotic expansion Generating function Laurent series Madhava series Newtons divided difference interpolation Padé approximant Puiseux series Shift operator Notesedit  Thomas  Finney 1996 §89  Lindberg David 2007 Beginnings Western Science 2nd ed University Chicago Press p 33 ISBN 9780226482057  Kline M 1990 Mathematical Thought Ancient Modern Times New York Oxford University Press pp 35–37 ISBN 0195061357  Boyer C Merzbach U 1991 History Mathematics Second revised ed John Wiley Sons pp 202–203 ISBN 0471097632  Neither Newton Leibniz – PreHistory Calculus Celestial Mechanics Medieval Kerala PDF MAT 314 Canisius College Archived PDF original 20150223 Retrieved 20060709  S G Dani 2012 Ancient Indian Mathematics – Conspectus Resonance 17 3 236–246 doi101007s120450120022y S2CID 120553186  Turnbull Herbert Westren ed 1939 James Gregory Tercentenary Memorial Volume G Bell  Sons pp 168–174Roy Ranjan 1990 The Discovery Series Formula π Leibniz Gregory Nilakantha PDF Mathematics Magazine 63 5 291–306 doi1010800025570X199011977541Malet Antoni 1993 James Gregorie Tangents Taylor Rule Series Expansions Archive History Exact Sciences 46 2 97–137 doi101007BF00375656 JSTOR 41133959  Taylor Brook 1715 Methodus Incrementorum Directa et Inversa Direct Reverse Methods Incrementation in Latin London p 21–23 Prop VII Thm 3 Cor 2 Translated English Struik D J 1969 Source Book Mathematics 1200–1800 Harvard University Press pp 329–332 ISBN 9780674823556 Retranslated English Ian Bruce 2007 Methodus Incrementorum Directa  Inversa 17centurymathscomFeigenbaum L 1985 Brook Taylor method increments Archive History Exact Sciences 34 1–2 1–140 doi101007bf00329903  Rudin Walter 1980 Real Complex Analysis New Delhi McGrawHill p 418 Exercise 13 ISBN 0070995575  Feller William 2003 1971 introduction probability theory applications Vol 2 3rd ed Wiley pp 230–2 ISBN 9789971512989 OCLC 818811840  Hille Einar Phillips Ralph S 1957 Functional analysis semigroups AMS Colloquium Publications vol 31 American Mathematical Society pp 300–327  Feller 2003 p 231  found Abramowitz  Stegun 1970  Hörmander Lars 2002 1990 1 Test Functions §11 review Differential Calculus analysis partial differential operators Vol 1 2nd ed Springer Eqq 117 117′ doi10100797836426149722 ISBN 9783642614972  Kolk Johan AC Duistermaat JJ 2010 Taylor Expansion Several Variables Distributions Theory applications Birkhauser pp 59–63 doi10100797808176467526 ISBN 9780817646721 Referencesedit Abramowitz Milton Stegun Irene A 1970 Handbook Mathematical Functions Formulas Graphs Mathematical Tables New York Dover Publications Ninth printing Thomas George B Jr Finney Ross L 1996 Calculus Analytic Geometry 9th ed Addison Wesley ISBN 0201531747 Greenberg Michael 1998 Advanced Engineering Mathematics 2nd ed Prentice Hall ISBN 0133214311 Roy Ranjan 2021 1st ed 2011 Series Products Development Mathematics Vol 1 2nd ed Cambridge University Press External linksedit Taylor series Wikipedias sister projects Definitions WiktionaryMedia CommonsTextbooks WikibooksResources WikiversityData Wikidata Taylor series Encyclopedia Mathematics EMS Press 2001 1994 Weisstein Eric W Taylor Series MathWorld vteSequences seriesInteger sequencesBasic Arithmetic progression Geometric progression Harmonic progression Square number Cubic number Factorial Powers two Powers three Powers 10 Advanced list Complete sequence Fibonacci sequence Figurate number Heptagonal number Hexagonal number Lucas number Pell number Pentagonal number Polygonal number Triangular number Properties sequences Cauchy sequence Monotonic function Periodic sequence Properties seriesSeries Alternating Convergent Divergent Telescoping Convergence Absolute Conditional Uniform Explicit seriesConvergent 12 − 14  18 − 116  ⋯ 12  14  18  116  ⋯ 14  116  164  1256  ⋯ 1  12s  13s   Riemann zeta function Divergent 1  1  1  1  ⋯ 1 − 1  1 − 1  ⋯ Grandis series 1  2  3  4  ⋯ 1 − 2  3 − 4  ⋯ 1  2  4  8  ⋯ 1 − 2  4 − 8  ⋯ Infinite arithmetic series 1 − 1  2 − 6  24 − 120  ⋯ alternating factorials 1  12  13  14  ⋯ harmonic series 12  13  15  17  111  ⋯ inverses primes Kinds series Taylor series Power series Formal power series Laurent series Puiseux series Dirichlet series Trigonometric series Fourier series Generating series Hypergeometric series Generalized hypergeometric series Hypergeometric function matrix argument Lauricella hypergeometric series Modular hypergeometric series Riemanns differential equation Theta hypergeometric series Category Authority control National Germany Israel United States Retrieved httpsenwikipediaorgwindexphptitleTaylorseriesoldid1160563635 Categories Real analysisComplex analysisSeries expansionsHidden categories CS1 Latinlanguage sources laArticles short descriptionShort description different WikidataGood articlesPages using sidebar child parameterPages using Sister project links hidden wikidataArticles GND identifiersArticles J9U identifiersArticles LCCN identifiers page last edited 17 June 2023 0939 UTC Text available Creative Commons AttributionShareAlike License 40 additional terms may apply using site agree Terms Use Privacy Policy Wikipedia® registered trademark Wikimedia Foundation Inc nonprofit organization Privacy policy Wikipedia Disclaimers Contact Wikipedia Code Conduct Mobile view Developers Statistics Cookie statement Toggle limited content width'"
      ]
     },
     "execution_count": 41,
     "metadata": {},
     "output_type": "execute_result"
    }
   ],
   "source": [
    "#filtered dataframe\n",
    "df[\"Text\"][0]"
   ]
  },
  {
   "cell_type": "code",
   "execution_count": null,
   "id": "3e7dacef-7b5e-4ac4-9514-169973abe397",
   "metadata": {},
   "outputs": [],
   "source": []
  }
 ],
 "metadata": {
  "kernelspec": {
   "display_name": "Python 3 (ipykernel)",
   "language": "python",
   "name": "python3"
  },
  "language_info": {
   "codemirror_mode": {
    "name": "ipython",
    "version": 3
   },
   "file_extension": ".py",
   "mimetype": "text/x-python",
   "name": "python",
   "nbconvert_exporter": "python",
   "pygments_lexer": "ipython3",
   "version": "3.10.11"
  }
 },
 "nbformat": 4,
 "nbformat_minor": 5
}
