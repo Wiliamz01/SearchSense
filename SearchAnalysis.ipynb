{
 "cells": [
  {
   "cell_type": "code",
   "execution_count": 13,
   "id": "be0a22b4-8ee2-4ff9-afd6-ec408d9c905c",
   "metadata": {},
   "outputs": [],
   "source": [
    "#imports\n",
    "import requests #send HTTP requests to web pages and retrieve their content\n",
    "from bs4 import BeautifulSoup\n",
    "from nltk.tokenize import word_tokenize\n",
    "from nltk.stem import PorterStemmer\n",
    "from sklearn.feature_extraction.text import TfidfVectorizer\n",
    "import nltk\n",
    "import pandas as pd\n",
    "from nltk.corpus import stopwords\n",
    "import string"
   ]
  },
  {
   "cell_type": "code",
   "execution_count": 14,
   "id": "cf32bf2a-fe64-40af-b413-4f2737bbc288",
   "metadata": {},
   "outputs": [
    {
     "name": "stderr",
     "output_type": "stream",
     "text": [
      "[nltk_data] Downloading package punkt to /home/william/nltk_data...\n",
      "[nltk_data]   Package punkt is already up-to-date!\n",
      "[nltk_data] Downloading package stopwords to\n",
      "[nltk_data]     /home/william/nltk_data...\n",
      "[nltk_data]   Unzipping corpora/stopwords.zip.\n"
     ]
    },
    {
     "data": {
      "text/plain": [
       "True"
      ]
     },
     "execution_count": 14,
     "metadata": {},
     "output_type": "execute_result"
    }
   ],
   "source": [
    "import ssl\n",
    "#ssl._create_default_https_context = ssl._create_unverified_context\n",
    "#uncomment if you cannot properly download punkt\n",
    "\n",
    "nltk.download('punkt')\n",
    "#ssl._create_default_https_context = ssl._create_default_https_context\n",
    "#uncomment if you cannot properly download punkt\n",
    "\n",
    "#remove filler words from an example column\n",
    "nltk.download(\"stopwords\")"
   ]
  },
  {
   "cell_type": "code",
   "execution_count": 15,
   "id": "33389f58-1ef9-4479-a428-364bf38afa08",
   "metadata": {},
   "outputs": [
    {
     "name": "stderr",
     "output_type": "stream",
     "text": [
      "Some characters could not be decoded, and were replaced with REPLACEMENT CHARACTER.\n"
     ]
    }
   ],
   "source": [
    "import pandas as pd\n",
    "import requests\n",
    "from bs4 import BeautifulSoup\n",
    "from urllib.parse import urlparse, urljoin\n",
    "\n",
    "# Step 1: Define the search query and retrieve search results\n",
    "search_query = input(\"What would you like to search up?\")\n",
    "search_engine_url = \"https://www.google.com/search?q=\"\n",
    "\n",
    "# Set headers to mimic a browser request\n",
    "headers = {\n",
    "    \"User-Agent\": \"Mozilla/5.0 (Windows NT 10.0; Win64; x64) AppleWebKit/537.36 (KHTML, like Gecko) Chrome/91.0.4472.124 Safari/537.36\"\n",
    "}\n",
    "\n",
    "# Number of search result pages to retrieve (each page typically has 10 results)\n",
    "num_pages = 2\n",
    "\n",
    "search_results = []\n",
    "for page in range(num_pages):\n",
    "    # Calculate the start index for the current page\n",
    "    start_index = page * 10\n",
    "\n",
    "    # Make a GET request to retrieve the search result page\n",
    "    response = requests.get(search_engine_url + search_query + f\"&start={start_index}\", headers=headers)\n",
    "\n",
    "    # Step 2: Parse and extract information from the search result page\n",
    "    soup = BeautifulSoup(response.content, \"html.parser\")\n",
    "\n",
    "    for result in soup.select(\"div.g\"):\n",
    "        title_element = result.select_one(\"h3\")\n",
    "        if title_element:\n",
    "            title = title_element.get_text()\n",
    "            url_element = result.find(\"a\")\n",
    "            if url_element:\n",
    "                url = url_element[\"href\"]\n",
    "                parsed_url = urlparse(url)\n",
    "                if parsed_url.scheme == \"\":\n",
    "                    # Relative URL, convert it to absolute URL\n",
    "                    base_url = response.url\n",
    "                    url = urljoin(base_url, url)\n",
    "\n",
    "            # Make a GET request to the URL of the search result\n",
    "            result_response = requests.get(url, headers=headers)\n",
    "\n",
    "            # Extract visible text content from the HTML response\n",
    "            result_soup = BeautifulSoup(result_response.content, \"html.parser\")\n",
    "            text = result_soup.get_text()\n",
    "\n",
    "            # Remove excess whitespace from the extracted text\n",
    "            text = ' '.join(text.split())\n",
    "\n",
    "            search_results.append({\"Title\": title, \"URL\": url, \"Text\": text})"
   ]
  },
  {
   "cell_type": "code",
   "execution_count": 16,
   "id": "ace71d1c-a252-4d3c-a969-7d90840edc84",
   "metadata": {},
   "outputs": [
    {
     "name": "stdout",
     "output_type": "stream",
     "text": [
      "20\n"
     ]
    },
    {
     "data": {
      "text/html": [
       "<div>\n",
       "<style scoped>\n",
       "    .dataframe tbody tr th:only-of-type {\n",
       "        vertical-align: middle;\n",
       "    }\n",
       "\n",
       "    .dataframe tbody tr th {\n",
       "        vertical-align: top;\n",
       "    }\n",
       "\n",
       "    .dataframe thead th {\n",
       "        text-align: right;\n",
       "    }\n",
       "</style>\n",
       "<table border=\"1\" class=\"dataframe\">\n",
       "  <thead>\n",
       "    <tr style=\"text-align: right;\">\n",
       "      <th></th>\n",
       "      <th>Title</th>\n",
       "      <th>URL</th>\n",
       "      <th>Text</th>\n",
       "    </tr>\n",
       "  </thead>\n",
       "  <tbody>\n",
       "    <tr>\n",
       "      <th>0</th>\n",
       "      <td>What is Artificial Intelligence (AI)</td>\n",
       "      <td>https://www.ibm.com/topics/artificial-intellig...</td>\n",
       "      <td>What is Artificial Intelligence (AI) ? | IBM W...</td>\n",
       "    </tr>\n",
       "    <tr>\n",
       "      <th>1</th>\n",
       "      <td>Artificial Intelligence (AI): What Is AI and H...</td>\n",
       "      <td>https://builtin.com/artificial-intelligence</td>\n",
       "      <td>Artificial Intelligence (AI): What Is AI and H...</td>\n",
       "    </tr>\n",
       "    <tr>\n",
       "      <th>2</th>\n",
       "      <td>What is artificial intelligence (AI)? - AI def...</td>\n",
       "      <td>https://www.techtarget.com/searchenterpriseai/...</td>\n",
       "      <td>What is artificial intelligence (AI)? - AI def...</td>\n",
       "    </tr>\n",
       "    <tr>\n",
       "      <th>3</th>\n",
       "      <td>What is artificial intelligence?</td>\n",
       "      <td>https://www.brookings.edu/research/what-is-art...</td>\n",
       "      <td>What is artificial intelligence? Skip to main ...</td>\n",
       "    </tr>\n",
       "    <tr>\n",
       "      <th>4</th>\n",
       "      <td>What Is AI? Learn About Artificial Intelligence</td>\n",
       "      <td>https://www.oracle.com/artificial-intelligence...</td>\n",
       "      <td>What is Artificial Intelligence (AI)? | Oracle...</td>\n",
       "    </tr>\n",
       "  </tbody>\n",
       "</table>\n",
       "</div>"
      ],
      "text/plain": [
       "                                               Title  \\\n",
       "0               What is Artificial Intelligence (AI)   \n",
       "1  Artificial Intelligence (AI): What Is AI and H...   \n",
       "2  What is artificial intelligence (AI)? - AI def...   \n",
       "3                   What is artificial intelligence?   \n",
       "4    What Is AI? Learn About Artificial Intelligence   \n",
       "\n",
       "                                                 URL  \\\n",
       "0  https://www.ibm.com/topics/artificial-intellig...   \n",
       "1        https://builtin.com/artificial-intelligence   \n",
       "2  https://www.techtarget.com/searchenterpriseai/...   \n",
       "3  https://www.brookings.edu/research/what-is-art...   \n",
       "4  https://www.oracle.com/artificial-intelligence...   \n",
       "\n",
       "                                                Text  \n",
       "0  What is Artificial Intelligence (AI) ? | IBM W...  \n",
       "1  Artificial Intelligence (AI): What Is AI and H...  \n",
       "2  What is artificial intelligence (AI)? - AI def...  \n",
       "3  What is artificial intelligence? Skip to main ...  \n",
       "4  What is Artificial Intelligence (AI)? | Oracle...  "
      ]
     },
     "execution_count": 16,
     "metadata": {},
     "output_type": "execute_result"
    }
   ],
   "source": [
    "df = pd.DataFrame(search_results)\n",
    "print(len(df))\n",
    "#unfiltered dataframe\n",
    "df.head()"
   ]
  },
  {
   "cell_type": "code",
   "execution_count": 17,
   "id": "a3caa3ab-5338-4946-9731-efa2f83cc71d",
   "metadata": {},
   "outputs": [],
   "source": [
    "stop_words = stopwords.words(\"english\") #english filler words\n",
    "\n",
    "def remove_stopwords(text):\n",
    "    '''\n",
    "    Input a text block and removes all filler words. Returns the filtered text block in the form of a str\n",
    "    '''\n",
    "    words = text.split()\n",
    "    filtered_words = [word for word in words if word.lower() not in stop_words]\n",
    "    return \" \".join(filtered_words)\n",
    "\n",
    "def remove_specialchars(text):\n",
    "    '''\n",
    "    Input a text block and removes all special characters. Returns the filtered text block in the form of a str\n",
    "    '''\n",
    "    cleaned_text = text.translate (str.maketrans('','', string.punctuation))\n",
    "    return cleaned_text"
   ]
  },
  {
   "cell_type": "code",
   "execution_count": 18,
   "id": "e28f1150-3f91-4e37-933b-2250302cbfd6",
   "metadata": {},
   "outputs": [
    {
     "name": "stdout",
     "output_type": "stream",
     "text": [
      "length of unfiltered text:  14820\n",
      "length of filtered text:  11851\n"
     ]
    }
   ],
   "source": [
    "example = df[\"Text\"][0]\n",
    "filtered_example = remove_stopwords(example)\n",
    "\n",
    "print(\"length of unfiltered text: \", len(example))\n",
    "print(\"length of filtered text: \", len(filtered_example))"
   ]
  },
  {
   "cell_type": "code",
   "execution_count": 19,
   "id": "d4372b92-65c2-4d2c-b446-70f1291fd72c",
   "metadata": {},
   "outputs": [],
   "source": [
    "#Properly using the apply() function onto a pandas column\n",
    "#removes both filler words and special characters\n",
    "df[\"Text\"] = df[\"Text\"].apply(remove_stopwords)\n",
    "df[\"Text\"] = df[\"Text\"].apply(remove_specialchars)"
   ]
  },
  {
   "cell_type": "code",
   "execution_count": 20,
   "id": "e247526b-2b89-42c3-ac86-50cdca58d322",
   "metadata": {},
   "outputs": [
    {
     "name": "stdout",
     "output_type": "stream",
     "text": [
      "11461\n"
     ]
    }
   ],
   "source": [
    "print(len(df[\"Text\"][0]))"
   ]
  },
  {
   "cell_type": "code",
   "execution_count": 23,
   "id": "abbe60f9-c954-4d21-af98-91cdee578452",
   "metadata": {},
   "outputs": [
    {
     "data": {
      "text/plain": [
       "'Artificial Intelligence AI   IBM artificial intelligence AI Artificial intelligence leverages computers machines mimic problemsolving decisionmaking capabilities human mind Explore watsonx Sign AI updates artificial intelligence number definitions artificial intelligence AI surfaced last decades John McCarthy offers following definition 2004 paper PDF 127 KB link resides outside IBM  science engineering making intelligent machines especially intelligent computer programs related similar task using computers understand human intelligence AI confine methods biologically observable However decades definition birth artificial intelligence conversation denoted Alan Turings seminal work Computing Machinery Intelligence PDF 92 KB link resides outside IBM published 1950 paper Turing often referred father computer science asks following question Can machines think there offers test famously known Turing Test human interrogator would try distinguish computer human text response test undergone much scrutiny since publish remains important part history AI well ongoing concept within philosophy utilizes ideas around linguistics Stuart Russell Peter Norvig proceeded publish Artificial Intelligence Modern Approach link resides outside IBM becoming one leading textbooks study AI it delve four potential goals definitions AI differentiates computer systems basis rationality thinking vs acting Human approach Systems think like humans Systems act like humans Ideal approach Systems think rationally Systems act rationally Alan Turing’s definition would fallen category “systems act like humans” simplest form artificial intelligence field combines computer science robust datasets enable problemsolving also encompasses subfields machine learning deep learning frequently mentioned conjunction artificial intelligence disciplines comprised AI algorithms seek create expert systems make predictions classifications based input data years artificial intelligence gone many cycles hype even skeptics release OpenAI’s ChatGPT seems mark turning point last time generative AI loomed large breakthroughs computer vision leap forward natural language processing it’s language Generative models also learn grammar software code molecules natural images variety data types applications technology growing every day we’re starting explore possibilities hype around use AI business takes off conversations around ethics become critically important read IBM stands within conversation around AI ethics read here IBMs point view AI Learn thrive new era AI trust confidence 37 MB Read Meet watsonxai Magic Quadrant Enterprise Conversational AI Platforms 2023 IBM Watson Orchestrate IBM Watson Assistant Types artificial intelligence—weak AI vs strong AI Weak AI—also called Narrow AI Artificial Narrow Intelligence ANI—is AI trained focused perform specific tasks Weak AI drives AI surrounds us today ‘Narrow’ might accurate descriptor type AI anything weak enables robust applications Apples Siri Amazons Alexa IBM Watson autonomous vehicles Strong AI made Artificial General Intelligence AGI Artificial Super Intelligence ASI Artificial general intelligence AGI general AI theoretical form AI machine would intelligence equaled humans would selfaware consciousness ability solve problems learn plan future Artificial Super Intelligence ASI—also known superintelligence—would surpass intelligence ability human brain strong AI still entirely theoretical practical examples use today mean AI researchers also exploring development meantime best examples ASI might science fiction HAL superhuman rogue computer assistant 2001 Space Odyssey Deep learning vs machine learning Since deep learning machine learning tend used interchangeably it’s worth noting nuances two mentioned above deep learning machine learning subfields artificial intelligence deep learning actually subfield machine learning Deep learning actually comprised neural networks “Deep” deep learning refers neural network comprised three layers—which would inclusive inputs output—can considered deep learning algorithm generally represented using diagram below way deep learning machine learning differ algorithm learns Deep learning automates much feature extraction piece process eliminating manual human intervention required enabling use larger data sets think deep learning scalable machine learning Lex Fridman noted MIT lecture above Classical nondeep machine learning dependent human intervention learn Human experts determine hierarchy features understand differences data inputs usually requiring structured data learn Deep machine learning leverage labeled datasets also known supervised learning inform algorithm doesn’t necessarily require labeled dataset ingest unstructured data raw form eg text images automatically determine hierarchy features distinguish different categories data one another Unlike machine learning require human intervention process data allowing us scale machine learning interesting ways rise generative models Generative AI refers deeplearning models take raw data — say Wikipedia collected works Rembrandt — “learn” generate statistically probable outputs prompted high level generative models encode simplified representation training data draw create new work that’s similar identical original data Generative models used years statistics analyze numerical data rise deep learning however made possible extend images speech complex data types Among first class models achieve crossover feat variational autoencoders VAEs introduced 2013 VAEs first deeplearning models widely used generating realistic images speech “VAEs opened floodgates deep generative modeling making models easier scale” said Akash Srivastava expert generative AI MITIBM Watson AI Lab “Much think today generative AI started here” Early examples models like GPT3 BERT DALLE 2 shown what’s possible future models trained broad set unlabeled data used different tasks minimal finetuning Systems execute specific tasks single domain giving way broad AI learns generally works across domains problems Foundation models trained large unlabeled datasets finetuned array applications driving shift comes generative AI predicted foundation models dramatically accelerate AI adoption enterprise Reducing labeling requirements make much easier businesses dive in highly accurate efficient AIdriven automation enable mean far companies able deploy AI wider range missioncritical situations IBM hope power foundation models eventually brought every enterprise frictionless hybridcloud environment Artificial intelligence applications numerous realworld applications AI systems today common use cases Speech recognition also known automatic speech recognition ASR computer speech recognition speechtotext capability uses natural language processing NLP process human speech written format Many mobile devices incorporate speech recognition systems conduct voice search—eg Siri—or provide accessibility around texting Customer service Online virtual agents replacing human agents along customer journey answer frequently asked questions FAQs around topics like shipping provide personalized advice crossselling products suggesting sizes users changing way think customer engagement across websites social media platforms Examples include messaging bots ecommerce sites virtual agents messaging apps Slack Facebook Messenger tasks usually done virtual assistants voice assistants Computer vision AI technology enables computers systems derive meaningful information digital images videos visual inputs based inputs take action ability provide recommendations distinguishes image recognition tasks Powered convolutional neural networks computer vision applications within photo tagging social media radiology imaging healthcare selfdriving cars within automotive industry Recommendation engines Using past consumption behavior data AI algorithms help discover data trends used develop effective crossselling strategies used make relevant addon recommendations customers checkout process online retailers Automated stock trading Designed optimize stock portfolios AIdriven highfrequency trading platforms make thousands even millions trades per day without human intervention History artificial intelligence Key dates names idea a machine thinks dates back ancient Greece since advent electronic computing and relative topics discussed article important events milestones evolution artificial intelligence include following 1950 Alan Turing publishes Computing Machinery Intelligence paper Turing—famous breaking Nazis ENIGMA code WWII—proposes answer question can machines think introduces Turing Test determine computer demonstrate intelligence or results intelligence human value Turing test debated ever since 1956 John McCarthy coins term artificial intelligence firstever AI conference Dartmouth College McCarthy would go invent Lisp language Later year Allen Newell JC Shaw Herbert Simon create Logic Theorist firstever running AI software program 1967 Frank Rosenblatt builds Mark 1 Perceptron first computer based neural network learned though trial error year later Marvin Minsky Seymour Papert publish book titled Perceptrons becomes landmark work neural networks and least while argument future neural network research projects 1980s Neural networks use backpropagation algorithm train become widely used AI applications 1997 IBMs Deep Blue beats world chess champion Garry Kasparov chess match and rematch 2011 IBM Watson beats champions Ken Jennings Brad Rutter Jeopardy 2015 Baidus Minwa supercomputer uses special kind deep neural network called convolutional neural network identify categorize images higher rate accuracy average human 2016 DeepMinds AlphaGo program powered deep neural network beats Lee Sodol world champion Go player fivegame match victory significant given huge number possible moves game progresses over 145 trillion four moves Later Google purchased DeepMind reported USD 400 million 2023 rise large language models LLMs ChatGPT create enormous change performance AI potential drive enterprise value new generative AI practices deeplearning models pretrained vast amounts raw unlabeled data Related solutions Artificial Intelligence AI solutions Put AI work business IBM’s industryleading AI expertise portfolio solutions side Explore AI solutions AI services Reinvent critical workflows operations adding AI maximize experiences decisionmaking business value Explore AI services AI cybersecurity AI changing game cybersecurity analyzing massive quantities risk data speed response times augment underresourced security operations Explore AI cybersecurity Resources Ebook Download Artificial Intelligence ebook Discover fresh insights opportunities challenges lessons learned infusing AI businesses Training Save 70 digital learning subscription Access full catalog 100 online courses purchasing individual multiuser digital learning subscription today allowing expand skills across range products one low price Market research Magic Quadrant Enterprise Conversational AI Platforms 2023 IBM recognized Leader 2023 Gartner® Magic Quadrant™ Enterprise Conversational AI Register report Take next step IBM leader advancing AIdriven technologies enterprises pioneered future machine learning systems multiple industries Learn IBM Watson gives enterprises AI tools need transform business systems workflows significantly improving automation efficiency Explore AI solutions'"
      ]
     },
     "execution_count": 23,
     "metadata": {},
     "output_type": "execute_result"
    }
   ],
   "source": [
    "#filtered dataframe\n",
    "df[\"Text\"][0]"
   ]
  },
  {
   "cell_type": "code",
   "execution_count": null,
   "id": "3e7dacef-7b5e-4ac4-9514-169973abe397",
   "metadata": {},
   "outputs": [],
   "source": []
  }
 ],
 "metadata": {
  "kernelspec": {
   "display_name": "Python 3 (ipykernel)",
   "language": "python",
   "name": "python3"
  },
  "language_info": {
   "codemirror_mode": {
    "name": "ipython",
    "version": 3
   },
   "file_extension": ".py",
   "mimetype": "text/x-python",
   "name": "python",
   "nbconvert_exporter": "python",
   "pygments_lexer": "ipython3",
   "version": "3.11.2"
  }
 },
 "nbformat": 4,
 "nbformat_minor": 5
}
